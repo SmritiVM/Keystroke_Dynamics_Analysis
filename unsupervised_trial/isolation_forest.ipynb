{
 "cells": [
  {
   "cell_type": "code",
   "execution_count": 1,
   "metadata": {},
   "outputs": [
    {
     "name": "stderr",
     "output_type": "stream",
     "text": [
      "C:\\Users\\skhim\\AppData\\Local\\Temp\\ipykernel_24072\\1442889174.py:4: DeprecationWarning: \n",
      "Pyarrow will become a required dependency of pandas in the next major release of pandas (pandas 3.0),\n",
      "(to allow more performant data types, such as the Arrow string type, and better interoperability with other libraries)\n",
      "but was not found to be installed on your system.\n",
      "If this would cause problems for you,\n",
      "please provide us feedback at https://github.com/pandas-dev/pandas/issues/54466\n",
      "        \n",
      "  import pandas as pd\n"
     ]
    }
   ],
   "source": [
    "# Import necessary libraries\n",
    "import numpy as np\n",
    "from sklearn.ensemble import IsolationForest\n",
    "import pandas as pd\n",
    "\n"
   ]
  },
  {
   "cell_type": "code",
   "execution_count": 2,
   "metadata": {},
   "outputs": [],
   "source": [
    "df=pd.read_csv('keystrokes_unlabelled.csv')"
   ]
  },
  {
   "cell_type": "code",
   "execution_count": 4,
   "metadata": {},
   "outputs": [
    {
     "data": {
      "text/plain": [
       "array([[0.06389213, 0.06548691, 0.27017784, ..., 0.19145274, 0.        ,\n",
       "        0.        ],\n",
       "       [0.04494572, 0.12423682, 1.08353782, ..., 0.18031001, 0.        ,\n",
       "        0.        ],\n",
       "       [0.05611873, 0.09387302, 0.46452189, ..., 0.18774247, 2.        ,\n",
       "        0.        ],\n",
       "       ...,\n",
       "       [0.08184624, 0.09534287, 0.1978662 , ..., 0.21710086, 0.        ,\n",
       "        0.        ],\n",
       "       [0.08114052, 0.10931969, 0.33868432, ..., 0.23655939, 1.        ,\n",
       "        2.        ],\n",
       "       [0.06738091, 0.11844945, 0.25466657, ..., 0.25571656, 0.        ,\n",
       "        2.        ]])"
      ]
     },
     "execution_count": 4,
     "metadata": {},
     "output_type": "execute_result"
    }
   ],
   "source": [
    "keystroke_data = df.values[:, :]\n",
    "keystroke_data"
   ]
  },
  {
   "cell_type": "code",
   "execution_count": 14,
   "metadata": {},
   "outputs": [
    {
     "name": "stdout",
     "output_type": "stream",
     "text": [
      "Outlier predictions: [ 1  1  1  1  1  1  1  1  1  1  1  1  1  1  1  1  1  1  1  1  1  1  1  1\n",
      "  1  1  1  1  1  1  1  1  1  1  1  1  1  1  1  1  1  1  1  1  1  1  1  1\n",
      "  1  1  1  1  1  1  1  1  1  1  1  1  1  1  1  1  1  1  1  1  1  1  1  1\n",
      "  1  1  1  1 -1  1  1  1  1  1  1  1  1  1  1  1  1  1  1  1  1  1  1  1\n",
      "  1  1  1  1 -1  1 -1 -1]\n"
     ]
    }
   ],
   "source": [
    "\n",
    "# Initialize and fit the Isolation Forest model\n",
    "# Contamination parameter represents the expected proportion of outliers in the dataset\n",
    "# Adjust this parameter based on the characteristics of your dataset\n",
    "isolation_forest = IsolationForest(contamination=0.038)  # 5% of data considered outliers\n",
    "isolation_forest.fit(keystroke_data)\n",
    "\n",
    "# Predict outliers/anomalies\n",
    "# Outliers are labeled as -1, and inliers are labeled as 1\n",
    "outlier_predictions = isolation_forest.predict(keystroke_data)\n",
    "\n",
    "# Print the outlier predictions (-1 for outliers, 1 for inliers)\n",
    "print(\"Outlier predictions:\", outlier_predictions)\n"
   ]
  },
  {
   "cell_type": "code",
   "execution_count": 15,
   "metadata": {},
   "outputs": [
    {
     "name": "stdout",
     "output_type": "stream",
     "text": [
      "0.9807692307692307\n"
     ]
    }
   ],
   "source": [
    "correct = [1] * 100+ [-1]* 4\n",
    "predicted = list(outlier_predictions)\n",
    "accuracy = 0\n",
    "total = 0\n",
    "for c, p in zip(correct, predicted):\n",
    "    if c == p:\n",
    "        accuracy += 1\n",
    "    total += 1\n",
    "print(accuracy/total)"
   ]
  }
 ],
 "metadata": {
  "kernelspec": {
   "display_name": "Python 3",
   "language": "python",
   "name": "python3"
  },
  "language_info": {
   "codemirror_mode": {
    "name": "ipython",
    "version": 3
   },
   "file_extension": ".py",
   "mimetype": "text/x-python",
   "name": "python",
   "nbconvert_exporter": "python",
   "pygments_lexer": "ipython3",
   "version": "3.10.9"
  }
 },
 "nbformat": 4,
 "nbformat_minor": 2
}
