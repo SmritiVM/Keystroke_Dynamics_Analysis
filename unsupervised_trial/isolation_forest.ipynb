{
 "cells": [
  {
   "cell_type": "code",
   "execution_count": 7,
   "metadata": {},
   "outputs": [],
   "source": [
    "# Import necessary libraries\n",
    "import numpy as np\n",
    "from sklearn.ensemble import IsolationForest\n",
    "import pandas as pd\n",
    "\n"
   ]
  },
  {
   "cell_type": "code",
   "execution_count": 8,
   "metadata": {},
   "outputs": [],
   "source": [
    "df=pd.read_csv('keystroke_data.csv')"
   ]
  },
  {
   "cell_type": "code",
   "execution_count": 9,
   "metadata": {},
   "outputs": [
    {
     "data": {
      "text/plain": [
       "array([[0.063892126, 0.065486908, 0.270177841, ..., 0.191452742, 0, 0],\n",
       "       [0.044945717, 0.124236822, 1.083537817, ..., 0.180310011, 0, 0],\n",
       "       [0.056118727, 0.093873024, 0.464521885, ..., 0.187742472, 2, 0],\n",
       "       ...,\n",
       "       [0.086549282, 0.091938019, 1.8341043, ..., 0.272868156, 0, 2],\n",
       "       [0.130959988, 0.086941957, 0.32938385, ..., 0.254498005, 0, 0],\n",
       "       [0.087309837, 0.085243225, 0.304038048, ..., 0.326015472, 0, 0]],\n",
       "      dtype=object)"
      ]
     },
     "execution_count": 9,
     "metadata": {},
     "output_type": "execute_result"
    }
   ],
   "source": [
    "keystroke_data = df.values[:, 2:]\n",
    "keystroke_data"
   ]
  },
  {
   "cell_type": "code",
   "execution_count": 10,
   "metadata": {},
   "outputs": [
    {
     "name": "stdout",
     "output_type": "stream",
     "text": [
      "Outlier predictions: [ 1  1  1 -1 -1  1  1  1  1  1  1  1  1  1  1  1  1  1  1  1  1  1  1  1\n",
      "  1  1  1  1  1  1  1  1  1  1 -1  1  1  1  1  1  1  1  1  1  1 -1  1  1\n",
      " -1  1 -1  1  1  1  1  1  1  1  1  1  1  1  1  1  1  1  1  1  1  1 -1 -1\n",
      "  1  1]\n"
     ]
    }
   ],
   "source": [
    "\n",
    "# Initialize and fit the Isolation Forest model\n",
    "# Contamination parameter represents the expected proportion of outliers in the dataset\n",
    "# Adjust this parameter based on the characteristics of your dataset\n",
    "isolation_forest = IsolationForest(contamination=0.1)  # 10% of data considered outliers\n",
    "isolation_forest.fit(keystroke_data)\n",
    "\n",
    "# Predict outliers/anomalies\n",
    "# Outliers are labeled as -1, and inliers are labeled as 1\n",
    "outlier_predictions = isolation_forest.predict(keystroke_data)\n",
    "\n",
    "# Print the outlier predictions (-1 for outliers, 1 for inliers)\n",
    "print(\"Outlier predictions:\", outlier_predictions)\n"
   ]
  }
 ],
 "metadata": {
  "kernelspec": {
   "display_name": "Python 3",
   "language": "python",
   "name": "python3"
  },
  "language_info": {
   "codemirror_mode": {
    "name": "ipython",
    "version": 3
   },
   "file_extension": ".py",
   "mimetype": "text/x-python",
   "name": "python",
   "nbconvert_exporter": "python",
   "pygments_lexer": "ipython3",
   "version": "3.10.9"
  }
 },
 "nbformat": 4,
 "nbformat_minor": 2
}
