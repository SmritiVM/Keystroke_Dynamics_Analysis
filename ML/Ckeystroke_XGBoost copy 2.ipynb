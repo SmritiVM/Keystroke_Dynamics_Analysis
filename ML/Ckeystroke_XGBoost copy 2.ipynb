{
 "cells": [
  {
   "cell_type": "code",
   "execution_count": 1,
   "metadata": {},
   "outputs": [
    {
     "name": "stderr",
     "output_type": "stream",
     "text": [
      "C:\\Users\\skhim\\AppData\\Local\\Temp\\ipykernel_16632\\2118068402.py:3: DeprecationWarning: \n",
      "Pyarrow will become a required dependency of pandas in the next major release of pandas (pandas 3.0),\n",
      "(to allow more performant data types, such as the Arrow string type, and better interoperability with other libraries)\n",
      "but was not found to be installed on your system.\n",
      "If this would cause problems for you,\n",
      "please provide us feedback at https://github.com/pandas-dev/pandas/issues/54466\n",
      "        \n",
      "  import pandas as pd\n"
     ]
    }
   ],
   "source": [
    "# Necessary imports \n",
    "import numpy as np \n",
    "import pandas as pd \n",
    "import xgboost as xgb\n",
    "from sklearn.preprocessing import MinMaxScaler\n",
    "from sklearn.datasets import load_iris\n",
    "from sklearn.model_selection import train_test_split\n",
    "from sklearn.metrics import accuracy_score, classification_report"
   ]
  },
  {
   "cell_type": "code",
   "execution_count": 2,
   "metadata": {},
   "outputs": [],
   "source": [
    "df=pd.read_csv('keystroke_data.csv')"
   ]
  },
  {
   "cell_type": "code",
   "execution_count": 3,
   "metadata": {},
   "outputs": [],
   "source": [
    "subjects = df['name'].unique()"
   ]
  },
  {
   "cell_type": "code",
   "execution_count": 4,
   "metadata": {},
   "outputs": [],
   "source": [
    "subjects_to_int = {subject: i  for i, subject in enumerate(subjects)}\n",
    "int_to_subjects = {i: subject for i, subject in enumerate(subjects)}"
   ]
  },
  {
   "cell_type": "code",
   "execution_count": 5,
   "metadata": {},
   "outputs": [
    {
     "name": "stderr",
     "output_type": "stream",
     "text": [
      "C:\\Users\\skhim\\AppData\\Local\\Temp\\ipykernel_16632\\1725018810.py:1: FutureWarning: Downcasting behavior in `replace` is deprecated and will be removed in a future version. To retain the old behavior, explicitly call `result.infer_objects(copy=False)`. To opt-in to the future behavior, set `pd.set_option('future.no_silent_downcasting', True)`\n",
      "  df = df.replace(subjects_to_int)\n"
     ]
    }
   ],
   "source": [
    "df = df.replace(subjects_to_int)"
   ]
  },
  {
   "cell_type": "code",
   "execution_count": 6,
   "metadata": {},
   "outputs": [],
   "source": [
    "# Drop backspaces and caps_lock column\n",
    "df = df.drop(['backspaces', 'caps_lock'], axis=1)"
   ]
  },
  {
   "cell_type": "code",
   "execution_count": 7,
   "metadata": {},
   "outputs": [
    {
     "data": {
      "text/html": [
       "<div>\n",
       "<style scoped>\n",
       "    .dataframe tbody tr th:only-of-type {\n",
       "        vertical-align: middle;\n",
       "    }\n",
       "\n",
       "    .dataframe tbody tr th {\n",
       "        vertical-align: top;\n",
       "    }\n",
       "\n",
       "    .dataframe thead th {\n",
       "        text-align: right;\n",
       "    }\n",
       "</style>\n",
       "<table border=\"1\" class=\"dataframe\">\n",
       "  <thead>\n",
       "    <tr style=\"text-align: right;\">\n",
       "      <th></th>\n",
       "      <th>name</th>\n",
       "      <th>rep</th>\n",
       "      <th>H.period</th>\n",
       "      <th>H.t</th>\n",
       "      <th>DD.period.t</th>\n",
       "      <th>UD.period.t</th>\n",
       "      <th>H.i</th>\n",
       "      <th>DD.t.i</th>\n",
       "      <th>UD.t.i</th>\n",
       "      <th>H.e</th>\n",
       "      <th>...</th>\n",
       "      <th>UD.R.o</th>\n",
       "      <th>H.n</th>\n",
       "      <th>DD.o.n</th>\n",
       "      <th>UD.o.n</th>\n",
       "      <th>H.a</th>\n",
       "      <th>DD.n.a</th>\n",
       "      <th>UD.n.a</th>\n",
       "      <th>H.l</th>\n",
       "      <th>DD.a.l</th>\n",
       "      <th>UD.a.l</th>\n",
       "    </tr>\n",
       "  </thead>\n",
       "  <tbody>\n",
       "    <tr>\n",
       "      <th>0</th>\n",
       "      <td>0</td>\n",
       "      <td>1</td>\n",
       "      <td>0.092790</td>\n",
       "      <td>0.090883</td>\n",
       "      <td>0.246703</td>\n",
       "      <td>0.337586</td>\n",
       "      <td>0.087738</td>\n",
       "      <td>0.153798</td>\n",
       "      <td>0.241535</td>\n",
       "      <td>0.087737</td>\n",
       "      <td>...</td>\n",
       "      <td>0.667031</td>\n",
       "      <td>0.172702</td>\n",
       "      <td>0.056452</td>\n",
       "      <td>0.229154</td>\n",
       "      <td>0.154004</td>\n",
       "      <td>0.218646</td>\n",
       "      <td>0.372650</td>\n",
       "      <td>0.096280</td>\n",
       "      <td>0.171825</td>\n",
       "      <td>0.268105</td>\n",
       "    </tr>\n",
       "    <tr>\n",
       "      <th>1</th>\n",
       "      <td>0</td>\n",
       "      <td>2</td>\n",
       "      <td>0.087310</td>\n",
       "      <td>0.085243</td>\n",
       "      <td>0.304038</td>\n",
       "      <td>0.389281</td>\n",
       "      <td>0.097292</td>\n",
       "      <td>0.217083</td>\n",
       "      <td>0.314374</td>\n",
       "      <td>0.102547</td>\n",
       "      <td>...</td>\n",
       "      <td>0.552117</td>\n",
       "      <td>0.163859</td>\n",
       "      <td>0.061247</td>\n",
       "      <td>0.225106</td>\n",
       "      <td>0.101477</td>\n",
       "      <td>0.194049</td>\n",
       "      <td>0.295526</td>\n",
       "      <td>0.101519</td>\n",
       "      <td>0.224497</td>\n",
       "      <td>0.326015</td>\n",
       "    </tr>\n",
       "    <tr>\n",
       "      <th>2</th>\n",
       "      <td>0</td>\n",
       "      <td>3</td>\n",
       "      <td>0.130960</td>\n",
       "      <td>0.086942</td>\n",
       "      <td>0.329384</td>\n",
       "      <td>0.416326</td>\n",
       "      <td>0.093535</td>\n",
       "      <td>0.090715</td>\n",
       "      <td>0.184250</td>\n",
       "      <td>0.086722</td>\n",
       "      <td>...</td>\n",
       "      <td>0.406839</td>\n",
       "      <td>0.108563</td>\n",
       "      <td>0.144304</td>\n",
       "      <td>0.252867</td>\n",
       "      <td>0.176790</td>\n",
       "      <td>0.134659</td>\n",
       "      <td>0.311448</td>\n",
       "      <td>0.098133</td>\n",
       "      <td>0.156365</td>\n",
       "      <td>0.254498</td>\n",
       "    </tr>\n",
       "    <tr>\n",
       "      <th>3</th>\n",
       "      <td>0</td>\n",
       "      <td>4</td>\n",
       "      <td>0.140503</td>\n",
       "      <td>0.074106</td>\n",
       "      <td>0.361985</td>\n",
       "      <td>0.436090</td>\n",
       "      <td>0.094165</td>\n",
       "      <td>1.971756</td>\n",
       "      <td>2.065921</td>\n",
       "      <td>0.109514</td>\n",
       "      <td>...</td>\n",
       "      <td>0.655422</td>\n",
       "      <td>0.128880</td>\n",
       "      <td>0.126976</td>\n",
       "      <td>0.255856</td>\n",
       "      <td>0.124415</td>\n",
       "      <td>0.244116</td>\n",
       "      <td>0.368531</td>\n",
       "      <td>0.084438</td>\n",
       "      <td>0.282270</td>\n",
       "      <td>0.366708</td>\n",
       "    </tr>\n",
       "    <tr>\n",
       "      <th>4</th>\n",
       "      <td>0</td>\n",
       "      <td>5</td>\n",
       "      <td>0.147327</td>\n",
       "      <td>0.077649</td>\n",
       "      <td>0.291591</td>\n",
       "      <td>0.369241</td>\n",
       "      <td>0.109658</td>\n",
       "      <td>0.166732</td>\n",
       "      <td>0.276390</td>\n",
       "      <td>0.119945</td>\n",
       "      <td>...</td>\n",
       "      <td>0.491701</td>\n",
       "      <td>0.150271</td>\n",
       "      <td>0.096402</td>\n",
       "      <td>0.246673</td>\n",
       "      <td>0.154400</td>\n",
       "      <td>0.194311</td>\n",
       "      <td>0.348711</td>\n",
       "      <td>0.131821</td>\n",
       "      <td>0.163093</td>\n",
       "      <td>0.294914</td>\n",
       "    </tr>\n",
       "  </tbody>\n",
       "</table>\n",
       "<p>5 rows × 30 columns</p>\n",
       "</div>"
      ],
      "text/plain": [
       "   name  rep  H.period       H.t  DD.period.t  UD.period.t       H.i  \\\n",
       "0     0    1  0.092790  0.090883     0.246703     0.337586  0.087738   \n",
       "1     0    2  0.087310  0.085243     0.304038     0.389281  0.097292   \n",
       "2     0    3  0.130960  0.086942     0.329384     0.416326  0.093535   \n",
       "3     0    4  0.140503  0.074106     0.361985     0.436090  0.094165   \n",
       "4     0    5  0.147327  0.077649     0.291591     0.369241  0.109658   \n",
       "\n",
       "     DD.t.i    UD.t.i       H.e  ...    UD.R.o       H.n    DD.o.n    UD.o.n  \\\n",
       "0  0.153798  0.241535  0.087737  ...  0.667031  0.172702  0.056452  0.229154   \n",
       "1  0.217083  0.314374  0.102547  ...  0.552117  0.163859  0.061247  0.225106   \n",
       "2  0.090715  0.184250  0.086722  ...  0.406839  0.108563  0.144304  0.252867   \n",
       "3  1.971756  2.065921  0.109514  ...  0.655422  0.128880  0.126976  0.255856   \n",
       "4  0.166732  0.276390  0.119945  ...  0.491701  0.150271  0.096402  0.246673   \n",
       "\n",
       "        H.a    DD.n.a    UD.n.a       H.l    DD.a.l    UD.a.l  \n",
       "0  0.154004  0.218646  0.372650  0.096280  0.171825  0.268105  \n",
       "1  0.101477  0.194049  0.295526  0.101519  0.224497  0.326015  \n",
       "2  0.176790  0.134659  0.311448  0.098133  0.156365  0.254498  \n",
       "3  0.124415  0.244116  0.368531  0.084438  0.282270  0.366708  \n",
       "4  0.154400  0.194311  0.348711  0.131821  0.163093  0.294914  \n",
       "\n",
       "[5 rows x 30 columns]"
      ]
     },
     "execution_count": 7,
     "metadata": {},
     "output_type": "execute_result"
    }
   ],
   "source": [
    "df.head()"
   ]
  },
  {
   "cell_type": "code",
   "execution_count": 8,
   "metadata": {},
   "outputs": [
    {
     "name": "stdout",
     "output_type": "stream",
     "text": [
      "[[ 0.          1.          0.09279013 ...  0.09627986  0.17182493\n",
      "   0.26810479]\n",
      " [ 0.          2.          0.08730984 ...  0.10151863  0.22449684\n",
      "   0.32601547]\n",
      " [ 0.          3.          0.13095999 ...  0.09813261  0.15636539\n",
      "   0.25449801]\n",
      " ...\n",
      " [ 0.          8.          0.07643366 ...  0.15189671  0.16237855\n",
      "   0.31427527]\n",
      " [ 0.          9.          0.0811522  ...  0.11246324  0.17036772\n",
      "   0.28283095]\n",
      " [ 0.         10.          0.06935549 ...  0.11066747  0.17479038\n",
      "   0.28545785]]\n"
     ]
    },
    {
     "data": {
      "text/plain": [
       "(150, 30)"
      ]
     },
     "execution_count": 8,
     "metadata": {},
     "output_type": "execute_result"
    }
   ],
   "source": [
    "data_raw = df.values\n",
    "print(data_raw)\n",
    "data_raw.shape"
   ]
  },
  {
   "cell_type": "code",
   "execution_count": 9,
   "metadata": {},
   "outputs": [
    {
     "name": "stdout",
     "output_type": "stream",
     "text": [
      "[[0.09279013 0.09088349 0.24670267 ... 0.17182493 0.26810479 0.        ]\n",
      " [0.08730984 0.08524323 0.30403805 ... 0.22449684 0.32601547 0.        ]\n",
      " [0.13095999 0.08694196 0.32938385 ... 0.15636539 0.25449801 0.        ]\n",
      " ...\n",
      " [0.07643366 0.06415033 0.25652361 ... 0.16237855 0.31427527 0.        ]\n",
      " [0.0811522  0.04557419 0.29244423 ... 0.17036772 0.28283095 0.        ]\n",
      " [0.06935549 0.07601428 0.26608658 ... 0.17479038 0.28545785 0.        ]]\n"
     ]
    }
   ],
   "source": [
    "data=data_raw[ :, 2:]\n",
    "labels_raw = df['name'].values\n",
    "labels= labels_raw.reshape(labels_raw.shape[0],1)\n",
    "data=np.hstack([data, labels])\n",
    "print(data)"
   ]
  },
  {
   "cell_type": "code",
   "execution_count": 10,
   "metadata": {},
   "outputs": [
    {
     "data": {
      "text/plain": [
       "(150, 28)"
      ]
     },
     "execution_count": 10,
     "metadata": {},
     "output_type": "execute_result"
    }
   ],
   "source": [
    "np.random.shuffle(data)\n",
    "x=data[ : , :-1]\n",
    "y=data[:,-1]\n",
    "x.shape"
   ]
  },
  {
   "cell_type": "code",
   "execution_count": null,
   "metadata": {},
   "outputs": [],
   "source": [
    "# scaler = MinMaxScaler()\n",
    "# x = scaler.fit_transform(x)"
   ]
  },
  {
   "cell_type": "code",
   "execution_count": 11,
   "metadata": {},
   "outputs": [],
   "source": [
    "X_train, X_test, y_train, y_test = train_test_split(x, y, test_size=0.1, random_state=0)"
   ]
  },
  {
   "cell_type": "code",
   "execution_count": 12,
   "metadata": {},
   "outputs": [
    {
     "name": "stdout",
     "output_type": "stream",
     "text": [
      "Accuracy: 1.0\n",
      "Classification Report:\n",
      "               precision    recall  f1-score   support\n",
      "\n",
      "         0.0       1.00      1.00      1.00         8\n",
      "         1.0       1.00      1.00      1.00         7\n",
      "\n",
      "    accuracy                           1.00        15\n",
      "   macro avg       1.00      1.00      1.00        15\n",
      "weighted avg       1.00      1.00      1.00        15\n",
      "\n"
     ]
    }
   ],
   "source": [
    "\n",
    "# Create an XGBoost classifier\n",
    "model = xgb.XGBClassifier(objective='multi:softmax', num_class=2, random_state=0)\n",
    "\n",
    "# Train the model on the training data\n",
    "model.fit(X_train, y_train)\n",
    "\n",
    "# Make predictions on the test data\n",
    "y_pred = model.predict(X_test)\n",
    "\n",
    "# Evaluate the model\n",
    "accuracy = accuracy_score(y_test, y_pred)\n",
    "print(\"Accuracy:\", accuracy)\n",
    "\n",
    "# Print classification report\n",
    "print(\"Classification Report:\\n\", classification_report(y_test, y_pred))\n"
   ]
  },
  {
   "cell_type": "code",
   "execution_count": 13,
   "metadata": {},
   "outputs": [
    {
     "data": {
      "text/plain": [
       "array([0])"
      ]
     },
     "execution_count": 13,
     "metadata": {},
     "output_type": "execute_result"
    }
   ],
   "source": [
    "x = [[0.081152201,0.045574188,0.292444229,0.338018417,0.074759722,0.120056152,0.194815874,0.086019278,1.517424822,1.603444099,0.062575817,0.551804543,0.61438036,0,-1709202964,-1709202964,0.17720294,1709202965,1709202965,0.104067564,0.124180317,0.228247881,0.101912022,0.059402227,0.161314249,0.112463236,0.170367718,0.282830954\n",
    "]]\n",
    "model.predict(x)"
   ]
  },
  {
   "cell_type": "code",
   "execution_count": 14,
   "metadata": {},
   "outputs": [
    {
     "data": {
      "text/plain": [
       "array([1])"
      ]
     },
     "execution_count": 14,
     "metadata": {},
     "output_type": "execute_result"
    }
   ],
   "source": [
    "model.predict([[0.063287735,0.084783792,0.381062508,0.4658463,0.038760185,0.202909231,0.241669416,0.066504478,0.471563578,0.538068056,0.035029888,0.732656717,0.767686605,-1709201385,0.929215431,-1709201384,0.089103222,0.209048271,0.298151493,0.07996726,0.295785666,0.375752926,0.1405406,0.208619356,0.349159956,0.036897659,0.156013489,0.192911148\n",
    "]])"
   ]
  },
  {
   "cell_type": "code",
   "execution_count": 15,
   "metadata": {},
   "outputs": [
    {
     "data": {
      "text/plain": [
       "array([0])"
      ]
     },
     "execution_count": 15,
     "metadata": {},
     "output_type": "execute_result"
    }
   ],
   "source": [
    "model.predict([[0.087309837,0.085243225,0.304038048,0.389281273,0.097291708,0.2170825,0.314374208,0.10254693,0.166110277,0.268657207,0.078619003,0.940005064,1.018624067,0.102619648,0.583746433,0.686366081,0.112853527,0.439263821,0.552117348,0.163859129,0.061246634,0.225105762,0.101477146,0.194048643,0.295525789,0.101518631,0.224496841,0.326015472\n",
    "]])"
   ]
  },
  {
   "cell_type": "code",
   "execution_count": null,
   "metadata": {},
   "outputs": [],
   "source": []
  }
 ],
 "metadata": {
  "kernelspec": {
   "display_name": "Python 3",
   "language": "python",
   "name": "python3"
  },
  "language_info": {
   "codemirror_mode": {
    "name": "ipython",
    "version": 3
   },
   "file_extension": ".py",
   "mimetype": "text/x-python",
   "name": "python",
   "nbconvert_exporter": "python",
   "pygments_lexer": "ipython3",
   "version": "3.10.9"
  }
 },
 "nbformat": 4,
 "nbformat_minor": 2
}
