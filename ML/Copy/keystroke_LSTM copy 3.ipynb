{
 "cells": [
  {
   "cell_type": "code",
   "execution_count": 185,
   "metadata": {},
   "outputs": [],
   "source": [
    "import pandas as pd\n",
    "import numpy as np\n",
    "import matplotlib.pyplot as plt\n",
    "from sklearn.model_selection import train_test_split\n",
    "from sklearn.preprocessing import MinMaxScaler\n",
    "from tensorflow.keras.utils import to_categorical\n",
    "from sklearn.metrics import accuracy_score\n",
    "import networkx as nx\n",
    "%matplotlib inline"
   ]
  },
  {
   "cell_type": "code",
   "execution_count": 186,
   "metadata": {},
   "outputs": [
    {
     "data": {
      "text/html": [
       "<div>\n",
       "<style scoped>\n",
       "    .dataframe tbody tr th:only-of-type {\n",
       "        vertical-align: middle;\n",
       "    }\n",
       "\n",
       "    .dataframe tbody tr th {\n",
       "        vertical-align: top;\n",
       "    }\n",
       "\n",
       "    .dataframe thead th {\n",
       "        text-align: right;\n",
       "    }\n",
       "</style>\n",
       "<table border=\"1\" class=\"dataframe\">\n",
       "  <thead>\n",
       "    <tr style=\"text-align: right;\">\n",
       "      <th></th>\n",
       "      <th>name</th>\n",
       "      <th>rep</th>\n",
       "      <th>H.period</th>\n",
       "      <th>H.t</th>\n",
       "      <th>DD.period.t</th>\n",
       "      <th>UD.period.t</th>\n",
       "      <th>H.i</th>\n",
       "      <th>DD.t.i</th>\n",
       "      <th>UD.t.i</th>\n",
       "      <th>H.e</th>\n",
       "      <th>...</th>\n",
       "      <th>DD.o.n</th>\n",
       "      <th>UD.o.n</th>\n",
       "      <th>H.a</th>\n",
       "      <th>DD.n.a</th>\n",
       "      <th>UD.n.a</th>\n",
       "      <th>H.l</th>\n",
       "      <th>DD.a.l</th>\n",
       "      <th>UD.a.l</th>\n",
       "      <th>backspaces</th>\n",
       "      <th>caps_lock</th>\n",
       "    </tr>\n",
       "  </thead>\n",
       "  <tbody>\n",
       "    <tr>\n",
       "      <th>0</th>\n",
       "      <td>jauri</td>\n",
       "      <td>1</td>\n",
       "      <td>0.092790</td>\n",
       "      <td>0.090883</td>\n",
       "      <td>0.246703</td>\n",
       "      <td>0.337586</td>\n",
       "      <td>0.087738</td>\n",
       "      <td>0.153798</td>\n",
       "      <td>0.241535</td>\n",
       "      <td>0.087737</td>\n",
       "      <td>...</td>\n",
       "      <td>0.056452</td>\n",
       "      <td>0.229154</td>\n",
       "      <td>0.154004</td>\n",
       "      <td>0.218646</td>\n",
       "      <td>0.372650</td>\n",
       "      <td>0.096280</td>\n",
       "      <td>0.171825</td>\n",
       "      <td>0.268105</td>\n",
       "      <td>0</td>\n",
       "      <td>0</td>\n",
       "    </tr>\n",
       "    <tr>\n",
       "      <th>1</th>\n",
       "      <td>jauri</td>\n",
       "      <td>2</td>\n",
       "      <td>0.087310</td>\n",
       "      <td>0.085243</td>\n",
       "      <td>0.304038</td>\n",
       "      <td>0.389281</td>\n",
       "      <td>0.097292</td>\n",
       "      <td>0.217083</td>\n",
       "      <td>0.314374</td>\n",
       "      <td>0.102547</td>\n",
       "      <td>...</td>\n",
       "      <td>0.061247</td>\n",
       "      <td>0.225106</td>\n",
       "      <td>0.101477</td>\n",
       "      <td>0.194049</td>\n",
       "      <td>0.295526</td>\n",
       "      <td>0.101519</td>\n",
       "      <td>0.224497</td>\n",
       "      <td>0.326015</td>\n",
       "      <td>0</td>\n",
       "      <td>0</td>\n",
       "    </tr>\n",
       "    <tr>\n",
       "      <th>2</th>\n",
       "      <td>jauri</td>\n",
       "      <td>3</td>\n",
       "      <td>0.130960</td>\n",
       "      <td>0.086942</td>\n",
       "      <td>0.329384</td>\n",
       "      <td>0.416326</td>\n",
       "      <td>0.093535</td>\n",
       "      <td>0.090715</td>\n",
       "      <td>0.184250</td>\n",
       "      <td>0.086722</td>\n",
       "      <td>...</td>\n",
       "      <td>0.144304</td>\n",
       "      <td>0.252867</td>\n",
       "      <td>0.176790</td>\n",
       "      <td>0.134659</td>\n",
       "      <td>0.311448</td>\n",
       "      <td>0.098133</td>\n",
       "      <td>0.156365</td>\n",
       "      <td>0.254498</td>\n",
       "      <td>0</td>\n",
       "      <td>0</td>\n",
       "    </tr>\n",
       "    <tr>\n",
       "      <th>3</th>\n",
       "      <td>jauri</td>\n",
       "      <td>4</td>\n",
       "      <td>0.140503</td>\n",
       "      <td>0.074106</td>\n",
       "      <td>0.361985</td>\n",
       "      <td>0.436090</td>\n",
       "      <td>0.094165</td>\n",
       "      <td>1.971756</td>\n",
       "      <td>2.065921</td>\n",
       "      <td>0.109514</td>\n",
       "      <td>...</td>\n",
       "      <td>0.126976</td>\n",
       "      <td>0.255856</td>\n",
       "      <td>0.124415</td>\n",
       "      <td>0.244116</td>\n",
       "      <td>0.368531</td>\n",
       "      <td>0.084438</td>\n",
       "      <td>0.282270</td>\n",
       "      <td>0.366708</td>\n",
       "      <td>0</td>\n",
       "      <td>0</td>\n",
       "    </tr>\n",
       "    <tr>\n",
       "      <th>4</th>\n",
       "      <td>jauri</td>\n",
       "      <td>5</td>\n",
       "      <td>0.147327</td>\n",
       "      <td>0.077649</td>\n",
       "      <td>0.291591</td>\n",
       "      <td>0.369241</td>\n",
       "      <td>0.109658</td>\n",
       "      <td>0.166732</td>\n",
       "      <td>0.276390</td>\n",
       "      <td>0.119945</td>\n",
       "      <td>...</td>\n",
       "      <td>0.096402</td>\n",
       "      <td>0.246673</td>\n",
       "      <td>0.154400</td>\n",
       "      <td>0.194311</td>\n",
       "      <td>0.348711</td>\n",
       "      <td>0.131821</td>\n",
       "      <td>0.163093</td>\n",
       "      <td>0.294914</td>\n",
       "      <td>0</td>\n",
       "      <td>0</td>\n",
       "    </tr>\n",
       "  </tbody>\n",
       "</table>\n",
       "<p>5 rows × 32 columns</p>\n",
       "</div>"
      ],
      "text/plain": [
       "    name  rep  H.period       H.t  DD.period.t  UD.period.t       H.i  \\\n",
       "0  jauri    1  0.092790  0.090883     0.246703     0.337586  0.087738   \n",
       "1  jauri    2  0.087310  0.085243     0.304038     0.389281  0.097292   \n",
       "2  jauri    3  0.130960  0.086942     0.329384     0.416326  0.093535   \n",
       "3  jauri    4  0.140503  0.074106     0.361985     0.436090  0.094165   \n",
       "4  jauri    5  0.147327  0.077649     0.291591     0.369241  0.109658   \n",
       "\n",
       "     DD.t.i    UD.t.i       H.e  ...    DD.o.n    UD.o.n       H.a    DD.n.a  \\\n",
       "0  0.153798  0.241535  0.087737  ...  0.056452  0.229154  0.154004  0.218646   \n",
       "1  0.217083  0.314374  0.102547  ...  0.061247  0.225106  0.101477  0.194049   \n",
       "2  0.090715  0.184250  0.086722  ...  0.144304  0.252867  0.176790  0.134659   \n",
       "3  1.971756  2.065921  0.109514  ...  0.126976  0.255856  0.124415  0.244116   \n",
       "4  0.166732  0.276390  0.119945  ...  0.096402  0.246673  0.154400  0.194311   \n",
       "\n",
       "     UD.n.a       H.l    DD.a.l    UD.a.l  backspaces  caps_lock  \n",
       "0  0.372650  0.096280  0.171825  0.268105           0          0  \n",
       "1  0.295526  0.101519  0.224497  0.326015           0          0  \n",
       "2  0.311448  0.098133  0.156365  0.254498           0          0  \n",
       "3  0.368531  0.084438  0.282270  0.366708           0          0  \n",
       "4  0.348711  0.131821  0.163093  0.294914           0          0  \n",
       "\n",
       "[5 rows x 32 columns]"
      ]
     },
     "execution_count": 186,
     "metadata": {},
     "output_type": "execute_result"
    }
   ],
   "source": [
    "df = pd.read_csv('merged.csv')\n",
    "df.head()"
   ]
  },
  {
   "cell_type": "code",
   "execution_count": 187,
   "metadata": {},
   "outputs": [],
   "source": [
    "subjects = df['name'].unique()"
   ]
  },
  {
   "cell_type": "code",
   "execution_count": 188,
   "metadata": {},
   "outputs": [],
   "source": [
    "subjects_to_int = {subject: i  for i, subject in enumerate(subjects)}\n",
    "int_to_subjects = {i: subject for i, subject in enumerate(subjects)}"
   ]
  },
  {
   "cell_type": "code",
   "execution_count": 189,
   "metadata": {},
   "outputs": [
    {
     "name": "stderr",
     "output_type": "stream",
     "text": [
      "C:\\Users\\skhim\\AppData\\Local\\Temp\\ipykernel_13008\\1725018810.py:1: FutureWarning: Downcasting behavior in `replace` is deprecated and will be removed in a future version. To retain the old behavior, explicitly call `result.infer_objects(copy=False)`. To opt-in to the future behavior, set `pd.set_option('future.no_silent_downcasting', True)`\n",
      "  df = df.replace(subjects_to_int)\n"
     ]
    }
   ],
   "source": [
    "df = df.replace(subjects_to_int)"
   ]
  },
  {
   "cell_type": "code",
   "execution_count": 190,
   "metadata": {},
   "outputs": [
    {
     "data": {
      "text/html": [
       "<div>\n",
       "<style scoped>\n",
       "    .dataframe tbody tr th:only-of-type {\n",
       "        vertical-align: middle;\n",
       "    }\n",
       "\n",
       "    .dataframe tbody tr th {\n",
       "        vertical-align: top;\n",
       "    }\n",
       "\n",
       "    .dataframe thead th {\n",
       "        text-align: right;\n",
       "    }\n",
       "</style>\n",
       "<table border=\"1\" class=\"dataframe\">\n",
       "  <thead>\n",
       "    <tr style=\"text-align: right;\">\n",
       "      <th></th>\n",
       "      <th>name</th>\n",
       "      <th>rep</th>\n",
       "      <th>H.period</th>\n",
       "      <th>H.t</th>\n",
       "      <th>DD.period.t</th>\n",
       "      <th>UD.period.t</th>\n",
       "      <th>H.i</th>\n",
       "      <th>DD.t.i</th>\n",
       "      <th>UD.t.i</th>\n",
       "      <th>H.e</th>\n",
       "      <th>...</th>\n",
       "      <th>DD.o.n</th>\n",
       "      <th>UD.o.n</th>\n",
       "      <th>H.a</th>\n",
       "      <th>DD.n.a</th>\n",
       "      <th>UD.n.a</th>\n",
       "      <th>H.l</th>\n",
       "      <th>DD.a.l</th>\n",
       "      <th>UD.a.l</th>\n",
       "      <th>backspaces</th>\n",
       "      <th>caps_lock</th>\n",
       "    </tr>\n",
       "  </thead>\n",
       "  <tbody>\n",
       "    <tr>\n",
       "      <th>0</th>\n",
       "      <td>0</td>\n",
       "      <td>1</td>\n",
       "      <td>0.092790</td>\n",
       "      <td>0.090883</td>\n",
       "      <td>0.246703</td>\n",
       "      <td>0.337586</td>\n",
       "      <td>0.087738</td>\n",
       "      <td>0.153798</td>\n",
       "      <td>0.241535</td>\n",
       "      <td>0.087737</td>\n",
       "      <td>...</td>\n",
       "      <td>0.056452</td>\n",
       "      <td>0.229154</td>\n",
       "      <td>0.154004</td>\n",
       "      <td>0.218646</td>\n",
       "      <td>0.372650</td>\n",
       "      <td>0.096280</td>\n",
       "      <td>0.171825</td>\n",
       "      <td>0.268105</td>\n",
       "      <td>0</td>\n",
       "      <td>0</td>\n",
       "    </tr>\n",
       "    <tr>\n",
       "      <th>1</th>\n",
       "      <td>0</td>\n",
       "      <td>2</td>\n",
       "      <td>0.087310</td>\n",
       "      <td>0.085243</td>\n",
       "      <td>0.304038</td>\n",
       "      <td>0.389281</td>\n",
       "      <td>0.097292</td>\n",
       "      <td>0.217083</td>\n",
       "      <td>0.314374</td>\n",
       "      <td>0.102547</td>\n",
       "      <td>...</td>\n",
       "      <td>0.061247</td>\n",
       "      <td>0.225106</td>\n",
       "      <td>0.101477</td>\n",
       "      <td>0.194049</td>\n",
       "      <td>0.295526</td>\n",
       "      <td>0.101519</td>\n",
       "      <td>0.224497</td>\n",
       "      <td>0.326015</td>\n",
       "      <td>0</td>\n",
       "      <td>0</td>\n",
       "    </tr>\n",
       "    <tr>\n",
       "      <th>2</th>\n",
       "      <td>0</td>\n",
       "      <td>3</td>\n",
       "      <td>0.130960</td>\n",
       "      <td>0.086942</td>\n",
       "      <td>0.329384</td>\n",
       "      <td>0.416326</td>\n",
       "      <td>0.093535</td>\n",
       "      <td>0.090715</td>\n",
       "      <td>0.184250</td>\n",
       "      <td>0.086722</td>\n",
       "      <td>...</td>\n",
       "      <td>0.144304</td>\n",
       "      <td>0.252867</td>\n",
       "      <td>0.176790</td>\n",
       "      <td>0.134659</td>\n",
       "      <td>0.311448</td>\n",
       "      <td>0.098133</td>\n",
       "      <td>0.156365</td>\n",
       "      <td>0.254498</td>\n",
       "      <td>0</td>\n",
       "      <td>0</td>\n",
       "    </tr>\n",
       "    <tr>\n",
       "      <th>3</th>\n",
       "      <td>0</td>\n",
       "      <td>4</td>\n",
       "      <td>0.140503</td>\n",
       "      <td>0.074106</td>\n",
       "      <td>0.361985</td>\n",
       "      <td>0.436090</td>\n",
       "      <td>0.094165</td>\n",
       "      <td>1.971756</td>\n",
       "      <td>2.065921</td>\n",
       "      <td>0.109514</td>\n",
       "      <td>...</td>\n",
       "      <td>0.126976</td>\n",
       "      <td>0.255856</td>\n",
       "      <td>0.124415</td>\n",
       "      <td>0.244116</td>\n",
       "      <td>0.368531</td>\n",
       "      <td>0.084438</td>\n",
       "      <td>0.282270</td>\n",
       "      <td>0.366708</td>\n",
       "      <td>0</td>\n",
       "      <td>0</td>\n",
       "    </tr>\n",
       "    <tr>\n",
       "      <th>4</th>\n",
       "      <td>0</td>\n",
       "      <td>5</td>\n",
       "      <td>0.147327</td>\n",
       "      <td>0.077649</td>\n",
       "      <td>0.291591</td>\n",
       "      <td>0.369241</td>\n",
       "      <td>0.109658</td>\n",
       "      <td>0.166732</td>\n",
       "      <td>0.276390</td>\n",
       "      <td>0.119945</td>\n",
       "      <td>...</td>\n",
       "      <td>0.096402</td>\n",
       "      <td>0.246673</td>\n",
       "      <td>0.154400</td>\n",
       "      <td>0.194311</td>\n",
       "      <td>0.348711</td>\n",
       "      <td>0.131821</td>\n",
       "      <td>0.163093</td>\n",
       "      <td>0.294914</td>\n",
       "      <td>0</td>\n",
       "      <td>0</td>\n",
       "    </tr>\n",
       "  </tbody>\n",
       "</table>\n",
       "<p>5 rows × 32 columns</p>\n",
       "</div>"
      ],
      "text/plain": [
       "   name  rep  H.period       H.t  DD.period.t  UD.period.t       H.i  \\\n",
       "0     0    1  0.092790  0.090883     0.246703     0.337586  0.087738   \n",
       "1     0    2  0.087310  0.085243     0.304038     0.389281  0.097292   \n",
       "2     0    3  0.130960  0.086942     0.329384     0.416326  0.093535   \n",
       "3     0    4  0.140503  0.074106     0.361985     0.436090  0.094165   \n",
       "4     0    5  0.147327  0.077649     0.291591     0.369241  0.109658   \n",
       "\n",
       "     DD.t.i    UD.t.i       H.e  ...    DD.o.n    UD.o.n       H.a    DD.n.a  \\\n",
       "0  0.153798  0.241535  0.087737  ...  0.056452  0.229154  0.154004  0.218646   \n",
       "1  0.217083  0.314374  0.102547  ...  0.061247  0.225106  0.101477  0.194049   \n",
       "2  0.090715  0.184250  0.086722  ...  0.144304  0.252867  0.176790  0.134659   \n",
       "3  1.971756  2.065921  0.109514  ...  0.126976  0.255856  0.124415  0.244116   \n",
       "4  0.166732  0.276390  0.119945  ...  0.096402  0.246673  0.154400  0.194311   \n",
       "\n",
       "     UD.n.a       H.l    DD.a.l    UD.a.l  backspaces  caps_lock  \n",
       "0  0.372650  0.096280  0.171825  0.268105           0          0  \n",
       "1  0.295526  0.101519  0.224497  0.326015           0          0  \n",
       "2  0.311448  0.098133  0.156365  0.254498           0          0  \n",
       "3  0.368531  0.084438  0.282270  0.366708           0          0  \n",
       "4  0.348711  0.131821  0.163093  0.294914           0          0  \n",
       "\n",
       "[5 rows x 32 columns]"
      ]
     },
     "execution_count": 190,
     "metadata": {},
     "output_type": "execute_result"
    }
   ],
   "source": [
    "df.head()"
   ]
  },
  {
   "cell_type": "code",
   "execution_count": 191,
   "metadata": {},
   "outputs": [
    {
     "name": "stdout",
     "output_type": "stream",
     "text": [
      "[[ 0.          1.          0.09279013 ...  0.26810479  0.\n",
      "   0.        ]\n",
      " [ 0.          2.          0.08730984 ...  0.32601547  0.\n",
      "   0.        ]\n",
      " [ 0.          3.          0.13095999 ...  0.25449801  0.\n",
      "   0.        ]\n",
      " ...\n",
      " [ 3.          8.          0.07643366 ...  0.31427527  0.\n",
      "   2.        ]\n",
      " [ 3.          9.          0.0811522  ...  0.28283095  0.\n",
      "   2.        ]\n",
      " [ 3.         10.          0.06935549 ...  0.28545785  0.\n",
      "   2.        ]]\n"
     ]
    },
    {
     "data": {
      "text/plain": [
       "(210, 32)"
      ]
     },
     "execution_count": 191,
     "metadata": {},
     "output_type": "execute_result"
    }
   ],
   "source": [
    "data_raw = df.values\n",
    "print(data_raw)\n",
    "data_raw.shape"
   ]
  },
  {
   "cell_type": "code",
   "execution_count": 192,
   "metadata": {},
   "outputs": [
    {
     "name": "stdout",
     "output_type": "stream",
     "text": [
      "[[0.09279013 0.09088349 0.24670267 ... 0.17182493 0.26810479 0.        ]\n",
      " [0.08730984 0.08524323 0.30403805 ... 0.22449684 0.32601547 0.        ]\n",
      " [0.13095999 0.08694196 0.32938385 ... 0.15636539 0.25449801 0.        ]\n",
      " ...\n",
      " [0.07643366 0.06415033 0.25652361 ... 0.16237855 0.31427527 3.        ]\n",
      " [0.0811522  0.04557419 0.29244423 ... 0.17036772 0.28283095 3.        ]\n",
      " [0.06935549 0.07601428 0.26608658 ... 0.17479038 0.28545785 3.        ]]\n"
     ]
    }
   ],
   "source": [
    "data=data_raw[ :, 2:-2]\n",
    "labels_raw = df['name'].values\n",
    "labels= labels_raw.reshape(labels_raw.shape[0],1)\n",
    "data=np.hstack([data, labels])\n",
    "print(data)"
   ]
  },
  {
   "cell_type": "code",
   "execution_count": 193,
   "metadata": {},
   "outputs": [
    {
     "data": {
      "text/plain": [
       "(210, 28)"
      ]
     },
     "execution_count": 193,
     "metadata": {},
     "output_type": "execute_result"
    }
   ],
   "source": [
    "np.random.shuffle(data)\n",
    "x=data[ : , :-1]\n",
    "y=data[:,-1]\n",
    "x.shape"
   ]
  },
  {
   "cell_type": "code",
   "execution_count": 194,
   "metadata": {},
   "outputs": [],
   "source": [
    "scaler = MinMaxScaler()\n",
    "x = scaler.fit_transform(x)"
   ]
  },
  {
   "cell_type": "code",
   "execution_count": 195,
   "metadata": {},
   "outputs": [],
   "source": [
    "X_train, X_test, y_train, y_test = train_test_split(x, y, test_size=0.1, random_state=0)"
   ]
  },
  {
   "cell_type": "code",
   "execution_count": 196,
   "metadata": {},
   "outputs": [],
   "source": [
    "Y_train = to_categorical(y_train, num_classes=4)\n",
    "Y_test=to_categorical(y_test,num_classes=4)\n"
   ]
  },
  {
   "cell_type": "code",
   "execution_count": 197,
   "metadata": {},
   "outputs": [
    {
     "data": {
      "text/plain": [
       "(189, 28, 1)"
      ]
     },
     "execution_count": 197,
     "metadata": {},
     "output_type": "execute_result"
    }
   ],
   "source": [
    "X_train = np.reshape(X_train, (X_train.shape[0], X_train.shape[1], 1))\n",
    "X_test = np.reshape(X_test, (X_test.shape[0], X_test.shape[1], 1))\n",
    "X_train.shape"
   ]
  },
  {
   "cell_type": "code",
   "execution_count": 198,
   "metadata": {},
   "outputs": [],
   "source": [
    "from tensorflow.keras.models import Sequential\n",
    "from tensorflow.keras.layers import Dense, LSTM, Dropout\n",
    "from tensorflow.keras.optimizers import Adam\n",
    "import tensorflow as tf"
   ]
  },
  {
   "cell_type": "code",
   "execution_count": 199,
   "metadata": {},
   "outputs": [],
   "source": [
    "# rnn = Sequential()\n",
    "# rnn.add(LSTM(units = 45, return_sequences = True, input_shape = (X_train.shape[1], 1)))\n",
    "# rnn.add(Dropout(0.2))\n",
    "# for i in [True, True, False]:\n",
    "#     rnn.add(LSTM(units = 45, return_sequences = i))\n",
    "#     rnn.add(Dropout(0.2))\n",
    "# rnn.add(Dense(units = 51, activation='softmax', name='output_layer'))"
   ]
  },
  {
   "cell_type": "code",
   "execution_count": 200,
   "metadata": {},
   "outputs": [],
   "source": [
    "rnn = Sequential()\n",
    "for i in [True, True, False]:\n",
    "    rnn.add(LSTM(units = 45, return_sequences = i))\n",
    "    rnn.add(Dropout(0.2))\n",
    "rnn.add(Dense(units = 4, activation='softmax'))"
   ]
  },
  {
   "cell_type": "code",
   "execution_count": 201,
   "metadata": {},
   "outputs": [],
   "source": [
    "lr_schedule = tf.keras.optimizers.schedules.ExponentialDecay(\n",
    "    initial_learning_rate=0.01,\n",
    "    decay_steps=10000,\n",
    "    decay_rate=0.1)\n",
    "opt = Adam(learning_rate=lr_schedule, beta_1=0.9, beta_2=0.999)"
   ]
  },
  {
   "cell_type": "code",
   "execution_count": 202,
   "metadata": {},
   "outputs": [],
   "source": [
    "rnn.compile(optimizer = opt, loss = 'categorical_crossentropy')"
   ]
  },
  {
   "cell_type": "code",
   "execution_count": 203,
   "metadata": {},
   "outputs": [
    {
     "name": "stdout",
     "output_type": "stream",
     "text": [
      "Epoch 1/60\n"
     ]
    },
    {
     "name": "stdout",
     "output_type": "stream",
     "text": [
      "6/6 [==============================] - 6s 176ms/step - loss: 1.3351 - val_loss: 1.1281\n",
      "Epoch 2/60\n",
      "6/6 [==============================] - 0s 27ms/step - loss: 1.1908 - val_loss: 0.7301\n",
      "Epoch 3/60\n",
      "6/6 [==============================] - 0s 28ms/step - loss: 1.1759 - val_loss: 0.8838\n",
      "Epoch 4/60\n",
      "6/6 [==============================] - 0s 30ms/step - loss: 1.1054 - val_loss: 0.9668\n",
      "Epoch 5/60\n",
      "6/6 [==============================] - 0s 33ms/step - loss: 1.0082 - val_loss: 0.7116\n",
      "Epoch 6/60\n",
      "6/6 [==============================] - 0s 31ms/step - loss: 0.8543 - val_loss: 0.7021\n",
      "Epoch 7/60\n",
      "6/6 [==============================] - 0s 35ms/step - loss: 0.8197 - val_loss: 0.5155\n",
      "Epoch 8/60\n",
      "6/6 [==============================] - 0s 33ms/step - loss: 0.6556 - val_loss: 0.6922\n",
      "Epoch 9/60\n",
      "6/6 [==============================] - 0s 33ms/step - loss: 0.6166 - val_loss: 0.5733\n",
      "Epoch 10/60\n",
      "6/6 [==============================] - 0s 34ms/step - loss: 0.5888 - val_loss: 0.3516\n",
      "Epoch 11/60\n",
      "6/6 [==============================] - 0s 35ms/step - loss: 0.4660 - val_loss: 0.3896\n",
      "Epoch 12/60\n",
      "6/6 [==============================] - 0s 43ms/step - loss: 0.4687 - val_loss: 0.3789\n",
      "Epoch 13/60\n",
      "6/6 [==============================] - 0s 45ms/step - loss: 0.4588 - val_loss: 0.2760\n",
      "Epoch 14/60\n",
      "6/6 [==============================] - 0s 62ms/step - loss: 0.3910 - val_loss: 0.4681\n",
      "Epoch 15/60\n",
      "6/6 [==============================] - 0s 55ms/step - loss: 0.5135 - val_loss: 0.2360\n",
      "Epoch 16/60\n",
      "6/6 [==============================] - 0s 66ms/step - loss: 0.3936 - val_loss: 0.2520\n",
      "Epoch 17/60\n",
      "6/6 [==============================] - 0s 57ms/step - loss: 0.3330 - val_loss: 0.2331\n",
      "Epoch 18/60\n",
      "6/6 [==============================] - 0s 63ms/step - loss: 0.3545 - val_loss: 0.2892\n",
      "Epoch 19/60\n",
      "6/6 [==============================] - 0s 44ms/step - loss: 0.3134 - val_loss: 0.3508\n",
      "Epoch 20/60\n",
      "6/6 [==============================] - 0s 41ms/step - loss: 0.2744 - val_loss: 0.2948\n",
      "Epoch 21/60\n",
      "6/6 [==============================] - 0s 48ms/step - loss: 0.3452 - val_loss: 0.2653\n",
      "Epoch 22/60\n",
      "6/6 [==============================] - 0s 41ms/step - loss: 0.2840 - val_loss: 0.2220\n",
      "Epoch 23/60\n",
      "6/6 [==============================] - 0s 44ms/step - loss: 0.2677 - val_loss: 0.1552\n",
      "Epoch 24/60\n",
      "6/6 [==============================] - 0s 50ms/step - loss: 0.2602 - val_loss: 0.2731\n",
      "Epoch 25/60\n",
      "6/6 [==============================] - 0s 50ms/step - loss: 0.3649 - val_loss: 0.3882\n",
      "Epoch 26/60\n",
      "6/6 [==============================] - 0s 41ms/step - loss: 0.2894 - val_loss: 0.1715\n",
      "Epoch 27/60\n",
      "6/6 [==============================] - 0s 39ms/step - loss: 0.2984 - val_loss: 0.1728\n",
      "Epoch 28/60\n",
      "6/6 [==============================] - 0s 38ms/step - loss: 0.2721 - val_loss: 0.2634\n",
      "Epoch 29/60\n",
      "6/6 [==============================] - 0s 37ms/step - loss: 0.2696 - val_loss: 0.2400\n",
      "Epoch 30/60\n",
      "6/6 [==============================] - 0s 36ms/step - loss: 0.2383 - val_loss: 0.1697\n",
      "Epoch 31/60\n",
      "6/6 [==============================] - 0s 34ms/step - loss: 0.2453 - val_loss: 0.2037\n",
      "Epoch 32/60\n",
      "6/6 [==============================] - 0s 36ms/step - loss: 0.2108 - val_loss: 0.2498\n",
      "Epoch 33/60\n",
      "6/6 [==============================] - 0s 38ms/step - loss: 0.2356 - val_loss: 0.2544\n",
      "Epoch 34/60\n",
      "6/6 [==============================] - 0s 77ms/step - loss: 0.2623 - val_loss: 0.1548\n",
      "Epoch 35/60\n",
      "6/6 [==============================] - 0s 61ms/step - loss: 0.6457 - val_loss: 0.1285\n",
      "Epoch 36/60\n",
      "6/6 [==============================] - 1s 119ms/step - loss: 0.3995 - val_loss: 0.3474\n",
      "Epoch 37/60\n",
      "6/6 [==============================] - 1s 131ms/step - loss: 0.4199 - val_loss: 0.3146\n",
      "Epoch 38/60\n",
      "6/6 [==============================] - 1s 104ms/step - loss: 0.3490 - val_loss: 0.2218\n",
      "Epoch 39/60\n",
      "6/6 [==============================] - 1s 102ms/step - loss: 0.3204 - val_loss: 0.2033\n",
      "Epoch 40/60\n",
      "6/6 [==============================] - 1s 91ms/step - loss: 0.2700 - val_loss: 0.2091\n",
      "Epoch 41/60\n",
      "6/6 [==============================] - 0s 62ms/step - loss: 0.2840 - val_loss: 0.2086\n",
      "Epoch 42/60\n",
      "6/6 [==============================] - 1s 109ms/step - loss: 0.2656 - val_loss: 0.2277\n",
      "Epoch 43/60\n",
      "6/6 [==============================] - 1s 96ms/step - loss: 0.2283 - val_loss: 0.2118\n",
      "Epoch 44/60\n",
      "6/6 [==============================] - 0s 61ms/step - loss: 0.1847 - val_loss: 0.1951\n",
      "Epoch 45/60\n",
      "6/6 [==============================] - 1s 247ms/step - loss: 0.1904 - val_loss: 0.2036\n",
      "Epoch 46/60\n",
      "6/6 [==============================] - 0s 76ms/step - loss: 0.1690 - val_loss: 0.2871\n",
      "Epoch 47/60\n",
      "6/6 [==============================] - 0s 66ms/step - loss: 0.2497 - val_loss: 0.4845\n",
      "Epoch 48/60\n",
      "6/6 [==============================] - 0s 88ms/step - loss: 0.2394 - val_loss: 0.2452\n",
      "Epoch 49/60\n",
      "6/6 [==============================] - 0s 64ms/step - loss: 0.2489 - val_loss: 0.2010\n",
      "Epoch 50/60\n",
      "6/6 [==============================] - 0s 62ms/step - loss: 0.2780 - val_loss: 0.2007\n",
      "Epoch 51/60\n",
      "6/6 [==============================] - 0s 61ms/step - loss: 0.2154 - val_loss: 0.2427\n",
      "Epoch 52/60\n",
      "6/6 [==============================] - 1s 112ms/step - loss: 0.2908 - val_loss: 0.1627\n",
      "Epoch 53/60\n",
      "6/6 [==============================] - 0s 83ms/step - loss: 0.2734 - val_loss: 0.2177\n",
      "Epoch 54/60\n",
      "6/6 [==============================] - 0s 52ms/step - loss: 0.2198 - val_loss: 0.1780\n",
      "Epoch 55/60\n",
      "6/6 [==============================] - 1s 132ms/step - loss: 0.1711 - val_loss: 0.2259\n",
      "Epoch 56/60\n",
      "6/6 [==============================] - 1s 98ms/step - loss: 0.1870 - val_loss: 0.2570\n",
      "Epoch 57/60\n",
      "6/6 [==============================] - 0s 64ms/step - loss: 0.1586 - val_loss: 0.2300\n",
      "Epoch 58/60\n",
      "6/6 [==============================] - 0s 61ms/step - loss: 0.1418 - val_loss: 0.2716\n",
      "Epoch 59/60\n",
      "6/6 [==============================] - 0s 81ms/step - loss: 0.1456 - val_loss: 0.1710\n",
      "Epoch 60/60\n",
      "6/6 [==============================] - 0s 67ms/step - loss: 0.1272 - val_loss: 0.1880\n"
     ]
    },
    {
     "data": {
      "image/png": "[encoded data removed]",
      "text/plain": [
       "<Figure size 640x480 with 1 Axes>"
      ]
     },
     "metadata": {},
     "output_type": "display_data"
    }
   ],
   "source": [
    "history= rnn.fit(X_train, Y_train,validation_data=(X_test, Y_test), epochs = 60, batch_size=32)\n",
    "\n",
    "# Plot the training loss and validation loss over epochs\n",
    "plt.plot(history.history['loss'], label='Training Loss')\n",
    "plt.plot(history.history['val_loss'], label='Validation Loss')\n",
    "plt.xlabel('Epoch')\n",
    "plt.ylabel('Loss')\n",
    "plt.legend()\n",
    "plt.show()"
   ]
  },
  {
   "cell_type": "code",
   "execution_count": 204,
   "metadata": {},
   "outputs": [],
   "source": [
    "rnn.save('rnn_weights.h5')"
   ]
  },
  {
   "cell_type": "code",
   "execution_count": 205,
   "metadata": {},
   "outputs": [
    {
     "data": {
      "image/png": "[encoded data removed]",
      "text/plain": [
       "<Figure size 640x480 with 1 Axes>"
      ]
     },
     "metadata": {},
     "output_type": "display_data"
    }
   ],
   "source": [
    "G = nx.DiGraph()  # Create a directed graph\n",
    "\n",
    "for layer in rnn.layers:\n",
    "    G.add_node(layer.name)\n",
    "\n",
    "# Add edges (connections)\n",
    "for i in range(len(rnn.layers) - 1):\n",
    "    G.add_edge(rnn.layers[i].name, rnn.layers[i + 1].name)\n",
    "\n",
    "# Customize layout and display\n",
    "pos = nx.spring_layout(G)  # Choose a layout algorithm\n",
    "nx.draw(G, pos, with_labels=True, font_weight=\"bold\")\n",
    "plt.show()\n"
   ]
  },
  {
   "cell_type": "markdown",
   "metadata": {},
   "source": []
  },
  {
   "cell_type": "code",
   "execution_count": 206,
   "metadata": {},
   "outputs": [
    {
     "name": "stdout",
     "output_type": "stream",
     "text": [
      "(21, 28, 1)\n",
      "1/1 [==============================] - 2s 2s/step\n",
      "[2, 2, 2, 2, 2, 2, 3, 2, 2, 2, 2, 3, 2, 2, 2, 2, 3, 2, 2, 1, 0]\n",
      "[2. 2. 2. 2. 2. 2. 3. 2. 2. 2. 2. 3. 1. 2. 2. 2. 3. 2. 2. 1. 0.]\n",
      "0.9523809523809523\n"
     ]
    }
   ],
   "source": [
    "print(X_test.shape)\n",
    "predictions_prob= rnn.predict(X_test)\n",
    "y_pred=[np.argmax(i) for i in predictions_prob]\n",
    "print(y_pred)\n",
    "print(y_test)\n",
    "accuracy = accuracy_score(y_test, y_pred)\n",
    "print(accuracy)"
   ]
  },
  {
   "cell_type": "code",
   "execution_count": 207,
   "metadata": {},
   "outputs": [],
   "source": [
    "rnn.save('LSTM.keras') "
   ]
  },
  {
   "cell_type": "code",
   "execution_count": null,
   "metadata": {},
   "outputs": [],
   "source": []
  }
 ],
 "metadata": {
  "kernelspec": {
   "display_name": "Python 3",
   "language": "python",
   "name": "python3"
  },
  "language_info": {
   "codemirror_mode": {
    "name": "ipython",
    "version": 3
   },
   "file_extension": ".py",
   "mimetype": "text/x-python",
   "name": "python",
   "nbconvert_exporter": "python",
   "pygments_lexer": "ipython3",
   "version": "3.10.9"
  }
 },
 "nbformat": 4,
 "nbformat_minor": 2
}
