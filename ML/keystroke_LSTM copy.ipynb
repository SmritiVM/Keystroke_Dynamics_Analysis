{
 "cells": [
  {
   "cell_type": "code",
   "execution_count": 1,
   "metadata": {},
   "outputs": [
    {
     "name": "stderr",
     "output_type": "stream",
     "text": [
      "C:\\Users\\skhim\\AppData\\Local\\Temp\\ipykernel_25108\\3144374601.py:1: DeprecationWarning: \n",
      "Pyarrow will become a required dependency of pandas in the next major release of pandas (pandas 3.0),\n",
      "(to allow more performant data types, such as the Arrow string type, and better interoperability with other libraries)\n",
      "but was not found to be installed on your system.\n",
      "If this would cause problems for you,\n",
      "please provide us feedback at https://github.com/pandas-dev/pandas/issues/54466\n",
      "        \n",
      "  import pandas as pd\n"
     ]
    }
   ],
   "source": [
    "import pandas as pd\n",
    "import numpy as np\n",
    "import matplotlib.pyplot as plt\n",
    "from sklearn.model_selection import train_test_split\n",
    "from sklearn.preprocessing import MinMaxScaler\n",
    "from tensorflow.keras.utils import to_categorical\n",
    "from sklearn.metrics import accuracy_score\n",
    "import networkx as nx\n",
    "%matplotlib inline"
   ]
  },
  {
   "cell_type": "code",
   "execution_count": 2,
   "metadata": {},
   "outputs": [
    {
     "data": {
      "text/html": [
       "<div>\n",
       "<style scoped>\n",
       "    .dataframe tbody tr th:only-of-type {\n",
       "        vertical-align: middle;\n",
       "    }\n",
       "\n",
       "    .dataframe tbody tr th {\n",
       "        vertical-align: top;\n",
       "    }\n",
       "\n",
       "    .dataframe thead th {\n",
       "        text-align: right;\n",
       "    }\n",
       "</style>\n",
       "<table border=\"1\" class=\"dataframe\">\n",
       "  <thead>\n",
       "    <tr style=\"text-align: right;\">\n",
       "      <th></th>\n",
       "      <th>name</th>\n",
       "      <th>rep</th>\n",
       "      <th>H.period</th>\n",
       "      <th>H.t</th>\n",
       "      <th>DD.period.t</th>\n",
       "      <th>UD.period.t</th>\n",
       "      <th>H.i</th>\n",
       "      <th>DD.t.i</th>\n",
       "      <th>UD.t.i</th>\n",
       "      <th>H.e</th>\n",
       "      <th>...</th>\n",
       "      <th>DD.o.n</th>\n",
       "      <th>UD.o.n</th>\n",
       "      <th>H.a</th>\n",
       "      <th>DD.n.a</th>\n",
       "      <th>UD.n.a</th>\n",
       "      <th>H.l</th>\n",
       "      <th>DD.a.l</th>\n",
       "      <th>UD.a.l</th>\n",
       "      <th>backspaces</th>\n",
       "      <th>caps_lock</th>\n",
       "    </tr>\n",
       "  </thead>\n",
       "  <tbody>\n",
       "    <tr>\n",
       "      <th>0</th>\n",
       "      <td>not_smriti</td>\n",
       "      <td>1</td>\n",
       "      <td>0.092790</td>\n",
       "      <td>0.090883</td>\n",
       "      <td>0.246703</td>\n",
       "      <td>0.337586</td>\n",
       "      <td>0.087738</td>\n",
       "      <td>0.153798</td>\n",
       "      <td>0.241535</td>\n",
       "      <td>0.087737</td>\n",
       "      <td>...</td>\n",
       "      <td>0.056452</td>\n",
       "      <td>0.229154</td>\n",
       "      <td>0.154004</td>\n",
       "      <td>0.218646</td>\n",
       "      <td>0.372650</td>\n",
       "      <td>0.096280</td>\n",
       "      <td>0.171825</td>\n",
       "      <td>0.268105</td>\n",
       "      <td>0</td>\n",
       "      <td>0</td>\n",
       "    </tr>\n",
       "    <tr>\n",
       "      <th>1</th>\n",
       "      <td>not_smriti</td>\n",
       "      <td>2</td>\n",
       "      <td>0.087310</td>\n",
       "      <td>0.085243</td>\n",
       "      <td>0.304038</td>\n",
       "      <td>0.389281</td>\n",
       "      <td>0.097292</td>\n",
       "      <td>0.217083</td>\n",
       "      <td>0.314374</td>\n",
       "      <td>0.102547</td>\n",
       "      <td>...</td>\n",
       "      <td>0.061247</td>\n",
       "      <td>0.225106</td>\n",
       "      <td>0.101477</td>\n",
       "      <td>0.194049</td>\n",
       "      <td>0.295526</td>\n",
       "      <td>0.101519</td>\n",
       "      <td>0.224497</td>\n",
       "      <td>0.326015</td>\n",
       "      <td>0</td>\n",
       "      <td>0</td>\n",
       "    </tr>\n",
       "    <tr>\n",
       "      <th>2</th>\n",
       "      <td>not_smriti</td>\n",
       "      <td>3</td>\n",
       "      <td>0.130960</td>\n",
       "      <td>0.086942</td>\n",
       "      <td>0.329384</td>\n",
       "      <td>0.416326</td>\n",
       "      <td>0.093535</td>\n",
       "      <td>0.090715</td>\n",
       "      <td>0.184250</td>\n",
       "      <td>0.086722</td>\n",
       "      <td>...</td>\n",
       "      <td>0.144304</td>\n",
       "      <td>0.252867</td>\n",
       "      <td>0.176790</td>\n",
       "      <td>0.134659</td>\n",
       "      <td>0.311448</td>\n",
       "      <td>0.098133</td>\n",
       "      <td>0.156365</td>\n",
       "      <td>0.254498</td>\n",
       "      <td>0</td>\n",
       "      <td>0</td>\n",
       "    </tr>\n",
       "    <tr>\n",
       "      <th>3</th>\n",
       "      <td>not_smriti</td>\n",
       "      <td>4</td>\n",
       "      <td>0.140503</td>\n",
       "      <td>0.074106</td>\n",
       "      <td>0.361985</td>\n",
       "      <td>0.436090</td>\n",
       "      <td>0.094165</td>\n",
       "      <td>1.971756</td>\n",
       "      <td>2.065921</td>\n",
       "      <td>0.109514</td>\n",
       "      <td>...</td>\n",
       "      <td>0.126976</td>\n",
       "      <td>0.255856</td>\n",
       "      <td>0.124415</td>\n",
       "      <td>0.244116</td>\n",
       "      <td>0.368531</td>\n",
       "      <td>0.084438</td>\n",
       "      <td>0.282270</td>\n",
       "      <td>0.366708</td>\n",
       "      <td>0</td>\n",
       "      <td>0</td>\n",
       "    </tr>\n",
       "    <tr>\n",
       "      <th>4</th>\n",
       "      <td>not_smriti</td>\n",
       "      <td>5</td>\n",
       "      <td>0.147327</td>\n",
       "      <td>0.077649</td>\n",
       "      <td>0.291591</td>\n",
       "      <td>0.369241</td>\n",
       "      <td>0.109658</td>\n",
       "      <td>0.166732</td>\n",
       "      <td>0.276390</td>\n",
       "      <td>0.119945</td>\n",
       "      <td>...</td>\n",
       "      <td>0.096402</td>\n",
       "      <td>0.246673</td>\n",
       "      <td>0.154400</td>\n",
       "      <td>0.194311</td>\n",
       "      <td>0.348711</td>\n",
       "      <td>0.131821</td>\n",
       "      <td>0.163093</td>\n",
       "      <td>0.294914</td>\n",
       "      <td>0</td>\n",
       "      <td>0</td>\n",
       "    </tr>\n",
       "  </tbody>\n",
       "</table>\n",
       "<p>5 rows × 32 columns</p>\n",
       "</div>"
      ],
      "text/plain": [
       "         name  rep  H.period       H.t  DD.period.t  UD.period.t       H.i  \\\n",
       "0  not_smriti    1  0.092790  0.090883     0.246703     0.337586  0.087738   \n",
       "1  not_smriti    2  0.087310  0.085243     0.304038     0.389281  0.097292   \n",
       "2  not_smriti    3  0.130960  0.086942     0.329384     0.416326  0.093535   \n",
       "3  not_smriti    4  0.140503  0.074106     0.361985     0.436090  0.094165   \n",
       "4  not_smriti    5  0.147327  0.077649     0.291591     0.369241  0.109658   \n",
       "\n",
       "     DD.t.i    UD.t.i       H.e  ...    DD.o.n    UD.o.n       H.a    DD.n.a  \\\n",
       "0  0.153798  0.241535  0.087737  ...  0.056452  0.229154  0.154004  0.218646   \n",
       "1  0.217083  0.314374  0.102547  ...  0.061247  0.225106  0.101477  0.194049   \n",
       "2  0.090715  0.184250  0.086722  ...  0.144304  0.252867  0.176790  0.134659   \n",
       "3  1.971756  2.065921  0.109514  ...  0.126976  0.255856  0.124415  0.244116   \n",
       "4  0.166732  0.276390  0.119945  ...  0.096402  0.246673  0.154400  0.194311   \n",
       "\n",
       "     UD.n.a       H.l    DD.a.l    UD.a.l  backspaces  caps_lock  \n",
       "0  0.372650  0.096280  0.171825  0.268105           0          0  \n",
       "1  0.295526  0.101519  0.224497  0.326015           0          0  \n",
       "2  0.311448  0.098133  0.156365  0.254498           0          0  \n",
       "3  0.368531  0.084438  0.282270  0.366708           0          0  \n",
       "4  0.348711  0.131821  0.163093  0.294914           0          0  \n",
       "\n",
       "[5 rows x 32 columns]"
      ]
     },
     "execution_count": 2,
     "metadata": {},
     "output_type": "execute_result"
    }
   ],
   "source": [
    "df = pd.read_csv('keystroke_data.csv')\n",
    "df.head()"
   ]
  },
  {
   "cell_type": "code",
   "execution_count": 3,
   "metadata": {},
   "outputs": [],
   "source": [
    "subjects = df['name'].unique()"
   ]
  },
  {
   "cell_type": "code",
   "execution_count": 4,
   "metadata": {},
   "outputs": [],
   "source": [
    "subjects_to_int = {subject: i  for i, subject in enumerate(subjects)}\n",
    "int_to_subjects = {i: subject for i, subject in enumerate(subjects)}"
   ]
  },
  {
   "cell_type": "code",
   "execution_count": 5,
   "metadata": {},
   "outputs": [
    {
     "name": "stderr",
     "output_type": "stream",
     "text": [
      "C:\\Users\\skhim\\AppData\\Local\\Temp\\ipykernel_25108\\1725018810.py:1: FutureWarning: Downcasting behavior in `replace` is deprecated and will be removed in a future version. To retain the old behavior, explicitly call `result.infer_objects(copy=False)`. To opt-in to the future behavior, set `pd.set_option('future.no_silent_downcasting', True)`\n",
      "  df = df.replace(subjects_to_int)\n"
     ]
    }
   ],
   "source": [
    "df = df.replace(subjects_to_int)"
   ]
  },
  {
   "cell_type": "code",
   "execution_count": 6,
   "metadata": {},
   "outputs": [
    {
     "data": {
      "text/html": [
       "<div>\n",
       "<style scoped>\n",
       "    .dataframe tbody tr th:only-of-type {\n",
       "        vertical-align: middle;\n",
       "    }\n",
       "\n",
       "    .dataframe tbody tr th {\n",
       "        vertical-align: top;\n",
       "    }\n",
       "\n",
       "    .dataframe thead th {\n",
       "        text-align: right;\n",
       "    }\n",
       "</style>\n",
       "<table border=\"1\" class=\"dataframe\">\n",
       "  <thead>\n",
       "    <tr style=\"text-align: right;\">\n",
       "      <th></th>\n",
       "      <th>name</th>\n",
       "      <th>rep</th>\n",
       "      <th>H.period</th>\n",
       "      <th>H.t</th>\n",
       "      <th>DD.period.t</th>\n",
       "      <th>UD.period.t</th>\n",
       "      <th>H.i</th>\n",
       "      <th>DD.t.i</th>\n",
       "      <th>UD.t.i</th>\n",
       "      <th>H.e</th>\n",
       "      <th>...</th>\n",
       "      <th>DD.o.n</th>\n",
       "      <th>UD.o.n</th>\n",
       "      <th>H.a</th>\n",
       "      <th>DD.n.a</th>\n",
       "      <th>UD.n.a</th>\n",
       "      <th>H.l</th>\n",
       "      <th>DD.a.l</th>\n",
       "      <th>UD.a.l</th>\n",
       "      <th>backspaces</th>\n",
       "      <th>caps_lock</th>\n",
       "    </tr>\n",
       "  </thead>\n",
       "  <tbody>\n",
       "    <tr>\n",
       "      <th>0</th>\n",
       "      <td>0</td>\n",
       "      <td>1</td>\n",
       "      <td>0.092790</td>\n",
       "      <td>0.090883</td>\n",
       "      <td>0.246703</td>\n",
       "      <td>0.337586</td>\n",
       "      <td>0.087738</td>\n",
       "      <td>0.153798</td>\n",
       "      <td>0.241535</td>\n",
       "      <td>0.087737</td>\n",
       "      <td>...</td>\n",
       "      <td>0.056452</td>\n",
       "      <td>0.229154</td>\n",
       "      <td>0.154004</td>\n",
       "      <td>0.218646</td>\n",
       "      <td>0.372650</td>\n",
       "      <td>0.096280</td>\n",
       "      <td>0.171825</td>\n",
       "      <td>0.268105</td>\n",
       "      <td>0</td>\n",
       "      <td>0</td>\n",
       "    </tr>\n",
       "    <tr>\n",
       "      <th>1</th>\n",
       "      <td>0</td>\n",
       "      <td>2</td>\n",
       "      <td>0.087310</td>\n",
       "      <td>0.085243</td>\n",
       "      <td>0.304038</td>\n",
       "      <td>0.389281</td>\n",
       "      <td>0.097292</td>\n",
       "      <td>0.217083</td>\n",
       "      <td>0.314374</td>\n",
       "      <td>0.102547</td>\n",
       "      <td>...</td>\n",
       "      <td>0.061247</td>\n",
       "      <td>0.225106</td>\n",
       "      <td>0.101477</td>\n",
       "      <td>0.194049</td>\n",
       "      <td>0.295526</td>\n",
       "      <td>0.101519</td>\n",
       "      <td>0.224497</td>\n",
       "      <td>0.326015</td>\n",
       "      <td>0</td>\n",
       "      <td>0</td>\n",
       "    </tr>\n",
       "    <tr>\n",
       "      <th>2</th>\n",
       "      <td>0</td>\n",
       "      <td>3</td>\n",
       "      <td>0.130960</td>\n",
       "      <td>0.086942</td>\n",
       "      <td>0.329384</td>\n",
       "      <td>0.416326</td>\n",
       "      <td>0.093535</td>\n",
       "      <td>0.090715</td>\n",
       "      <td>0.184250</td>\n",
       "      <td>0.086722</td>\n",
       "      <td>...</td>\n",
       "      <td>0.144304</td>\n",
       "      <td>0.252867</td>\n",
       "      <td>0.176790</td>\n",
       "      <td>0.134659</td>\n",
       "      <td>0.311448</td>\n",
       "      <td>0.098133</td>\n",
       "      <td>0.156365</td>\n",
       "      <td>0.254498</td>\n",
       "      <td>0</td>\n",
       "      <td>0</td>\n",
       "    </tr>\n",
       "    <tr>\n",
       "      <th>3</th>\n",
       "      <td>0</td>\n",
       "      <td>4</td>\n",
       "      <td>0.140503</td>\n",
       "      <td>0.074106</td>\n",
       "      <td>0.361985</td>\n",
       "      <td>0.436090</td>\n",
       "      <td>0.094165</td>\n",
       "      <td>1.971756</td>\n",
       "      <td>2.065921</td>\n",
       "      <td>0.109514</td>\n",
       "      <td>...</td>\n",
       "      <td>0.126976</td>\n",
       "      <td>0.255856</td>\n",
       "      <td>0.124415</td>\n",
       "      <td>0.244116</td>\n",
       "      <td>0.368531</td>\n",
       "      <td>0.084438</td>\n",
       "      <td>0.282270</td>\n",
       "      <td>0.366708</td>\n",
       "      <td>0</td>\n",
       "      <td>0</td>\n",
       "    </tr>\n",
       "    <tr>\n",
       "      <th>4</th>\n",
       "      <td>0</td>\n",
       "      <td>5</td>\n",
       "      <td>0.147327</td>\n",
       "      <td>0.077649</td>\n",
       "      <td>0.291591</td>\n",
       "      <td>0.369241</td>\n",
       "      <td>0.109658</td>\n",
       "      <td>0.166732</td>\n",
       "      <td>0.276390</td>\n",
       "      <td>0.119945</td>\n",
       "      <td>...</td>\n",
       "      <td>0.096402</td>\n",
       "      <td>0.246673</td>\n",
       "      <td>0.154400</td>\n",
       "      <td>0.194311</td>\n",
       "      <td>0.348711</td>\n",
       "      <td>0.131821</td>\n",
       "      <td>0.163093</td>\n",
       "      <td>0.294914</td>\n",
       "      <td>0</td>\n",
       "      <td>0</td>\n",
       "    </tr>\n",
       "  </tbody>\n",
       "</table>\n",
       "<p>5 rows × 32 columns</p>\n",
       "</div>"
      ],
      "text/plain": [
       "   name  rep  H.period       H.t  DD.period.t  UD.period.t       H.i  \\\n",
       "0     0    1  0.092790  0.090883     0.246703     0.337586  0.087738   \n",
       "1     0    2  0.087310  0.085243     0.304038     0.389281  0.097292   \n",
       "2     0    3  0.130960  0.086942     0.329384     0.416326  0.093535   \n",
       "3     0    4  0.140503  0.074106     0.361985     0.436090  0.094165   \n",
       "4     0    5  0.147327  0.077649     0.291591     0.369241  0.109658   \n",
       "\n",
       "     DD.t.i    UD.t.i       H.e  ...    DD.o.n    UD.o.n       H.a    DD.n.a  \\\n",
       "0  0.153798  0.241535  0.087737  ...  0.056452  0.229154  0.154004  0.218646   \n",
       "1  0.217083  0.314374  0.102547  ...  0.061247  0.225106  0.101477  0.194049   \n",
       "2  0.090715  0.184250  0.086722  ...  0.144304  0.252867  0.176790  0.134659   \n",
       "3  1.971756  2.065921  0.109514  ...  0.126976  0.255856  0.124415  0.244116   \n",
       "4  0.166732  0.276390  0.119945  ...  0.096402  0.246673  0.154400  0.194311   \n",
       "\n",
       "     UD.n.a       H.l    DD.a.l    UD.a.l  backspaces  caps_lock  \n",
       "0  0.372650  0.096280  0.171825  0.268105           0          0  \n",
       "1  0.295526  0.101519  0.224497  0.326015           0          0  \n",
       "2  0.311448  0.098133  0.156365  0.254498           0          0  \n",
       "3  0.368531  0.084438  0.282270  0.366708           0          0  \n",
       "4  0.348711  0.131821  0.163093  0.294914           0          0  \n",
       "\n",
       "[5 rows x 32 columns]"
      ]
     },
     "execution_count": 6,
     "metadata": {},
     "output_type": "execute_result"
    }
   ],
   "source": [
    "df.head()"
   ]
  },
  {
   "cell_type": "code",
   "execution_count": 7,
   "metadata": {},
   "outputs": [
    {
     "name": "stdout",
     "output_type": "stream",
     "text": [
      "[[ 0.          1.          0.09279013 ...  0.26810479  0.\n",
      "   0.        ]\n",
      " [ 0.          2.          0.08730984 ...  0.32601547  0.\n",
      "   0.        ]\n",
      " [ 0.          3.          0.13095999 ...  0.25449801  0.\n",
      "   0.        ]\n",
      " ...\n",
      " [ 0.          8.          0.07643366 ...  0.31427527  0.\n",
      "   2.        ]\n",
      " [ 0.          9.          0.0811522  ...  0.28283095  0.\n",
      "   2.        ]\n",
      " [ 0.         10.          0.06935549 ...  0.28545785  0.\n",
      "   2.        ]]\n"
     ]
    },
    {
     "data": {
      "text/plain": [
       "(150, 32)"
      ]
     },
     "execution_count": 7,
     "metadata": {},
     "output_type": "execute_result"
    }
   ],
   "source": [
    "data_raw = df.values\n",
    "print(data_raw)\n",
    "data_raw.shape"
   ]
  },
  {
   "cell_type": "code",
   "execution_count": 9,
   "metadata": {},
   "outputs": [
    {
     "name": "stdout",
     "output_type": "stream",
     "text": [
      "[[0.09279013 0.09088349 0.24670267 ... 0.         0.         0.        ]\n",
      " [0.08730984 0.08524323 0.30403805 ... 0.         0.         0.        ]\n",
      " [0.13095999 0.08694196 0.32938385 ... 0.         0.         0.        ]\n",
      " ...\n",
      " [0.07643366 0.06415033 0.25652361 ... 0.         2.         0.        ]\n",
      " [0.0811522  0.04557419 0.29244423 ... 0.         2.         0.        ]\n",
      " [0.06935549 0.07601428 0.26608658 ... 0.         2.         0.        ]]\n"
     ]
    }
   ],
   "source": [
    "data=data_raw[ :, 2:]\n",
    "labels_raw = df['name'].values\n",
    "labels= labels_raw.reshape(labels_raw.shape[0],1)\n",
    "data=np.hstack([data, labels])\n",
    "print(data)"
   ]
  },
  {
   "cell_type": "code",
   "execution_count": 10,
   "metadata": {},
   "outputs": [
    {
     "data": {
      "text/plain": [
       "(150, 30)"
      ]
     },
     "execution_count": 10,
     "metadata": {},
     "output_type": "execute_result"
    }
   ],
   "source": [
    "np.random.shuffle(data)\n",
    "x=data[ : , :-1]\n",
    "y=data[:,-1]\n",
    "x.shape"
   ]
  },
  {
   "cell_type": "code",
   "execution_count": null,
   "metadata": {},
   "outputs": [],
   "source": [
    "# scaler = MinMaxScaler()\n",
    "# x = scaler.fit_transform(x)"
   ]
  },
  {
   "cell_type": "code",
   "execution_count": 11,
   "metadata": {},
   "outputs": [],
   "source": [
    "X_train, X_test, y_train, y_test = train_test_split(x, y, test_size=0.1, random_state=0)"
   ]
  },
  {
   "cell_type": "code",
   "execution_count": 14,
   "metadata": {},
   "outputs": [],
   "source": [
    "Y_train = to_categorical(y_train, num_classes=2)\n",
    "Y_test=to_categorical(y_test,num_classes=2)\n"
   ]
  },
  {
   "cell_type": "code",
   "execution_count": 15,
   "metadata": {},
   "outputs": [
    {
     "data": {
      "text/plain": [
       "(135, 30, 1)"
      ]
     },
     "execution_count": 15,
     "metadata": {},
     "output_type": "execute_result"
    }
   ],
   "source": [
    "X_train = np.reshape(X_train, (X_train.shape[0], X_train.shape[1], 1))\n",
    "X_test = np.reshape(X_test, (X_test.shape[0], X_test.shape[1], 1))\n",
    "X_train.shape"
   ]
  },
  {
   "cell_type": "code",
   "execution_count": 16,
   "metadata": {},
   "outputs": [],
   "source": [
    "from tensorflow.keras.models import Sequential\n",
    "from tensorflow.keras.layers import Dense, LSTM, Dropout\n",
    "from tensorflow.keras.optimizers import Adam\n",
    "import tensorflow as tf"
   ]
  },
  {
   "cell_type": "code",
   "execution_count": null,
   "metadata": {},
   "outputs": [],
   "source": [
    "# rnn = Sequential()\n",
    "# rnn.add(LSTM(units = 45, return_sequences = True, input_shape = (X_train.shape[1], 1)))\n",
    "# rnn.add(Dropout(0.2))\n",
    "# for i in [True, True, False]:\n",
    "#     rnn.add(LSTM(units = 45, return_sequences = i))\n",
    "#     rnn.add(Dropout(0.2))\n",
    "# rnn.add(Dense(units = 51, activation='softmax', name='output_layer'))"
   ]
  },
  {
   "cell_type": "code",
   "execution_count": 17,
   "metadata": {},
   "outputs": [],
   "source": [
    "rnn = Sequential()\n",
    "for i in [True, True, False]:\n",
    "    rnn.add(LSTM(units = 45, return_sequences = i))\n",
    "    rnn.add(Dropout(0.2))\n",
    "rnn.add(Dense(units = 2))"
   ]
  },
  {
   "cell_type": "code",
   "execution_count": 18,
   "metadata": {},
   "outputs": [],
   "source": [
    "lr_schedule = tf.keras.optimizers.schedules.ExponentialDecay(\n",
    "    initial_learning_rate=0.01,\n",
    "    decay_steps=10000,\n",
    "    decay_rate=0.1)\n",
    "opt = Adam(learning_rate=lr_schedule, beta_1=0.9, beta_2=0.999)"
   ]
  },
  {
   "cell_type": "code",
   "execution_count": 19,
   "metadata": {},
   "outputs": [],
   "source": [
    "rnn.compile(optimizer = opt, loss = 'categorical_crossentropy')"
   ]
  },
  {
   "cell_type": "code",
   "execution_count": 20,
   "metadata": {},
   "outputs": [
    {
     "name": "stdout",
     "output_type": "stream",
     "text": [
      "Epoch 1/60\n",
      "5/5 [==============================] - 6s 228ms/step - loss: 2.2204 - val_loss: 0.5341\n",
      "Epoch 2/60\n",
      "5/5 [==============================] - 0s 36ms/step - loss: 0.3821 - val_loss: 0.4048\n",
      "Epoch 3/60\n",
      "5/5 [==============================] - 0s 30ms/step - loss: 0.3279 - val_loss: 0.2796\n",
      "Epoch 4/60\n",
      "5/5 [==============================] - 0s 32ms/step - loss: 0.5934 - val_loss: 0.2773\n",
      "Epoch 5/60\n",
      "5/5 [==============================] - 0s 29ms/step - loss: 0.6177 - val_loss: 0.2768\n",
      "Epoch 6/60\n",
      "5/5 [==============================] - 0s 36ms/step - loss: 3.1101 - val_loss: 0.2773\n",
      "Epoch 7/60\n",
      "5/5 [==============================] - 0s 30ms/step - loss: 2.5170 - val_loss: 0.2792\n",
      "Epoch 8/60\n",
      "5/5 [==============================] - 0s 32ms/step - loss: 3.7156 - val_loss: 2.4384\n",
      "Epoch 9/60\n",
      "5/5 [==============================] - 0s 33ms/step - loss: 3.7089 - val_loss: 3.5062\n",
      "Epoch 10/60\n",
      "5/5 [==============================] - 0s 40ms/step - loss: 2.9955 - val_loss: 3.5010\n",
      "Epoch 11/60\n",
      "5/5 [==============================] - 0s 47ms/step - loss: 3.3532 - val_loss: 3.5004\n",
      "Epoch 12/60\n",
      "5/5 [==============================] - 0s 38ms/step - loss: 3.4642 - val_loss: 3.5011\n",
      "Epoch 13/60\n",
      "5/5 [==============================] - 0s 35ms/step - loss: 4.3142 - val_loss: 3.5050\n",
      "Epoch 14/60\n",
      "5/5 [==============================] - 0s 33ms/step - loss: 4.0640 - val_loss: 3.5084\n",
      "Epoch 15/60\n",
      "5/5 [==============================] - 0s 36ms/step - loss: 3.8190 - val_loss: 3.5041\n",
      "Epoch 16/60\n",
      "5/5 [==============================] - 0s 32ms/step - loss: 4.3003 - val_loss: 3.5007\n",
      "Epoch 17/60\n",
      "5/5 [==============================] - 0s 31ms/step - loss: 3.7121 - val_loss: 3.4997\n",
      "Epoch 18/60\n",
      "5/5 [==============================] - 0s 32ms/step - loss: 5.0213 - val_loss: 3.5008\n",
      "Epoch 19/60\n",
      "5/5 [==============================] - 0s 32ms/step - loss: 5.4992 - val_loss: 3.5110\n",
      "Epoch 20/60\n",
      "5/5 [==============================] - 0s 34ms/step - loss: 4.7812 - val_loss: 3.5047\n",
      "Epoch 21/60\n",
      "5/5 [==============================] - 0s 33ms/step - loss: 4.6580 - val_loss: 3.5050\n",
      "Epoch 22/60\n",
      "5/5 [==============================] - 0s 32ms/step - loss: 4.6606 - val_loss: 3.5025\n",
      "Epoch 23/60\n",
      "5/5 [==============================] - 0s 39ms/step - loss: 4.3088 - val_loss: 3.5001\n",
      "Epoch 24/60\n",
      "5/5 [==============================] - 0s 36ms/step - loss: 3.9508 - val_loss: 3.5001\n",
      "Epoch 25/60\n",
      "5/5 [==============================] - 0s 39ms/step - loss: 4.5468 - val_loss: 3.5015\n",
      "Epoch 26/60\n",
      "5/5 [==============================] - 0s 38ms/step - loss: 4.2991 - val_loss: 3.5085\n",
      "Epoch 27/60\n",
      "5/5 [==============================] - 0s 34ms/step - loss: 4.3133 - val_loss: 3.5058\n",
      "Epoch 28/60\n",
      "5/5 [==============================] - 0s 30ms/step - loss: 4.4267 - val_loss: 3.5031\n",
      "Epoch 29/60\n",
      "5/5 [==============================] - 0s 30ms/step - loss: 4.6642 - val_loss: 3.5006\n",
      "Epoch 30/60\n",
      "5/5 [==============================] - 0s 30ms/step - loss: 3.7054 - val_loss: 3.4993\n",
      "Epoch 31/60\n",
      "5/5 [==============================] - 0s 31ms/step - loss: 4.4167 - val_loss: 3.4977\n",
      "Epoch 32/60\n",
      "5/5 [==============================] - 0s 30ms/step - loss: 4.8982 - val_loss: 4.5706\n",
      "Epoch 33/60\n",
      "5/5 [==============================] - 0s 35ms/step - loss: 6.0858 - val_loss: 9.9385\n",
      "Epoch 34/60\n",
      "5/5 [==============================] - 0s 34ms/step - loss: 6.9301 - val_loss: 12.8945\n",
      "Epoch 35/60\n",
      "5/5 [==============================] - 0s 30ms/step - loss: 7.9994 - val_loss: 13.9690\n",
      "Epoch 36/60\n",
      "5/5 [==============================] - 0s 31ms/step - loss: 9.0739 - val_loss: 6.4472\n",
      "Epoch 37/60\n",
      "5/5 [==============================] - 0s 31ms/step - loss: 9.3127 - val_loss: 6.4472\n",
      "Epoch 38/60\n",
      "5/5 [==============================] - 0s 39ms/step - loss: 7.7606 - val_loss: 6.4472\n",
      "Epoch 39/60\n",
      "5/5 [==============================] - 0s 39ms/step - loss: 7.2830 - val_loss: 5.3727\n",
      "Epoch 40/60\n",
      "5/5 [==============================] - 0s 36ms/step - loss: 7.0442 - val_loss: 5.3727\n",
      "Epoch 41/60\n",
      "5/5 [==============================] - 0s 37ms/step - loss: 8.4769 - val_loss: 5.3727\n",
      "Epoch 42/60\n",
      "5/5 [==============================] - 0s 34ms/step - loss: 7.8800 - val_loss: 5.3727\n",
      "Epoch 43/60\n",
      "5/5 [==============================] - 0s 32ms/step - loss: 8.1187 - val_loss: 5.3727\n",
      "Epoch 44/60\n",
      "5/5 [==============================] - 0s 32ms/step - loss: 8.5963 - val_loss: 5.3727\n",
      "Epoch 45/60\n",
      "5/5 [==============================] - 0s 44ms/step - loss: 8.7157 - val_loss: 5.3727\n",
      "Epoch 46/60\n",
      "5/5 [==============================] - 0s 36ms/step - loss: 8.5963 - val_loss: 5.3727\n",
      "Epoch 47/60\n",
      "5/5 [==============================] - 0s 32ms/step - loss: 7.8800 - val_loss: 5.3727\n",
      "Epoch 48/60\n",
      "5/5 [==============================] - 0s 32ms/step - loss: 9.5515 - val_loss: 5.3727\n",
      "Epoch 49/60\n",
      "5/5 [==============================] - 0s 35ms/step - loss: 8.9545 - val_loss: 5.3727\n",
      "Epoch 50/60\n",
      "5/5 [==============================] - 0s 32ms/step - loss: 7.6412 - val_loss: 5.3727\n",
      "Epoch 51/60\n",
      "5/5 [==============================] - 0s 37ms/step - loss: 8.4769 - val_loss: 5.3727\n",
      "Epoch 52/60\n",
      "5/5 [==============================] - 0s 40ms/step - loss: 8.4769 - val_loss: 5.3727\n",
      "Epoch 53/60\n",
      "5/5 [==============================] - 0s 35ms/step - loss: 8.8351 - val_loss: 5.3727\n",
      "Epoch 54/60\n",
      "5/5 [==============================] - 0s 31ms/step - loss: 9.3127 - val_loss: 5.3727\n",
      "Epoch 55/60\n",
      "5/5 [==============================] - 0s 31ms/step - loss: 8.4769 - val_loss: 5.3727\n",
      "Epoch 56/60\n",
      "5/5 [==============================] - 0s 31ms/step - loss: 7.7606 - val_loss: 5.3727\n",
      "Epoch 57/60\n",
      "5/5 [==============================] - 0s 32ms/step - loss: 8.5963 - val_loss: 5.3727\n",
      "Epoch 58/60\n",
      "5/5 [==============================] - 0s 37ms/step - loss: 7.8800 - val_loss: 5.3727\n",
      "Epoch 59/60\n",
      "5/5 [==============================] - 0s 31ms/step - loss: 9.4321 - val_loss: 5.3727\n",
      "Epoch 60/60\n",
      "5/5 [==============================] - 0s 32ms/step - loss: 8.4769 - val_loss: 5.3727\n"
     ]
    },
    {
     "data": {
      "image/png": "[encoded data removed]",
      "text/plain": [
       "<Figure size 640x480 with 1 Axes>"
      ]
     },
     "metadata": {},
     "output_type": "display_data"
    }
   ],
   "source": [
    "history= rnn.fit(X_train, Y_train,validation_data=(X_test, Y_test), epochs = 60, batch_size=32)\n",
    "\n",
    "# Plot the training loss and validation loss over epochs\n",
    "plt.plot(history.history['loss'], label='Training Loss')\n",
    "plt.plot(history.history['val_loss'], label='Validation Loss')\n",
    "plt.xlabel('Epoch')\n",
    "plt.ylabel('Loss')\n",
    "plt.legend()\n",
    "plt.show()"
   ]
  },
  {
   "cell_type": "code",
   "execution_count": null,
   "metadata": {},
   "outputs": [],
   "source": [
    "# rnn.save_weights('rnn_weights.h5')"
   ]
  },
  {
   "cell_type": "code",
   "execution_count": 21,
   "metadata": {},
   "outputs": [
    {
     "data": {
      "image/png": "[encoded data removed]",
      "text/plain": [
       "<Figure size 640x480 with 1 Axes>"
      ]
     },
     "metadata": {},
     "output_type": "display_data"
    }
   ],
   "source": [
    "G = nx.DiGraph()  # Create a directed graph\n",
    "\n",
    "for layer in rnn.layers:\n",
    "    G.add_node(layer.name)\n",
    "\n",
    "# Add edges (connections)\n",
    "for i in range(len(rnn.layers) - 1):\n",
    "    G.add_edge(rnn.layers[i].name, rnn.layers[i + 1].name)\n",
    "\n",
    "# Customize layout and display\n",
    "pos = nx.spring_layout(G)  # Choose a layout algorithm\n",
    "nx.draw(G, pos, with_labels=True, font_weight=\"bold\")\n",
    "plt.show()\n"
   ]
  },
  {
   "cell_type": "markdown",
   "metadata": {},
   "source": []
  },
  {
   "cell_type": "code",
   "execution_count": 22,
   "metadata": {},
   "outputs": [
    {
     "name": "stdout",
     "output_type": "stream",
     "text": [
      "(15, 30, 1)\n",
      "1/1 [==============================] - 1s 916ms/step\n",
      "[0, 0, 0, 0, 0, 0, 0, 0, 0, 0, 0, 0, 0, 0, 0]\n",
      "[1. 0. 0. 0. 0. 0. 1. 1. 1. 0. 1. 1. 0. 0. 0.]\n",
      "0.6\n"
     ]
    }
   ],
   "source": [
    "print(X_test.shape)\n",
    "predictions_prob= rnn.predict(X_test)\n",
    "y_pred=[np.argmax(i) for i in predictions_prob]\n",
    "print(y_pred)\n",
    "print(y_test)\n",
    "accuracy = accuracy_score(y_test, y_pred)\n",
    "print(accuracy)"
   ]
  },
  {
   "cell_type": "code",
   "execution_count": null,
   "metadata": {},
   "outputs": [],
   "source": [
    "# rnn.save('LSTM.keras') "
   ]
  }
 ],
 "metadata": {
  "kernelspec": {
   "display_name": "Python 3",
   "language": "python",
   "name": "python3"
  },
  "language_info": {
   "codemirror_mode": {
    "name": "ipython",
    "version": 3
   },
   "file_extension": ".py",
   "mimetype": "text/x-python",
   "name": "python",
   "nbconvert_exporter": "python",
   "pygments_lexer": "ipython3",
   "version": "3.10.9"
  }
 },
 "nbformat": 4,
 "nbformat_minor": 2
}
