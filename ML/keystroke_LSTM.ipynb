{
 "cells": [
  {
   "cell_type": "code",
   "execution_count": 4,
   "metadata": {},
   "outputs": [],
   "source": [
    "import pandas as pd\n",
    "import numpy as np\n",
    "import matplotlib.pyplot as plt\n",
    "from sklearn.model_selection import train_test_split\n",
    "from sklearn.preprocessing import MinMaxScaler\n",
    "from tensorflow.keras.utils import to_categorical\n",
    "from sklearn.metrics import accuracy_score\n",
    "import networkx as nx\n",
    "%matplotlib inline"
   ]
  },
  {
   "cell_type": "code",
   "execution_count": 5,
   "metadata": {},
   "outputs": [
    {
     "data": {
      "text/html": [
       "<div>\n",
       "<style scoped>\n",
       "    .dataframe tbody tr th:only-of-type {\n",
       "        vertical-align: middle;\n",
       "    }\n",
       "\n",
       "    .dataframe tbody tr th {\n",
       "        vertical-align: top;\n",
       "    }\n",
       "\n",
       "    .dataframe thead th {\n",
       "        text-align: right;\n",
       "    }\n",
       "</style>\n",
       "<table border=\"1\" class=\"dataframe\">\n",
       "  <thead>\n",
       "    <tr style=\"text-align: right;\">\n",
       "      <th></th>\n",
       "      <th>subject</th>\n",
       "      <th>sessionIndex</th>\n",
       "      <th>rep</th>\n",
       "      <th>H.period</th>\n",
       "      <th>DD.period.t</th>\n",
       "      <th>UD.period.t</th>\n",
       "      <th>H.t</th>\n",
       "      <th>DD.t.i</th>\n",
       "      <th>UD.t.i</th>\n",
       "      <th>H.i</th>\n",
       "      <th>...</th>\n",
       "      <th>H.a</th>\n",
       "      <th>DD.a.n</th>\n",
       "      <th>UD.a.n</th>\n",
       "      <th>H.n</th>\n",
       "      <th>DD.n.l</th>\n",
       "      <th>UD.n.l</th>\n",
       "      <th>H.l</th>\n",
       "      <th>DD.l.Return</th>\n",
       "      <th>UD.l.Return</th>\n",
       "      <th>H.Return</th>\n",
       "    </tr>\n",
       "  </thead>\n",
       "  <tbody>\n",
       "    <tr>\n",
       "      <th>0</th>\n",
       "      <td>s002</td>\n",
       "      <td>1</td>\n",
       "      <td>1</td>\n",
       "      <td>0.1491</td>\n",
       "      <td>0.3979</td>\n",
       "      <td>0.2488</td>\n",
       "      <td>0.1069</td>\n",
       "      <td>0.1674</td>\n",
       "      <td>0.0605</td>\n",
       "      <td>0.1169</td>\n",
       "      <td>...</td>\n",
       "      <td>0.1349</td>\n",
       "      <td>0.1484</td>\n",
       "      <td>0.0135</td>\n",
       "      <td>0.0932</td>\n",
       "      <td>0.3515</td>\n",
       "      <td>0.2583</td>\n",
       "      <td>0.1338</td>\n",
       "      <td>0.3509</td>\n",
       "      <td>0.2171</td>\n",
       "      <td>0.0742</td>\n",
       "    </tr>\n",
       "    <tr>\n",
       "      <th>1</th>\n",
       "      <td>s002</td>\n",
       "      <td>1</td>\n",
       "      <td>2</td>\n",
       "      <td>0.1111</td>\n",
       "      <td>0.3451</td>\n",
       "      <td>0.2340</td>\n",
       "      <td>0.0694</td>\n",
       "      <td>0.1283</td>\n",
       "      <td>0.0589</td>\n",
       "      <td>0.0908</td>\n",
       "      <td>...</td>\n",
       "      <td>0.1412</td>\n",
       "      <td>0.2558</td>\n",
       "      <td>0.1146</td>\n",
       "      <td>0.1146</td>\n",
       "      <td>0.2642</td>\n",
       "      <td>0.1496</td>\n",
       "      <td>0.0839</td>\n",
       "      <td>0.2756</td>\n",
       "      <td>0.1917</td>\n",
       "      <td>0.0747</td>\n",
       "    </tr>\n",
       "    <tr>\n",
       "      <th>2</th>\n",
       "      <td>s002</td>\n",
       "      <td>1</td>\n",
       "      <td>3</td>\n",
       "      <td>0.1328</td>\n",
       "      <td>0.2072</td>\n",
       "      <td>0.0744</td>\n",
       "      <td>0.0731</td>\n",
       "      <td>0.1291</td>\n",
       "      <td>0.0560</td>\n",
       "      <td>0.0821</td>\n",
       "      <td>...</td>\n",
       "      <td>0.1621</td>\n",
       "      <td>0.2332</td>\n",
       "      <td>0.0711</td>\n",
       "      <td>0.1172</td>\n",
       "      <td>0.2705</td>\n",
       "      <td>0.1533</td>\n",
       "      <td>0.1085</td>\n",
       "      <td>0.2847</td>\n",
       "      <td>0.1762</td>\n",
       "      <td>0.0945</td>\n",
       "    </tr>\n",
       "    <tr>\n",
       "      <th>3</th>\n",
       "      <td>s002</td>\n",
       "      <td>1</td>\n",
       "      <td>4</td>\n",
       "      <td>0.1291</td>\n",
       "      <td>0.2515</td>\n",
       "      <td>0.1224</td>\n",
       "      <td>0.1059</td>\n",
       "      <td>0.2495</td>\n",
       "      <td>0.1436</td>\n",
       "      <td>0.1040</td>\n",
       "      <td>...</td>\n",
       "      <td>0.1457</td>\n",
       "      <td>0.1629</td>\n",
       "      <td>0.0172</td>\n",
       "      <td>0.0866</td>\n",
       "      <td>0.2341</td>\n",
       "      <td>0.1475</td>\n",
       "      <td>0.0845</td>\n",
       "      <td>0.3232</td>\n",
       "      <td>0.2387</td>\n",
       "      <td>0.0813</td>\n",
       "    </tr>\n",
       "    <tr>\n",
       "      <th>4</th>\n",
       "      <td>s002</td>\n",
       "      <td>1</td>\n",
       "      <td>5</td>\n",
       "      <td>0.1249</td>\n",
       "      <td>0.2317</td>\n",
       "      <td>0.1068</td>\n",
       "      <td>0.0895</td>\n",
       "      <td>0.1676</td>\n",
       "      <td>0.0781</td>\n",
       "      <td>0.0903</td>\n",
       "      <td>...</td>\n",
       "      <td>0.1312</td>\n",
       "      <td>0.1582</td>\n",
       "      <td>0.0270</td>\n",
       "      <td>0.0884</td>\n",
       "      <td>0.2517</td>\n",
       "      <td>0.1633</td>\n",
       "      <td>0.0903</td>\n",
       "      <td>0.2517</td>\n",
       "      <td>0.1614</td>\n",
       "      <td>0.0818</td>\n",
       "    </tr>\n",
       "  </tbody>\n",
       "</table>\n",
       "<p>5 rows × 34 columns</p>\n",
       "</div>"
      ],
      "text/plain": [
       "  subject  sessionIndex  rep  H.period  DD.period.t  UD.period.t     H.t  \\\n",
       "0    s002             1    1    0.1491       0.3979       0.2488  0.1069   \n",
       "1    s002             1    2    0.1111       0.3451       0.2340  0.0694   \n",
       "2    s002             1    3    0.1328       0.2072       0.0744  0.0731   \n",
       "3    s002             1    4    0.1291       0.2515       0.1224  0.1059   \n",
       "4    s002             1    5    0.1249       0.2317       0.1068  0.0895   \n",
       "\n",
       "   DD.t.i  UD.t.i     H.i  ...     H.a  DD.a.n  UD.a.n     H.n  DD.n.l  \\\n",
       "0  0.1674  0.0605  0.1169  ...  0.1349  0.1484  0.0135  0.0932  0.3515   \n",
       "1  0.1283  0.0589  0.0908  ...  0.1412  0.2558  0.1146  0.1146  0.2642   \n",
       "2  0.1291  0.0560  0.0821  ...  0.1621  0.2332  0.0711  0.1172  0.2705   \n",
       "3  0.2495  0.1436  0.1040  ...  0.1457  0.1629  0.0172  0.0866  0.2341   \n",
       "4  0.1676  0.0781  0.0903  ...  0.1312  0.1582  0.0270  0.0884  0.2517   \n",
       "\n",
       "   UD.n.l     H.l  DD.l.Return  UD.l.Return  H.Return  \n",
       "0  0.2583  0.1338       0.3509       0.2171    0.0742  \n",
       "1  0.1496  0.0839       0.2756       0.1917    0.0747  \n",
       "2  0.1533  0.1085       0.2847       0.1762    0.0945  \n",
       "3  0.1475  0.0845       0.3232       0.2387    0.0813  \n",
       "4  0.1633  0.0903       0.2517       0.1614    0.0818  \n",
       "\n",
       "[5 rows x 34 columns]"
      ]
     },
     "execution_count": 5,
     "metadata": {},
     "output_type": "execute_result"
    }
   ],
   "source": [
    "df = pd.read_csv('DSL-StrongPasswordData.csv')\n",
    "df.head()"
   ]
  },
  {
   "cell_type": "code",
   "execution_count": 6,
   "metadata": {},
   "outputs": [],
   "source": [
    "subjects = df['subject'].unique()"
   ]
  },
  {
   "cell_type": "code",
   "execution_count": 7,
   "metadata": {},
   "outputs": [],
   "source": [
    "subjects_to_int = {subject: i  for i, subject in enumerate(subjects)}\n",
    "int_to_subjects = {i: subject for i, subject in enumerate(subjects)}"
   ]
  },
  {
   "cell_type": "code",
   "execution_count": 8,
   "metadata": {},
   "outputs": [
    {
     "name": "stderr",
     "output_type": "stream",
     "text": [
      "C:\\Users\\raahu\\AppData\\Local\\Temp\\ipykernel_1176\\1725018810.py:1: FutureWarning: Downcasting behavior in `replace` is deprecated and will be removed in a future version. To retain the old behavior, explicitly call `result.infer_objects(copy=False)`. To opt-in to the future behavior, set `pd.set_option('future.no_silent_downcasting', True)`\n",
      "  df = df.replace(subjects_to_int)\n"
     ]
    }
   ],
   "source": [
    "df = df.replace(subjects_to_int)"
   ]
  },
  {
   "cell_type": "code",
   "execution_count": 9,
   "metadata": {},
   "outputs": [
    {
     "data": {
      "text/html": [
       "<div>\n",
       "<style scoped>\n",
       "    .dataframe tbody tr th:only-of-type {\n",
       "        vertical-align: middle;\n",
       "    }\n",
       "\n",
       "    .dataframe tbody tr th {\n",
       "        vertical-align: top;\n",
       "    }\n",
       "\n",
       "    .dataframe thead th {\n",
       "        text-align: right;\n",
       "    }\n",
       "</style>\n",
       "<table border=\"1\" class=\"dataframe\">\n",
       "  <thead>\n",
       "    <tr style=\"text-align: right;\">\n",
       "      <th></th>\n",
       "      <th>subject</th>\n",
       "      <th>sessionIndex</th>\n",
       "      <th>rep</th>\n",
       "      <th>H.period</th>\n",
       "      <th>DD.period.t</th>\n",
       "      <th>UD.period.t</th>\n",
       "      <th>H.t</th>\n",
       "      <th>DD.t.i</th>\n",
       "      <th>UD.t.i</th>\n",
       "      <th>H.i</th>\n",
       "      <th>...</th>\n",
       "      <th>H.a</th>\n",
       "      <th>DD.a.n</th>\n",
       "      <th>UD.a.n</th>\n",
       "      <th>H.n</th>\n",
       "      <th>DD.n.l</th>\n",
       "      <th>UD.n.l</th>\n",
       "      <th>H.l</th>\n",
       "      <th>DD.l.Return</th>\n",
       "      <th>UD.l.Return</th>\n",
       "      <th>H.Return</th>\n",
       "    </tr>\n",
       "  </thead>\n",
       "  <tbody>\n",
       "    <tr>\n",
       "      <th>0</th>\n",
       "      <td>0</td>\n",
       "      <td>1</td>\n",
       "      <td>1</td>\n",
       "      <td>0.1491</td>\n",
       "      <td>0.3979</td>\n",
       "      <td>0.2488</td>\n",
       "      <td>0.1069</td>\n",
       "      <td>0.1674</td>\n",
       "      <td>0.0605</td>\n",
       "      <td>0.1169</td>\n",
       "      <td>...</td>\n",
       "      <td>0.1349</td>\n",
       "      <td>0.1484</td>\n",
       "      <td>0.0135</td>\n",
       "      <td>0.0932</td>\n",
       "      <td>0.3515</td>\n",
       "      <td>0.2583</td>\n",
       "      <td>0.1338</td>\n",
       "      <td>0.3509</td>\n",
       "      <td>0.2171</td>\n",
       "      <td>0.0742</td>\n",
       "    </tr>\n",
       "    <tr>\n",
       "      <th>1</th>\n",
       "      <td>0</td>\n",
       "      <td>1</td>\n",
       "      <td>2</td>\n",
       "      <td>0.1111</td>\n",
       "      <td>0.3451</td>\n",
       "      <td>0.2340</td>\n",
       "      <td>0.0694</td>\n",
       "      <td>0.1283</td>\n",
       "      <td>0.0589</td>\n",
       "      <td>0.0908</td>\n",
       "      <td>...</td>\n",
       "      <td>0.1412</td>\n",
       "      <td>0.2558</td>\n",
       "      <td>0.1146</td>\n",
       "      <td>0.1146</td>\n",
       "      <td>0.2642</td>\n",
       "      <td>0.1496</td>\n",
       "      <td>0.0839</td>\n",
       "      <td>0.2756</td>\n",
       "      <td>0.1917</td>\n",
       "      <td>0.0747</td>\n",
       "    </tr>\n",
       "    <tr>\n",
       "      <th>2</th>\n",
       "      <td>0</td>\n",
       "      <td>1</td>\n",
       "      <td>3</td>\n",
       "      <td>0.1328</td>\n",
       "      <td>0.2072</td>\n",
       "      <td>0.0744</td>\n",
       "      <td>0.0731</td>\n",
       "      <td>0.1291</td>\n",
       "      <td>0.0560</td>\n",
       "      <td>0.0821</td>\n",
       "      <td>...</td>\n",
       "      <td>0.1621</td>\n",
       "      <td>0.2332</td>\n",
       "      <td>0.0711</td>\n",
       "      <td>0.1172</td>\n",
       "      <td>0.2705</td>\n",
       "      <td>0.1533</td>\n",
       "      <td>0.1085</td>\n",
       "      <td>0.2847</td>\n",
       "      <td>0.1762</td>\n",
       "      <td>0.0945</td>\n",
       "    </tr>\n",
       "    <tr>\n",
       "      <th>3</th>\n",
       "      <td>0</td>\n",
       "      <td>1</td>\n",
       "      <td>4</td>\n",
       "      <td>0.1291</td>\n",
       "      <td>0.2515</td>\n",
       "      <td>0.1224</td>\n",
       "      <td>0.1059</td>\n",
       "      <td>0.2495</td>\n",
       "      <td>0.1436</td>\n",
       "      <td>0.1040</td>\n",
       "      <td>...</td>\n",
       "      <td>0.1457</td>\n",
       "      <td>0.1629</td>\n",
       "      <td>0.0172</td>\n",
       "      <td>0.0866</td>\n",
       "      <td>0.2341</td>\n",
       "      <td>0.1475</td>\n",
       "      <td>0.0845</td>\n",
       "      <td>0.3232</td>\n",
       "      <td>0.2387</td>\n",
       "      <td>0.0813</td>\n",
       "    </tr>\n",
       "    <tr>\n",
       "      <th>4</th>\n",
       "      <td>0</td>\n",
       "      <td>1</td>\n",
       "      <td>5</td>\n",
       "      <td>0.1249</td>\n",
       "      <td>0.2317</td>\n",
       "      <td>0.1068</td>\n",
       "      <td>0.0895</td>\n",
       "      <td>0.1676</td>\n",
       "      <td>0.0781</td>\n",
       "      <td>0.0903</td>\n",
       "      <td>...</td>\n",
       "      <td>0.1312</td>\n",
       "      <td>0.1582</td>\n",
       "      <td>0.0270</td>\n",
       "      <td>0.0884</td>\n",
       "      <td>0.2517</td>\n",
       "      <td>0.1633</td>\n",
       "      <td>0.0903</td>\n",
       "      <td>0.2517</td>\n",
       "      <td>0.1614</td>\n",
       "      <td>0.0818</td>\n",
       "    </tr>\n",
       "  </tbody>\n",
       "</table>\n",
       "<p>5 rows × 34 columns</p>\n",
       "</div>"
      ],
      "text/plain": [
       "   subject  sessionIndex  rep  H.period  DD.period.t  UD.period.t     H.t  \\\n",
       "0        0             1    1    0.1491       0.3979       0.2488  0.1069   \n",
       "1        0             1    2    0.1111       0.3451       0.2340  0.0694   \n",
       "2        0             1    3    0.1328       0.2072       0.0744  0.0731   \n",
       "3        0             1    4    0.1291       0.2515       0.1224  0.1059   \n",
       "4        0             1    5    0.1249       0.2317       0.1068  0.0895   \n",
       "\n",
       "   DD.t.i  UD.t.i     H.i  ...     H.a  DD.a.n  UD.a.n     H.n  DD.n.l  \\\n",
       "0  0.1674  0.0605  0.1169  ...  0.1349  0.1484  0.0135  0.0932  0.3515   \n",
       "1  0.1283  0.0589  0.0908  ...  0.1412  0.2558  0.1146  0.1146  0.2642   \n",
       "2  0.1291  0.0560  0.0821  ...  0.1621  0.2332  0.0711  0.1172  0.2705   \n",
       "3  0.2495  0.1436  0.1040  ...  0.1457  0.1629  0.0172  0.0866  0.2341   \n",
       "4  0.1676  0.0781  0.0903  ...  0.1312  0.1582  0.0270  0.0884  0.2517   \n",
       "\n",
       "   UD.n.l     H.l  DD.l.Return  UD.l.Return  H.Return  \n",
       "0  0.2583  0.1338       0.3509       0.2171    0.0742  \n",
       "1  0.1496  0.0839       0.2756       0.1917    0.0747  \n",
       "2  0.1533  0.1085       0.2847       0.1762    0.0945  \n",
       "3  0.1475  0.0845       0.3232       0.2387    0.0813  \n",
       "4  0.1633  0.0903       0.2517       0.1614    0.0818  \n",
       "\n",
       "[5 rows x 34 columns]"
      ]
     },
     "execution_count": 9,
     "metadata": {},
     "output_type": "execute_result"
    }
   ],
   "source": [
    "df.head()"
   ]
  },
  {
   "cell_type": "code",
   "execution_count": 10,
   "metadata": {},
   "outputs": [
    {
     "name": "stdout",
     "output_type": "stream",
     "text": [
      "[[ 0.      1.      1.     ...  0.3509  0.2171  0.0742]\n",
      " [ 0.      1.      2.     ...  0.2756  0.1917  0.0747]\n",
      " [ 0.      1.      3.     ...  0.2847  0.1762  0.0945]\n",
      " ...\n",
      " [50.      8.     48.     ...  0.2017  0.0983  0.0905]\n",
      " [50.      8.     49.     ...  0.1917  0.0938  0.0931]\n",
      " [50.      8.     50.     ...  0.1993  0.1186  0.1018]]\n"
     ]
    },
    {
     "data": {
      "text/plain": [
       "(20400, 34)"
      ]
     },
     "execution_count": 10,
     "metadata": {},
     "output_type": "execute_result"
    }
   ],
   "source": [
    "data_raw = df.values\n",
    "print(data_raw)\n",
    "data_raw.shape"
   ]
  },
  {
   "cell_type": "code",
   "execution_count": 11,
   "metadata": {},
   "outputs": [
    {
     "name": "stdout",
     "output_type": "stream",
     "text": [
      "[[1.491e-01 3.979e-01 2.488e-01 ... 3.509e-01 2.171e-01 0.000e+00]\n",
      " [1.111e-01 3.451e-01 2.340e-01 ... 2.756e-01 1.917e-01 0.000e+00]\n",
      " [1.328e-01 2.072e-01 7.440e-02 ... 2.847e-01 1.762e-01 0.000e+00]\n",
      " ...\n",
      " [9.390e-02 1.189e-01 2.500e-02 ... 2.017e-01 9.830e-02 5.000e+01]\n",
      " [9.230e-02 1.294e-01 3.710e-02 ... 1.917e-01 9.380e-02 5.000e+01]\n",
      " [5.960e-02 1.310e-01 7.140e-02 ... 1.993e-01 1.186e-01 5.000e+01]]\n"
     ]
    }
   ],
   "source": [
    "data=data_raw[ :, 3:-1]\n",
    "labels_raw = df['subject'].values\n",
    "labels= labels_raw.reshape(labels_raw.shape[0],1)\n",
    "data=np.hstack([data, labels])\n",
    "print(data)"
   ]
  },
  {
   "cell_type": "code",
   "execution_count": 12,
   "metadata": {},
   "outputs": [
    {
     "data": {
      "text/plain": [
       "(20400, 30)"
      ]
     },
     "execution_count": 12,
     "metadata": {},
     "output_type": "execute_result"
    }
   ],
   "source": [
    "np.random.shuffle(data)\n",
    "x=data[ : , :-1]\n",
    "y=data[:,-1]\n",
    "x.shape"
   ]
  },
  {
   "cell_type": "code",
   "execution_count": 13,
   "metadata": {},
   "outputs": [],
   "source": [
    "scaler = MinMaxScaler()\n",
    "x = scaler.fit_transform(x)"
   ]
  },
  {
   "cell_type": "code",
   "execution_count": 14,
   "metadata": {},
   "outputs": [],
   "source": [
    "X_train, X_test, y_train, y_test = train_test_split(x, y, test_size=0.1, random_state=0)"
   ]
  },
  {
   "cell_type": "code",
   "execution_count": 15,
   "metadata": {},
   "outputs": [],
   "source": [
    "Y_train = to_categorical(y_train, num_classes=51)\n",
    "Y_test=to_categorical(y_test,num_classes=51)\n"
   ]
  },
  {
   "cell_type": "code",
   "execution_count": 16,
   "metadata": {},
   "outputs": [
    {
     "data": {
      "text/plain": [
       "(18360, 30, 1)"
      ]
     },
     "execution_count": 16,
     "metadata": {},
     "output_type": "execute_result"
    }
   ],
   "source": [
    "X_train = np.reshape(X_train, (X_train.shape[0], X_train.shape[1], 1))\n",
    "X_test = np.reshape(X_test, (X_test.shape[0], X_test.shape[1], 1))\n",
    "X_train.shape"
   ]
  },
  {
   "cell_type": "code",
   "execution_count": 17,
   "metadata": {},
   "outputs": [],
   "source": [
    "from tensorflow.keras.models import Sequential\n",
    "from tensorflow.keras.layers import Dense, LSTM, Dropout\n",
    "from tensorflow.keras.optimizers import Adam\n",
    "import tensorflow as tf"
   ]
  },
  {
   "cell_type": "code",
   "execution_count": 18,
   "metadata": {},
   "outputs": [],
   "source": [
    "# rnn = Sequential()\n",
    "# rnn.add(LSTM(units = 45, return_sequences = True, input_shape = (X_train.shape[1], 1)))\n",
    "# rnn.add(Dropout(0.2))\n",
    "# for i in [True, True, False]:\n",
    "#     rnn.add(LSTM(units = 45, return_sequences = i))\n",
    "#     rnn.add(Dropout(0.2))\n",
    "# rnn.add(Dense(units = 51, activation='softmax', name='output_layer'))"
   ]
  },
  {
   "cell_type": "code",
   "execution_count": 19,
   "metadata": {},
   "outputs": [],
   "source": [
    "rnn = Sequential()\n",
    "for i in [True, True, False]:\n",
    "    rnn.add(LSTM(units = 45, return_sequences = i))\n",
    "    rnn.add(Dropout(0.2))\n",
    "rnn.add(Dense(units = 51, activation='softmax'))"
   ]
  },
  {
   "cell_type": "code",
   "execution_count": 20,
   "metadata": {},
   "outputs": [],
   "source": [
    "lr_schedule = tf.keras.optimizers.schedules.ExponentialDecay(\n",
    "    initial_learning_rate=0.01,\n",
    "    decay_steps=10000,\n",
    "    decay_rate=0.1)\n",
    "opt = Adam(learning_rate=lr_schedule, beta_1=0.9, beta_2=0.999)"
   ]
  },
  {
   "cell_type": "code",
   "execution_count": 21,
   "metadata": {},
   "outputs": [],
   "source": [
    "rnn.compile(optimizer = opt, loss = 'categorical_crossentropy')"
   ]
  },
  {
   "cell_type": "code",
   "execution_count": 25,
   "metadata": {},
   "outputs": [
    {
     "name": "stdout",
     "output_type": "stream",
     "text": [
      "Epoch 1/60\n",
      "\u001b[1m574/574\u001b[0m \u001b[32m━━━━━━━━━━━━━━━━━━━━\u001b[0m\u001b[37m\u001b[0m \u001b[1m29s\u001b[0m 38ms/step - loss: 3.5719 - val_loss: 2.3300\n",
      "Epoch 2/60\n",
      "\u001b[1m574/574\u001b[0m \u001b[32m━━━━━━━━━━━━━━━━━━━━\u001b[0m\u001b[37m\u001b[0m \u001b[1m21s\u001b[0m 36ms/step - loss: 2.0948 - val_loss: 1.4699\n",
      "Epoch 3/60\n",
      "\u001b[1m574/574\u001b[0m \u001b[32m━━━━━━━━━━━━━━━━━━━━\u001b[0m\u001b[37m\u001b[0m \u001b[1m20s\u001b[0m 34ms/step - loss: 1.5352 - val_loss: 1.2751\n",
      "Epoch 4/60\n",
      "\u001b[1m574/574\u001b[0m \u001b[32m━━━━━━━━━━━━━━━━━━━━\u001b[0m\u001b[37m\u001b[0m \u001b[1m19s\u001b[0m 34ms/step - loss: 1.2715 - val_loss: 1.0423\n",
      "Epoch 5/60\n",
      "\u001b[1m574/574\u001b[0m \u001b[32m━━━━━━━━━━━━━━━━━━━━\u001b[0m\u001b[37m\u001b[0m \u001b[1m20s\u001b[0m 34ms/step - loss: 1.1029 - val_loss: 0.9389\n",
      "Epoch 6/60\n",
      "\u001b[1m574/574\u001b[0m \u001b[32m━━━━━━━━━━━━━━━━━━━━\u001b[0m\u001b[37m\u001b[0m \u001b[1m19s\u001b[0m 34ms/step - loss: 0.9724 - val_loss: 0.7804\n",
      "Epoch 7/60\n",
      "\u001b[1m574/574\u001b[0m \u001b[32m━━━━━━━━━━━━━━━━━━━━\u001b[0m\u001b[37m\u001b[0m \u001b[1m24s\u001b[0m 41ms/step - loss: 0.8523 - val_loss: 0.7405\n",
      "Epoch 8/60\n",
      "\u001b[1m574/574\u001b[0m \u001b[32m━━━━━━━━━━━━━━━━━━━━\u001b[0m\u001b[37m\u001b[0m \u001b[1m24s\u001b[0m 41ms/step - loss: 0.7901 - val_loss: 0.6852\n",
      "Epoch 9/60\n",
      "\u001b[1m574/574\u001b[0m \u001b[32m━━━━━━━━━━━━━━━━━━━━\u001b[0m\u001b[37m\u001b[0m \u001b[1m24s\u001b[0m 42ms/step - loss: 0.6955 - val_loss: 0.6331\n",
      "Epoch 10/60\n",
      "\u001b[1m574/574\u001b[0m \u001b[32m━━━━━━━━━━━━━━━━━━━━\u001b[0m\u001b[37m\u001b[0m \u001b[1m24s\u001b[0m 42ms/step - loss: 0.6433 - val_loss: 0.5605\n",
      "Epoch 11/60\n",
      "\u001b[1m574/574\u001b[0m \u001b[32m━━━━━━━━━━━━━━━━━━━━\u001b[0m\u001b[37m\u001b[0m \u001b[1m24s\u001b[0m 41ms/step - loss: 0.5972 - val_loss: 0.5235\n",
      "Epoch 12/60\n",
      "\u001b[1m574/574\u001b[0m \u001b[32m━━━━━━━━━━━━━━━━━━━━\u001b[0m\u001b[37m\u001b[0m \u001b[1m24s\u001b[0m 41ms/step - loss: 0.5510 - val_loss: 0.5055\n",
      "Epoch 13/60\n",
      "\u001b[1m574/574\u001b[0m \u001b[32m━━━━━━━━━━━━━━━━━━━━\u001b[0m\u001b[37m\u001b[0m \u001b[1m24s\u001b[0m 41ms/step - loss: 0.5103 - val_loss: 0.5032\n",
      "Epoch 14/60\n",
      "\u001b[1m574/574\u001b[0m \u001b[32m━━━━━━━━━━━━━━━━━━━━\u001b[0m\u001b[37m\u001b[0m \u001b[1m24s\u001b[0m 42ms/step - loss: 0.4988 - val_loss: 0.4610\n",
      "Epoch 15/60\n",
      "\u001b[1m574/574\u001b[0m \u001b[32m━━━━━━━━━━━━━━━━━━━━\u001b[0m\u001b[37m\u001b[0m \u001b[1m24s\u001b[0m 42ms/step - loss: 0.4615 - val_loss: 0.4608\n",
      "Epoch 16/60\n",
      "\u001b[1m574/574\u001b[0m \u001b[32m━━━━━━━━━━━━━━━━━━━━\u001b[0m\u001b[37m\u001b[0m \u001b[1m24s\u001b[0m 42ms/step - loss: 0.4301 - val_loss: 0.4435\n",
      "Epoch 17/60\n",
      "\u001b[1m574/574\u001b[0m \u001b[32m━━━━━━━━━━━━━━━━━━━━\u001b[0m\u001b[37m\u001b[0m \u001b[1m21s\u001b[0m 36ms/step - loss: 0.4229 - val_loss: 0.4312\n",
      "Epoch 18/60\n",
      "\u001b[1m574/574\u001b[0m \u001b[32m━━━━━━━━━━━━━━━━━━━━\u001b[0m\u001b[37m\u001b[0m \u001b[1m22s\u001b[0m 39ms/step - loss: 0.4138 - val_loss: 0.4204\n",
      "Epoch 19/60\n",
      "\u001b[1m574/574\u001b[0m \u001b[32m━━━━━━━━━━━━━━━━━━━━\u001b[0m\u001b[37m\u001b[0m \u001b[1m23s\u001b[0m 40ms/step - loss: 0.3925 - val_loss: 0.4347\n",
      "Epoch 20/60\n",
      "\u001b[1m574/574\u001b[0m \u001b[32m━━━━━━━━━━━━━━━━━━━━\u001b[0m\u001b[37m\u001b[0m \u001b[1m23s\u001b[0m 40ms/step - loss: 0.3885 - val_loss: 0.4149\n",
      "Epoch 21/60\n",
      "\u001b[1m574/574\u001b[0m \u001b[32m━━━━━━━━━━━━━━━━━━━━\u001b[0m\u001b[37m\u001b[0m \u001b[1m23s\u001b[0m 40ms/step - loss: 0.3734 - val_loss: 0.4105\n",
      "Epoch 22/60\n",
      "\u001b[1m574/574\u001b[0m \u001b[32m━━━━━━━━━━━━━━━━━━━━\u001b[0m\u001b[37m\u001b[0m \u001b[1m23s\u001b[0m 40ms/step - loss: 0.3648 - val_loss: 0.3997\n",
      "Epoch 23/60\n",
      "\u001b[1m574/574\u001b[0m \u001b[32m━━━━━━━━━━━━━━━━━━━━\u001b[0m\u001b[37m\u001b[0m \u001b[1m23s\u001b[0m 40ms/step - loss: 0.3613 - val_loss: 0.4011\n",
      "Epoch 24/60\n",
      "\u001b[1m574/574\u001b[0m \u001b[32m━━━━━━━━━━━━━━━━━━━━\u001b[0m\u001b[37m\u001b[0m \u001b[1m23s\u001b[0m 39ms/step - loss: 0.3374 - val_loss: 0.3977\n",
      "Epoch 25/60\n",
      "\u001b[1m574/574\u001b[0m \u001b[32m━━━━━━━━━━━━━━━━━━━━\u001b[0m\u001b[37m\u001b[0m \u001b[1m23s\u001b[0m 40ms/step - loss: 0.3287 - val_loss: 0.3916\n",
      "Epoch 26/60\n",
      "\u001b[1m574/574\u001b[0m \u001b[32m━━━━━━━━━━━━━━━━━━━━\u001b[0m\u001b[37m\u001b[0m \u001b[1m23s\u001b[0m 40ms/step - loss: 0.3407 - val_loss: 0.3930\n",
      "Epoch 27/60\n",
      "\u001b[1m574/574\u001b[0m \u001b[32m━━━━━━━━━━━━━━━━━━━━\u001b[0m\u001b[37m\u001b[0m \u001b[1m23s\u001b[0m 40ms/step - loss: 0.3245 - val_loss: 0.3912\n",
      "Epoch 28/60\n",
      "\u001b[1m574/574\u001b[0m \u001b[32m━━━━━━━━━━━━━━━━━━━━\u001b[0m\u001b[37m\u001b[0m \u001b[1m23s\u001b[0m 40ms/step - loss: 0.3287 - val_loss: 0.3889\n",
      "Epoch 29/60\n",
      "\u001b[1m574/574\u001b[0m \u001b[32m━━━━━━━━━━━━━━━━━━━━\u001b[0m\u001b[37m\u001b[0m \u001b[1m22s\u001b[0m 38ms/step - loss: 0.3254 - val_loss: 0.3875\n",
      "Epoch 30/60\n",
      "\u001b[1m574/574\u001b[0m \u001b[32m━━━━━━━━━━━━━━━━━━━━\u001b[0m\u001b[37m\u001b[0m \u001b[1m18s\u001b[0m 32ms/step - loss: 0.3202 - val_loss: 0.3924\n",
      "Epoch 31/60\n",
      "\u001b[1m574/574\u001b[0m \u001b[32m━━━━━━━━━━━━━━━━━━━━\u001b[0m\u001b[37m\u001b[0m \u001b[1m21s\u001b[0m 37ms/step - loss: 0.3310 - val_loss: 0.3899\n",
      "Epoch 32/60\n",
      "\u001b[1m574/574\u001b[0m \u001b[32m━━━━━━━━━━━━━━━━━━━━\u001b[0m\u001b[37m\u001b[0m \u001b[1m21s\u001b[0m 36ms/step - loss: 0.3116 - val_loss: 0.3874\n",
      "Epoch 33/60\n",
      "\u001b[1m574/574\u001b[0m \u001b[32m━━━━━━━━━━━━━━━━━━━━\u001b[0m\u001b[37m\u001b[0m \u001b[1m19s\u001b[0m 33ms/step - loss: 0.3189 - val_loss: 0.3879\n",
      "Epoch 34/60\n",
      "\u001b[1m574/574\u001b[0m \u001b[32m━━━━━━━━━━━━━━━━━━━━\u001b[0m\u001b[37m\u001b[0m \u001b[1m19s\u001b[0m 33ms/step - loss: 0.3205 - val_loss: 0.3838\n",
      "Epoch 35/60\n",
      "\u001b[1m574/574\u001b[0m \u001b[32m━━━━━━━━━━━━━━━━━━━━\u001b[0m\u001b[37m\u001b[0m \u001b[1m18s\u001b[0m 32ms/step - loss: 0.3114 - val_loss: 0.3825\n",
      "Epoch 36/60\n",
      "\u001b[1m574/574\u001b[0m \u001b[32m━━━━━━━━━━━━━━━━━━━━\u001b[0m\u001b[37m\u001b[0m \u001b[1m21s\u001b[0m 37ms/step - loss: 0.3063 - val_loss: 0.3871\n",
      "Epoch 37/60\n",
      "\u001b[1m574/574\u001b[0m \u001b[32m━━━━━━━━━━━━━━━━━━━━\u001b[0m\u001b[37m\u001b[0m \u001b[1m22s\u001b[0m 38ms/step - loss: 0.3115 - val_loss: 0.3833\n",
      "Epoch 38/60\n",
      "\u001b[1m574/574\u001b[0m \u001b[32m━━━━━━━━━━━━━━━━━━━━\u001b[0m\u001b[37m\u001b[0m \u001b[1m21s\u001b[0m 37ms/step - loss: 0.3186 - val_loss: 0.3855\n",
      "Epoch 39/60\n",
      "\u001b[1m574/574\u001b[0m \u001b[32m━━━━━━━━━━━━━━━━━━━━\u001b[0m\u001b[37m\u001b[0m \u001b[1m21s\u001b[0m 37ms/step - loss: 0.3187 - val_loss: 0.3848\n",
      "Epoch 40/60\n",
      "\u001b[1m574/574\u001b[0m \u001b[32m━━━━━━━━━━━━━━━━━━━━\u001b[0m\u001b[37m\u001b[0m \u001b[1m20s\u001b[0m 35ms/step - loss: 0.3075 - val_loss: 0.3833\n",
      "Epoch 41/60\n",
      "\u001b[1m574/574\u001b[0m \u001b[32m━━━━━━━━━━━━━━━━━━━━\u001b[0m\u001b[37m\u001b[0m \u001b[1m20s\u001b[0m 35ms/step - loss: 0.2992 - val_loss: 0.3852\n",
      "Epoch 42/60\n",
      "\u001b[1m574/574\u001b[0m \u001b[32m━━━━━━━━━━━━━━━━━━━━\u001b[0m\u001b[37m\u001b[0m \u001b[1m21s\u001b[0m 37ms/step - loss: 0.3070 - val_loss: 0.3825\n",
      "Epoch 43/60\n",
      "\u001b[1m574/574\u001b[0m \u001b[32m━━━━━━━━━━━━━━━━━━━━\u001b[0m\u001b[37m\u001b[0m \u001b[1m21s\u001b[0m 36ms/step - loss: 0.3097 - val_loss: 0.3822\n",
      "Epoch 44/60\n",
      "\u001b[1m574/574\u001b[0m \u001b[32m━━━━━━━━━━━━━━━━━━━━\u001b[0m\u001b[37m\u001b[0m \u001b[1m22s\u001b[0m 38ms/step - loss: 0.3062 - val_loss: 0.3815\n",
      "Epoch 45/60\n",
      "\u001b[1m574/574\u001b[0m \u001b[32m━━━━━━━━━━━━━━━━━━━━\u001b[0m\u001b[37m\u001b[0m \u001b[1m22s\u001b[0m 38ms/step - loss: 0.3006 - val_loss: 0.3824\n",
      "Epoch 46/60\n",
      "\u001b[1m574/574\u001b[0m \u001b[32m━━━━━━━━━━━━━━━━━━━━\u001b[0m\u001b[37m\u001b[0m \u001b[1m22s\u001b[0m 37ms/step - loss: 0.3070 - val_loss: 0.3818\n",
      "Epoch 47/60\n",
      "\u001b[1m574/574\u001b[0m \u001b[32m━━━━━━━━━━━━━━━━━━━━\u001b[0m\u001b[37m\u001b[0m \u001b[1m21s\u001b[0m 37ms/step - loss: 0.3022 - val_loss: 0.3832\n",
      "Epoch 48/60\n",
      "\u001b[1m574/574\u001b[0m \u001b[32m━━━━━━━━━━━━━━━━━━━━\u001b[0m\u001b[37m\u001b[0m \u001b[1m21s\u001b[0m 37ms/step - loss: 0.3005 - val_loss: 0.3825\n",
      "Epoch 49/60\n",
      "\u001b[1m574/574\u001b[0m \u001b[32m━━━━━━━━━━━━━━━━━━━━\u001b[0m\u001b[37m\u001b[0m \u001b[1m19s\u001b[0m 33ms/step - loss: 0.3006 - val_loss: 0.3829\n",
      "Epoch 50/60\n",
      "\u001b[1m574/574\u001b[0m \u001b[32m━━━━━━━━━━━━━━━━━━━━\u001b[0m\u001b[37m\u001b[0m \u001b[1m19s\u001b[0m 33ms/step - loss: 0.2980 - val_loss: 0.3828\n",
      "Epoch 51/60\n",
      "\u001b[1m574/574\u001b[0m \u001b[32m━━━━━━━━━━━━━━━━━━━━\u001b[0m\u001b[37m\u001b[0m \u001b[1m23s\u001b[0m 39ms/step - loss: 0.2976 - val_loss: 0.3818\n",
      "Epoch 52/60\n",
      "\u001b[1m574/574\u001b[0m \u001b[32m━━━━━━━━━━━━━━━━━━━━\u001b[0m\u001b[37m\u001b[0m \u001b[1m23s\u001b[0m 40ms/step - loss: 0.2995 - val_loss: 0.3827\n",
      "Epoch 53/60\n",
      "\u001b[1m574/574\u001b[0m \u001b[32m━━━━━━━━━━━━━━━━━━━━\u001b[0m\u001b[37m\u001b[0m \u001b[1m23s\u001b[0m 40ms/step - loss: 0.3047 - val_loss: 0.3823\n",
      "Epoch 54/60\n",
      "\u001b[1m574/574\u001b[0m \u001b[32m━━━━━━━━━━━━━━━━━━━━\u001b[0m\u001b[37m\u001b[0m \u001b[1m23s\u001b[0m 41ms/step - loss: 0.2997 - val_loss: 0.3829\n",
      "Epoch 55/60\n",
      "\u001b[1m574/574\u001b[0m \u001b[32m━━━━━━━━━━━━━━━━━━━━\u001b[0m\u001b[37m\u001b[0m \u001b[1m23s\u001b[0m 40ms/step - loss: 0.3024 - val_loss: 0.3821\n",
      "Epoch 56/60\n",
      "\u001b[1m574/574\u001b[0m \u001b[32m━━━━━━━━━━━━━━━━━━━━\u001b[0m\u001b[37m\u001b[0m \u001b[1m23s\u001b[0m 41ms/step - loss: 0.2955 - val_loss: 0.3822\n",
      "Epoch 57/60\n",
      "\u001b[1m574/574\u001b[0m \u001b[32m━━━━━━━━━━━━━━━━━━━━\u001b[0m\u001b[37m\u001b[0m \u001b[1m23s\u001b[0m 40ms/step - loss: 0.3024 - val_loss: 0.3821\n",
      "Epoch 58/60\n",
      "\u001b[1m574/574\u001b[0m \u001b[32m━━━━━━━━━━━━━━━━━━━━\u001b[0m\u001b[37m\u001b[0m \u001b[1m23s\u001b[0m 41ms/step - loss: 0.3006 - val_loss: 0.3826\n",
      "Epoch 59/60\n",
      "\u001b[1m574/574\u001b[0m \u001b[32m━━━━━━━━━━━━━━━━━━━━\u001b[0m\u001b[37m\u001b[0m \u001b[1m23s\u001b[0m 41ms/step - loss: 0.3025 - val_loss: 0.3823\n",
      "Epoch 60/60\n",
      "\u001b[1m574/574\u001b[0m \u001b[32m━━━━━━━━━━━━━━━━━━━━\u001b[0m\u001b[37m\u001b[0m \u001b[1m24s\u001b[0m 41ms/step - loss: 0.2944 - val_loss: 0.3826\n"
     ]
    },
    {
     "data": {
      "image/png": "[encoded data removed]",
      "text/plain": [
       "<Figure size 640x480 with 1 Axes>"
      ]
     },
     "metadata": {},
     "output_type": "display_data"
    }
   ],
   "source": [
    "history= rnn.fit(X_train, Y_train,validation_data=(X_test, Y_test), epochs = 60, batch_size=32)\n",
    "\n",
    "# Plot the training loss and validation loss over epochs\n",
    "plt.plot(history.history['loss'], label='Training Loss')\n",
    "plt.plot(history.history['val_loss'], label='Validation Loss')\n",
    "plt.xlabel('Epoch')\n",
    "plt.ylabel('Loss')\n",
    "plt.legend()\n",
    "plt.show()"
   ]
  },
  {
   "cell_type": "code",
   "execution_count": 27,
   "metadata": {},
   "outputs": [
    {
     "ename": "ValueError",
     "evalue": "The filename must end in `.weights.h5`. Received: filepath=rnn_weights.h5",
     "output_type": "error",
     "traceback": [
      "\u001b[1;31m---------------------------------------------------------------------------\u001b[0m",
      "\u001b[1;31mValueError\u001b[0m                                Traceback (most recent call last)",
      "Cell \u001b[1;32mIn[27], line 1\u001b[0m\n\u001b[1;32m----> 1\u001b[0m \u001b[43mrnn\u001b[49m\u001b[38;5;241;43m.\u001b[39;49m\u001b[43msave_weights\u001b[49m\u001b[43m(\u001b[49m\u001b[38;5;124;43m'\u001b[39;49m\u001b[38;5;124;43mrnn_weights.h5\u001b[39;49m\u001b[38;5;124;43m'\u001b[39;49m\u001b[43m)\u001b[49m\n",
      "File \u001b[1;32mc:\\Users\\raahu\\AppData\\Local\\Programs\\Python\\Python312\\Lib\\site-packages\\keras\\src\\utils\\traceback_utils.py:123\u001b[0m, in \u001b[0;36mfilter_traceback.<locals>.error_handler\u001b[1;34m(*args, **kwargs)\u001b[0m\n\u001b[0;32m    120\u001b[0m     filtered_tb \u001b[38;5;241m=\u001b[39m _process_traceback_frames(e\u001b[38;5;241m.\u001b[39m__traceback__)\n\u001b[0;32m    121\u001b[0m     \u001b[38;5;66;03m# To get the full stack trace, call:\u001b[39;00m\n\u001b[0;32m    122\u001b[0m     \u001b[38;5;66;03m# `keras.config.disable_traceback_filtering()`\u001b[39;00m\n\u001b[1;32m--> 123\u001b[0m     \u001b[38;5;28;01mraise\u001b[39;00m e\u001b[38;5;241m.\u001b[39mwith_traceback(filtered_tb) \u001b[38;5;28;01mfrom\u001b[39;00m \u001b[38;5;28;01mNone\u001b[39;00m\n\u001b[0;32m    124\u001b[0m \u001b[38;5;28;01mfinally\u001b[39;00m:\n\u001b[0;32m    125\u001b[0m     \u001b[38;5;28;01mdel\u001b[39;00m filtered_tb\n",
      "File \u001b[1;32mc:\\Users\\raahu\\AppData\\Local\\Programs\\Python\\Python312\\Lib\\site-packages\\keras\\src\\models\\model.py:319\u001b[0m, in \u001b[0;36mModel.save_weights\u001b[1;34m(self, filepath, overwrite)\u001b[0m\n\u001b[0;32m    309\u001b[0m \u001b[38;5;250m\u001b[39m\u001b[38;5;124;03m\"\"\"Saves all layer weights to a `.weights.h5` file.\u001b[39;00m\n\u001b[0;32m    310\u001b[0m \n\u001b[0;32m    311\u001b[0m \u001b[38;5;124;03mArgs:\u001b[39;00m\n\u001b[1;32m   (...)\u001b[0m\n\u001b[0;32m    316\u001b[0m \u001b[38;5;124;03m        via an interactive prompt.\u001b[39;00m\n\u001b[0;32m    317\u001b[0m \u001b[38;5;124;03m\"\"\"\u001b[39;00m\n\u001b[0;32m    318\u001b[0m \u001b[38;5;28;01mif\u001b[39;00m \u001b[38;5;129;01mnot\u001b[39;00m \u001b[38;5;28mstr\u001b[39m(filepath)\u001b[38;5;241m.\u001b[39mendswith(\u001b[38;5;124m\"\u001b[39m\u001b[38;5;124m.weights.h5\u001b[39m\u001b[38;5;124m\"\u001b[39m):\n\u001b[1;32m--> 319\u001b[0m     \u001b[38;5;28;01mraise\u001b[39;00m \u001b[38;5;167;01mValueError\u001b[39;00m(\n\u001b[0;32m    320\u001b[0m         \u001b[38;5;124m\"\u001b[39m\u001b[38;5;124mThe filename must end in `.weights.h5`. \u001b[39m\u001b[38;5;124m\"\u001b[39m\n\u001b[0;32m    321\u001b[0m         \u001b[38;5;124mf\u001b[39m\u001b[38;5;124m\"\u001b[39m\u001b[38;5;124mReceived: filepath=\u001b[39m\u001b[38;5;132;01m{\u001b[39;00mfilepath\u001b[38;5;132;01m}\u001b[39;00m\u001b[38;5;124m\"\u001b[39m\n\u001b[0;32m    322\u001b[0m     )\n\u001b[0;32m    323\u001b[0m \u001b[38;5;28;01mtry\u001b[39;00m:\n\u001b[0;32m    324\u001b[0m     exists \u001b[38;5;241m=\u001b[39m os\u001b[38;5;241m.\u001b[39mpath\u001b[38;5;241m.\u001b[39mexists(filepath)\n",
      "\u001b[1;31mValueError\u001b[0m: The filename must end in `.weights.h5`. Received: filepath=rnn_weights.h5"
     ]
    }
   ],
   "source": [
    "# rnn.save_weights('rnn_weights.h5')"
   ]
  },
  {
   "cell_type": "code",
   "execution_count": 26,
   "metadata": {},
   "outputs": [
    {
     "data": {
      "image/png": "[encoded data removed]",
      "text/plain": [
       "<Figure size 640x480 with 1 Axes>"
      ]
     },
     "metadata": {},
     "output_type": "display_data"
    }
   ],
   "source": [
    "G = nx.DiGraph()  # Create a directed graph\n",
    "\n",
    "for layer in rnn.layers:\n",
    "    G.add_node(layer.name)\n",
    "\n",
    "# Add edges (connections)\n",
    "for i in range(len(rnn.layers) - 1):\n",
    "    G.add_edge(rnn.layers[i].name, rnn.layers[i + 1].name)\n",
    "\n",
    "# Customize layout and display\n",
    "pos = nx.spring_layout(G)  # Choose a layout algorithm\n",
    "nx.draw(G, pos, with_labels=True, font_weight=\"bold\")\n",
    "plt.show()\n"
   ]
  },
  {
   "cell_type": "markdown",
   "metadata": {},
   "source": []
  },
  {
   "cell_type": "code",
   "execution_count": 23,
   "metadata": {},
   "outputs": [
    {
     "name": "stdout",
     "output_type": "stream",
     "text": [
      "(2040, 30, 1)\n"
     ]
    },
    {
     "name": "stdout",
     "output_type": "stream",
     "text": [
      "\u001b[1m64/64\u001b[0m \u001b[32m━━━━━━━━━━━━━━━━━━━━\u001b[0m\u001b[37m\u001b[0m \u001b[1m4s\u001b[0m 27ms/step\n",
      "[11, 11, 11, 34, 34, 11, 11, 34, 34, 34, 11, 34, 34, 11, 11, 34, 34, 34, 34, 34, 34, 34, 34, 34, 34, 11, 34, 34, 34, 34, 34, 34, 34, 34, 34, 34, 34, 34, 34, 34, 34, 34, 34, 11, 34, 34, 34, 11, 11, 34, 34, 34, 11, 34, 34, 34, 34, 34, 11, 11, 34, 34, 34, 11, 11, 34, 11, 34, 34, 11, 11, 34, 34, 11, 11, 34, 34, 11, 34, 34, 11, 34, 11, 34, 34, 34, 11, 34, 34, 34, 34, 34, 11, 34, 11, 11, 34, 34, 34, 34, 34, 11, 34, 11, 34, 34, 34, 11, 11, 11, 11, 34, 34, 11, 34, 34, 34, 11, 34, 11, 34, 34, 34, 34, 34, 11, 11, 34, 34, 11, 11, 34, 34, 34, 11, 34, 34, 34, 11, 11, 34, 11, 34, 11, 34, 11, 34, 34, 34, 34, 34, 11, 11, 11, 34, 34, 34, 34, 34, 34, 11, 11, 34, 34, 34, 11, 11, 34, 34, 11, 34, 11, 34, 34, 11, 34, 34, 11, 34, 34, 11, 34, 34, 11, 11, 11, 34, 11, 34, 34, 11, 34, 34, 11, 11, 11, 34, 34, 11, 34, 11, 11, 34, 11, 11, 11, 34, 34, 34, 34, 34, 11, 34, 34, 11, 34, 34, 34, 11, 11, 11, 11, 11, 34, 34, 11, 34, 11, 34, 34, 34, 34, 34, 34, 34, 34, 34, 34, 34, 11, 34, 11, 34, 11, 11, 34, 34, 34, 34, 34, 11, 11, 34, 34, 11, 11, 34, 34, 34, 34, 34, 34, 11, 34, 11, 11, 34, 34, 11, 11, 11, 34, 34, 34, 34, 34, 34, 34, 34, 34, 11, 11, 11, 34, 34, 34, 34, 34, 34, 11, 11, 34, 11, 11, 11, 34, 34, 34, 11, 34, 11, 34, 11, 34, 34, 34, 34, 11, 11, 11, 34, 34, 34, 11, 34, 11, 34, 34, 34, 34, 34, 11, 11, 34, 34, 34, 34, 34, 34, 34, 11, 34, 11, 11, 34, 11, 11, 34, 11, 34, 34, 34, 34, 34, 34, 34, 34, 11, 34, 34, 11, 34, 11, 11, 11, 34, 34, 34, 34, 34, 34, 34, 11, 34, 11, 11, 34, 11, 34, 34, 11, 11, 34, 34, 11, 34, 34, 11, 34, 34, 34, 34, 34, 11, 34, 34, 34, 34, 34, 34, 11, 11, 34, 34, 34, 34, 34, 34, 34, 34, 11, 11, 11, 11, 34, 34, 11, 11, 34, 11, 34, 34, 34, 11, 11, 34, 11, 34, 11, 34, 11, 34, 11, 34, 34, 34, 34, 34, 34, 34, 11, 34, 11, 11, 34, 34, 11, 34, 34, 34, 11, 34, 34, 34, 34, 34, 34, 11, 34, 11, 34, 11, 11, 34, 34, 34, 11, 11, 34, 11, 34, 34, 34, 34, 34, 11, 11, 34, 34, 11, 34, 34, 34, 34, 11, 34, 34, 34, 34, 11, 34, 34, 11, 11, 11, 11, 34, 34, 34, 34, 34, 34, 34, 11, 11, 11, 34, 11, 34, 34, 34, 34, 11, 34, 34, 34, 34, 34, 11, 11, 11, 11, 34, 11, 34, 34, 34, 34, 34, 11, 34, 11, 11, 34, 34, 11, 11, 11, 11, 34, 11, 34, 34, 11, 34, 34, 34, 11, 11, 11, 11, 34, 34, 34, 34, 34, 11, 34, 34, 11, 11, 34, 11, 34, 34, 11, 34, 34, 34, 34, 11, 34, 34, 11, 34, 11, 34, 34, 11, 34, 34, 34, 11, 34, 34, 34, 34, 34, 34, 11, 34, 34, 11, 34, 11, 11, 11, 11, 34, 11, 34, 11, 11, 34, 34, 34, 11, 11, 11, 34, 11, 11, 11, 11, 34, 34, 11, 34, 34, 34, 34, 34, 34, 11, 11, 34, 11, 11, 11, 34, 11, 34, 11, 34, 34, 11, 34, 34, 34, 11, 34, 11, 11, 34, 34, 34, 34, 11, 11, 34, 34, 34, 34, 11, 11, 34, 11, 34, 34, 11, 11, 11, 11, 34, 34, 34, 34, 34, 34, 11, 34, 34, 11, 11, 34, 11, 34, 34, 11, 34, 34, 11, 34, 34, 34, 11, 34, 11, 11, 34, 34, 11, 34, 34, 34, 34, 11, 34, 11, 34, 11, 34, 34, 11, 34, 34, 11, 34, 34, 34, 34, 11, 11, 34, 34, 34, 11, 34, 11, 34, 11, 34, 11, 11, 34, 11, 34, 11, 34, 34, 34, 34, 11, 11, 34, 34, 34, 11, 11, 11, 34, 11, 34, 34, 34, 11, 11, 11, 11, 34, 11, 34, 11, 34, 34, 11, 11, 11, 34, 34, 11, 34, 34, 34, 11, 11, 34, 34, 34, 11, 34, 34, 34, 34, 34, 11, 34, 11, 11, 11, 11, 34, 34, 34, 34, 11, 11, 34, 34, 11, 34, 34, 11, 11, 34, 34, 34, 11, 34, 11, 34, 11, 34, 11, 11, 11, 34, 34, 34, 11, 34, 11, 34, 34, 11, 34, 34, 11, 34, 11, 34, 34, 34, 11, 34, 34, 34, 11, 11, 11, 11, 34, 34, 34, 34, 11, 11, 34, 34, 34, 34, 11, 34, 34, 11, 11, 34, 11, 11, 34, 11, 11, 34, 34, 34, 34, 34, 34, 34, 34, 11, 11, 34, 11, 34, 34, 11, 11, 11, 11, 11, 34, 34, 34, 34, 11, 34, 34, 11, 11, 34, 11, 34, 34, 34, 34, 11, 34, 34, 11, 34, 34, 34, 11, 11, 34, 11, 11, 11, 11, 11, 34, 34, 34, 34, 11, 34, 34, 11, 34, 34, 34, 11, 34, 11, 11, 34, 34, 34, 11, 11, 34, 11, 34, 11, 34, 11, 34, 34, 34, 34, 11, 11, 34, 11, 34, 34, 34, 34, 11, 34, 34, 11, 11, 11, 11, 11, 11, 11, 34, 34, 11, 34, 34, 34, 11, 11, 34, 11, 34, 11, 11, 34, 34, 11, 34, 11, 34, 34, 34, 11, 34, 34, 11, 11, 34, 34, 11, 11, 34, 11, 34, 34, 34, 34, 34, 34, 34, 34, 11, 11, 34, 11, 34, 34, 11, 34, 34, 11, 34, 34, 34, 11, 34, 34, 11, 34, 34, 11, 34, 34, 34, 34, 11, 34, 34, 34, 34, 34, 11, 34, 34, 34, 34, 11, 34, 34, 34, 34, 11, 34, 34, 11, 34, 34, 11, 11, 11, 34, 11, 34, 34, 34, 34, 34, 34, 34, 34, 34, 34, 34, 34, 11, 34, 34, 11, 34, 11, 34, 34, 34, 11, 34, 34, 11, 34, 34, 34, 34, 11, 11, 34, 11, 11, 34, 34, 34, 34, 34, 34, 34, 34, 34, 11, 34, 34, 11, 34, 11, 11, 34, 34, 34, 11, 11, 11, 34, 11, 34, 34, 34, 34, 11, 11, 11, 34, 34, 11, 34, 11, 11, 34, 11, 34, 11, 34, 11, 34, 11, 34, 34, 34, 34, 34, 34, 11, 11, 34, 34, 34, 11, 11, 11, 11, 11, 34, 11, 34, 11, 11, 34, 34, 34, 11, 11, 34, 11, 34, 11, 34, 34, 11, 11, 11, 11, 34, 34, 34, 11, 34, 34, 34, 34, 34, 11, 34, 34, 34, 11, 34, 34, 34, 34, 34, 34, 11, 34, 11, 34, 11, 11, 34, 34, 34, 34, 11, 34, 34, 34, 34, 11, 11, 11, 34, 34, 34, 34, 11, 34, 34, 34, 11, 34, 34, 34, 34, 34, 11, 11, 34, 11, 11, 11, 11, 34, 34, 11, 11, 34, 11, 34, 34, 34, 34, 34, 11, 34, 34, 11, 11, 34, 34, 11, 34, 34, 34, 34, 34, 34, 34, 34, 34, 34, 34, 11, 11, 11, 34, 11, 34, 34, 11, 11, 34, 34, 11, 34, 34, 34, 34, 11, 34, 34, 34, 34, 34, 11, 34, 34, 34, 34, 34, 34, 11, 11, 34, 11, 11, 34, 34, 34, 11, 34, 34, 34, 11, 34, 11, 11, 11, 11, 11, 34, 11, 34, 34, 34, 34, 11, 34, 11, 34, 34, 11, 34, 34, 34, 34, 11, 34, 34, 11, 34, 11, 11, 11, 34, 34, 34, 34, 34, 34, 34, 34, 11, 34, 34, 34, 34, 11, 34, 11, 34, 34, 11, 34, 34, 34, 34, 34, 11, 11, 34, 11, 11, 11, 11, 11, 11, 34, 11, 34, 11, 34, 34, 34, 34, 34, 11, 34, 34, 11, 11, 11, 34, 34, 34, 11, 11, 34, 34, 34, 34, 34, 34, 11, 34, 11, 34, 34, 11, 34, 11, 34, 34, 34, 34, 34, 11, 34, 34, 34, 34, 34, 11, 34, 34, 34, 11, 34, 34, 34, 11, 34, 34, 11, 11, 34, 34, 11, 34, 11, 34, 34, 34, 11, 34, 34, 34, 11, 34, 11, 34, 11, 11, 34, 11, 34, 34, 34, 11, 34, 34, 34, 34, 11, 34, 11, 11, 11, 34, 34, 34, 11, 11, 11, 34, 11, 34, 34, 11, 11, 34, 11, 34, 34, 11, 34, 34, 34, 34, 34, 11, 34, 34, 34, 34, 11, 11, 34, 34, 34, 34, 34, 34, 11, 11, 34, 34, 34, 34, 34, 34, 34, 34, 34, 11, 34, 34, 34, 11, 11, 34, 11, 11, 34, 11, 11, 34, 34, 34, 11, 34, 34, 11, 34, 34, 11, 11, 11, 34, 11, 34, 11, 11, 34, 34, 11, 34, 11, 11, 11, 11, 34, 34, 11, 11, 34, 11, 34, 11, 34, 11, 11, 11, 34, 34, 34, 11, 11, 34, 34, 34, 34, 11, 11, 11, 34, 11, 34, 11, 34, 11, 11, 11, 34, 34, 34, 34, 34, 34, 34, 11, 34, 34, 34, 34, 34, 34, 34, 11, 34, 11, 34, 34, 34, 34, 11, 11, 11, 34, 11, 11, 34, 34, 34, 34, 34, 34, 11, 11, 34, 11, 34, 11, 34, 34, 11, 11, 34, 34, 11, 11, 34, 11, 34, 11, 34, 34, 34, 11, 34, 34, 34, 11, 34, 11, 11, 11, 11, 11, 11, 34, 34, 34, 34, 11, 11, 34, 34, 34, 11, 11, 34, 34, 34, 34, 11, 34, 11, 11, 11, 34, 11, 11, 34, 34, 34, 11, 11, 11, 34, 11, 34, 34, 34, 11, 34, 34, 11, 11, 34, 34, 11, 11, 11, 34, 11, 34, 11, 34, 11, 11, 34, 11, 34, 34, 11, 11, 11, 11, 11, 34, 11, 34, 11, 11, 34, 34, 11, 34, 11, 34, 34, 11, 34, 34, 11, 11, 11, 34, 34, 34, 34, 34, 11, 34, 34, 34, 11, 34, 34, 34, 11, 34, 34, 34, 34, 11, 34, 11, 11, 11, 11, 34, 34, 34, 34, 11, 34, 34, 11, 34, 11, 34, 11, 34, 34, 11, 11, 34, 34, 11, 11, 34, 11, 34, 11, 11, 34, 34, 11, 11, 34, 34, 34, 34, 34, 34, 11, 34, 11, 11, 34, 11, 11, 34, 11, 34, 34, 34, 34, 11, 11, 34, 11, 34, 34, 34, 11, 11, 11, 34, 34, 11, 34, 11, 11, 34, 34, 11, 34, 34, 34, 34, 34, 34, 34, 34, 34, 11, 34, 34, 34, 34, 34, 11, 11, 34, 11, 11, 11, 34, 11, 34, 34, 34, 34, 34, 11, 11, 34, 34, 11, 11, 11, 34, 34, 11, 34, 11, 11, 11, 11, 34, 34, 11, 11, 11, 34, 34, 11, 11, 11, 11, 34, 34, 34, 11, 34, 34, 34, 34, 34, 11, 11, 34, 34, 34, 11, 34, 11, 11, 11, 34, 34, 34, 11, 11, 34, 11, 34, 11, 34, 11, 34, 34, 11, 34, 34, 34, 11, 34, 11, 34, 11, 34, 11, 34, 34, 34, 34, 34, 34, 11, 34, 34, 34, 34, 11, 11, 11, 11, 11, 34, 34, 34, 34, 34, 34, 34, 11, 11, 11, 34, 11, 11, 11, 34, 34, 11, 34, 34, 34, 34, 34, 34, 34, 34, 34, 11, 34, 34, 11, 34, 11, 11, 34, 11, 34, 34, 11, 34, 34, 34, 11, 11, 11, 34, 34, 11, 34, 34, 34, 34, 34, 11, 11, 11, 34, 34, 11, 11, 34, 11, 34, 34, 11, 34, 11, 34, 34, 11, 34, 11, 11, 34, 11, 34, 34, 34, 34, 34, 11, 34, 11, 11, 34, 34, 11, 11, 34, 34, 34, 34, 34, 11, 34, 34, 34, 34, 34, 34, 11, 34, 34, 11, 11, 11, 34, 34, 11, 11, 34, 11, 34, 34, 34, 34, 34, 34, 34, 34, 34, 34, 34, 11, 34, 34, 34, 11, 34, 11, 11, 34, 34, 34, 34, 11, 34, 34, 34, 34, 11, 34, 34, 34, 34, 34, 34]\n",
      "[50. 20. 36. ...  5.  9.  2.]\n",
      "0.018137254901960786\n"
     ]
    }
   ],
   "source": [
    "print(X_test.shape)\n",
    "predictions_prob= rnn.predict(X_test)\n",
    "y_pred=[np.argmax(i) for i in predictions_prob]\n",
    "print(y_pred)\n",
    "print(y_test)\n",
    "accuracy = accuracy_score(y_test, y_pred)\n",
    "print(accuracy)"
   ]
  },
  {
   "cell_type": "code",
   "execution_count": 24,
   "metadata": {},
   "outputs": [],
   "source": [
    "# rnn.save('LSTM.keras') "
   ]
  }
 ],
 "metadata": {
  "kernelspec": {
   "display_name": "Python 3",
   "language": "python",
   "name": "python3"
  },
  "language_info": {
   "codemirror_mode": {
    "name": "ipython",
    "version": 3
   },
   "file_extension": ".py",
   "mimetype": "text/x-python",
   "name": "python",
   "nbconvert_exporter": "python",
   "pygments_lexer": "ipython3",
   "version": "3.12.1"
  }
 },
 "nbformat": 4,
 "nbformat_minor": 2
}
