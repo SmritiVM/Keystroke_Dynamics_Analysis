{
 "cells": [
  {
   "cell_type": "code",
   "execution_count": 2,
   "metadata": {},
   "outputs": [
    {
     "name": "stderr",
     "output_type": "stream",
     "text": [
      "C:\\Users\\raahu\\AppData\\Local\\Temp\\ipykernel_14292\\3144374601.py:1: DeprecationWarning: \n",
      "Pyarrow will become a required dependency of pandas in the next major release of pandas (pandas 3.0),\n",
      "(to allow more performant data types, such as the Arrow string type, and better interoperability with other libraries)\n",
      "but was not found to be installed on your system.\n",
      "If this would cause problems for you,\n",
      "please provide us feedback at https://github.com/pandas-dev/pandas/issues/54466\n",
      "        \n",
      "  import pandas as pd\n"
     ]
    }
   ],
   "source": [
    "import pandas as pd\n",
    "import numpy as np\n",
    "import matplotlib.pyplot as plt\n",
    "from sklearn.model_selection import train_test_split\n",
    "from sklearn.preprocessing import MinMaxScaler\n",
    "from tensorflow.keras.utils import to_categorical\n",
    "from sklearn.metrics import accuracy_score\n",
    "import networkx as nx\n",
    "%matplotlib inline"
   ]
  },
  {
   "cell_type": "code",
   "execution_count": 3,
   "metadata": {},
   "outputs": [
    {
     "data": {
      "text/html": [
       "<div>\n",
       "<style scoped>\n",
       "    .dataframe tbody tr th:only-of-type {\n",
       "        vertical-align: middle;\n",
       "    }\n",
       "\n",
       "    .dataframe tbody tr th {\n",
       "        vertical-align: top;\n",
       "    }\n",
       "\n",
       "    .dataframe thead th {\n",
       "        text-align: right;\n",
       "    }\n",
       "</style>\n",
       "<table border=\"1\" class=\"dataframe\">\n",
       "  <thead>\n",
       "    <tr style=\"text-align: right;\">\n",
       "      <th></th>\n",
       "      <th>subject</th>\n",
       "      <th>sessionIndex</th>\n",
       "      <th>rep</th>\n",
       "      <th>H.period</th>\n",
       "      <th>DD.period.t</th>\n",
       "      <th>UD.period.t</th>\n",
       "      <th>H.t</th>\n",
       "      <th>DD.t.i</th>\n",
       "      <th>UD.t.i</th>\n",
       "      <th>H.i</th>\n",
       "      <th>...</th>\n",
       "      <th>H.a</th>\n",
       "      <th>DD.a.n</th>\n",
       "      <th>UD.a.n</th>\n",
       "      <th>H.n</th>\n",
       "      <th>DD.n.l</th>\n",
       "      <th>UD.n.l</th>\n",
       "      <th>H.l</th>\n",
       "      <th>DD.l.Return</th>\n",
       "      <th>UD.l.Return</th>\n",
       "      <th>H.Return</th>\n",
       "    </tr>\n",
       "  </thead>\n",
       "  <tbody>\n",
       "    <tr>\n",
       "      <th>0</th>\n",
       "      <td>s002</td>\n",
       "      <td>1</td>\n",
       "      <td>1</td>\n",
       "      <td>0.1491</td>\n",
       "      <td>0.3979</td>\n",
       "      <td>0.2488</td>\n",
       "      <td>0.1069</td>\n",
       "      <td>0.1674</td>\n",
       "      <td>0.0605</td>\n",
       "      <td>0.1169</td>\n",
       "      <td>...</td>\n",
       "      <td>0.1349</td>\n",
       "      <td>0.1484</td>\n",
       "      <td>0.0135</td>\n",
       "      <td>0.0932</td>\n",
       "      <td>0.3515</td>\n",
       "      <td>0.2583</td>\n",
       "      <td>0.1338</td>\n",
       "      <td>0.3509</td>\n",
       "      <td>0.2171</td>\n",
       "      <td>0.0742</td>\n",
       "    </tr>\n",
       "    <tr>\n",
       "      <th>1</th>\n",
       "      <td>s002</td>\n",
       "      <td>1</td>\n",
       "      <td>2</td>\n",
       "      <td>0.1111</td>\n",
       "      <td>0.3451</td>\n",
       "      <td>0.2340</td>\n",
       "      <td>0.0694</td>\n",
       "      <td>0.1283</td>\n",
       "      <td>0.0589</td>\n",
       "      <td>0.0908</td>\n",
       "      <td>...</td>\n",
       "      <td>0.1412</td>\n",
       "      <td>0.2558</td>\n",
       "      <td>0.1146</td>\n",
       "      <td>0.1146</td>\n",
       "      <td>0.2642</td>\n",
       "      <td>0.1496</td>\n",
       "      <td>0.0839</td>\n",
       "      <td>0.2756</td>\n",
       "      <td>0.1917</td>\n",
       "      <td>0.0747</td>\n",
       "    </tr>\n",
       "    <tr>\n",
       "      <th>2</th>\n",
       "      <td>s002</td>\n",
       "      <td>1</td>\n",
       "      <td>3</td>\n",
       "      <td>0.1328</td>\n",
       "      <td>0.2072</td>\n",
       "      <td>0.0744</td>\n",
       "      <td>0.0731</td>\n",
       "      <td>0.1291</td>\n",
       "      <td>0.0560</td>\n",
       "      <td>0.0821</td>\n",
       "      <td>...</td>\n",
       "      <td>0.1621</td>\n",
       "      <td>0.2332</td>\n",
       "      <td>0.0711</td>\n",
       "      <td>0.1172</td>\n",
       "      <td>0.2705</td>\n",
       "      <td>0.1533</td>\n",
       "      <td>0.1085</td>\n",
       "      <td>0.2847</td>\n",
       "      <td>0.1762</td>\n",
       "      <td>0.0945</td>\n",
       "    </tr>\n",
       "    <tr>\n",
       "      <th>3</th>\n",
       "      <td>s002</td>\n",
       "      <td>1</td>\n",
       "      <td>4</td>\n",
       "      <td>0.1291</td>\n",
       "      <td>0.2515</td>\n",
       "      <td>0.1224</td>\n",
       "      <td>0.1059</td>\n",
       "      <td>0.2495</td>\n",
       "      <td>0.1436</td>\n",
       "      <td>0.1040</td>\n",
       "      <td>...</td>\n",
       "      <td>0.1457</td>\n",
       "      <td>0.1629</td>\n",
       "      <td>0.0172</td>\n",
       "      <td>0.0866</td>\n",
       "      <td>0.2341</td>\n",
       "      <td>0.1475</td>\n",
       "      <td>0.0845</td>\n",
       "      <td>0.3232</td>\n",
       "      <td>0.2387</td>\n",
       "      <td>0.0813</td>\n",
       "    </tr>\n",
       "    <tr>\n",
       "      <th>4</th>\n",
       "      <td>s002</td>\n",
       "      <td>1</td>\n",
       "      <td>5</td>\n",
       "      <td>0.1249</td>\n",
       "      <td>0.2317</td>\n",
       "      <td>0.1068</td>\n",
       "      <td>0.0895</td>\n",
       "      <td>0.1676</td>\n",
       "      <td>0.0781</td>\n",
       "      <td>0.0903</td>\n",
       "      <td>...</td>\n",
       "      <td>0.1312</td>\n",
       "      <td>0.1582</td>\n",
       "      <td>0.0270</td>\n",
       "      <td>0.0884</td>\n",
       "      <td>0.2517</td>\n",
       "      <td>0.1633</td>\n",
       "      <td>0.0903</td>\n",
       "      <td>0.2517</td>\n",
       "      <td>0.1614</td>\n",
       "      <td>0.0818</td>\n",
       "    </tr>\n",
       "  </tbody>\n",
       "</table>\n",
       "<p>5 rows × 34 columns</p>\n",
       "</div>"
      ],
      "text/plain": [
       "  subject  sessionIndex  rep  H.period  DD.period.t  UD.period.t     H.t  \\\n",
       "0    s002             1    1    0.1491       0.3979       0.2488  0.1069   \n",
       "1    s002             1    2    0.1111       0.3451       0.2340  0.0694   \n",
       "2    s002             1    3    0.1328       0.2072       0.0744  0.0731   \n",
       "3    s002             1    4    0.1291       0.2515       0.1224  0.1059   \n",
       "4    s002             1    5    0.1249       0.2317       0.1068  0.0895   \n",
       "\n",
       "   DD.t.i  UD.t.i     H.i  ...     H.a  DD.a.n  UD.a.n     H.n  DD.n.l  \\\n",
       "0  0.1674  0.0605  0.1169  ...  0.1349  0.1484  0.0135  0.0932  0.3515   \n",
       "1  0.1283  0.0589  0.0908  ...  0.1412  0.2558  0.1146  0.1146  0.2642   \n",
       "2  0.1291  0.0560  0.0821  ...  0.1621  0.2332  0.0711  0.1172  0.2705   \n",
       "3  0.2495  0.1436  0.1040  ...  0.1457  0.1629  0.0172  0.0866  0.2341   \n",
       "4  0.1676  0.0781  0.0903  ...  0.1312  0.1582  0.0270  0.0884  0.2517   \n",
       "\n",
       "   UD.n.l     H.l  DD.l.Return  UD.l.Return  H.Return  \n",
       "0  0.2583  0.1338       0.3509       0.2171    0.0742  \n",
       "1  0.1496  0.0839       0.2756       0.1917    0.0747  \n",
       "2  0.1533  0.1085       0.2847       0.1762    0.0945  \n",
       "3  0.1475  0.0845       0.3232       0.2387    0.0813  \n",
       "4  0.1633  0.0903       0.2517       0.1614    0.0818  \n",
       "\n",
       "[5 rows x 34 columns]"
      ]
     },
     "execution_count": 3,
     "metadata": {},
     "output_type": "execute_result"
    }
   ],
   "source": [
    "df = pd.read_csv('DSL-StrongPasswordData.csv')\n",
    "df.head()"
   ]
  },
  {
   "cell_type": "code",
   "execution_count": 4,
   "metadata": {},
   "outputs": [],
   "source": [
    "subjects = df['subject'].unique()"
   ]
  },
  {
   "cell_type": "code",
   "execution_count": 5,
   "metadata": {},
   "outputs": [],
   "source": [
    "subjects_to_int = {subject: i  for i, subject in enumerate(subjects)}\n",
    "int_to_subjects = {i: subject for i, subject in enumerate(subjects)}"
   ]
  },
  {
   "cell_type": "code",
   "execution_count": 6,
   "metadata": {},
   "outputs": [
    {
     "name": "stderr",
     "output_type": "stream",
     "text": [
      "C:\\Users\\raahu\\AppData\\Local\\Temp\\ipykernel_14292\\1725018810.py:1: FutureWarning: Downcasting behavior in `replace` is deprecated and will be removed in a future version. To retain the old behavior, explicitly call `result.infer_objects(copy=False)`. To opt-in to the future behavior, set `pd.set_option('future.no_silent_downcasting', True)`\n",
      "  df = df.replace(subjects_to_int)\n"
     ]
    }
   ],
   "source": [
    "df = df.replace(subjects_to_int)"
   ]
  },
  {
   "cell_type": "code",
   "execution_count": 7,
   "metadata": {},
   "outputs": [
    {
     "data": {
      "text/html": [
       "<div>\n",
       "<style scoped>\n",
       "    .dataframe tbody tr th:only-of-type {\n",
       "        vertical-align: middle;\n",
       "    }\n",
       "\n",
       "    .dataframe tbody tr th {\n",
       "        vertical-align: top;\n",
       "    }\n",
       "\n",
       "    .dataframe thead th {\n",
       "        text-align: right;\n",
       "    }\n",
       "</style>\n",
       "<table border=\"1\" class=\"dataframe\">\n",
       "  <thead>\n",
       "    <tr style=\"text-align: right;\">\n",
       "      <th></th>\n",
       "      <th>subject</th>\n",
       "      <th>sessionIndex</th>\n",
       "      <th>rep</th>\n",
       "      <th>H.period</th>\n",
       "      <th>DD.period.t</th>\n",
       "      <th>UD.period.t</th>\n",
       "      <th>H.t</th>\n",
       "      <th>DD.t.i</th>\n",
       "      <th>UD.t.i</th>\n",
       "      <th>H.i</th>\n",
       "      <th>...</th>\n",
       "      <th>H.a</th>\n",
       "      <th>DD.a.n</th>\n",
       "      <th>UD.a.n</th>\n",
       "      <th>H.n</th>\n",
       "      <th>DD.n.l</th>\n",
       "      <th>UD.n.l</th>\n",
       "      <th>H.l</th>\n",
       "      <th>DD.l.Return</th>\n",
       "      <th>UD.l.Return</th>\n",
       "      <th>H.Return</th>\n",
       "    </tr>\n",
       "  </thead>\n",
       "  <tbody>\n",
       "    <tr>\n",
       "      <th>0</th>\n",
       "      <td>0</td>\n",
       "      <td>1</td>\n",
       "      <td>1</td>\n",
       "      <td>0.1491</td>\n",
       "      <td>0.3979</td>\n",
       "      <td>0.2488</td>\n",
       "      <td>0.1069</td>\n",
       "      <td>0.1674</td>\n",
       "      <td>0.0605</td>\n",
       "      <td>0.1169</td>\n",
       "      <td>...</td>\n",
       "      <td>0.1349</td>\n",
       "      <td>0.1484</td>\n",
       "      <td>0.0135</td>\n",
       "      <td>0.0932</td>\n",
       "      <td>0.3515</td>\n",
       "      <td>0.2583</td>\n",
       "      <td>0.1338</td>\n",
       "      <td>0.3509</td>\n",
       "      <td>0.2171</td>\n",
       "      <td>0.0742</td>\n",
       "    </tr>\n",
       "    <tr>\n",
       "      <th>1</th>\n",
       "      <td>0</td>\n",
       "      <td>1</td>\n",
       "      <td>2</td>\n",
       "      <td>0.1111</td>\n",
       "      <td>0.3451</td>\n",
       "      <td>0.2340</td>\n",
       "      <td>0.0694</td>\n",
       "      <td>0.1283</td>\n",
       "      <td>0.0589</td>\n",
       "      <td>0.0908</td>\n",
       "      <td>...</td>\n",
       "      <td>0.1412</td>\n",
       "      <td>0.2558</td>\n",
       "      <td>0.1146</td>\n",
       "      <td>0.1146</td>\n",
       "      <td>0.2642</td>\n",
       "      <td>0.1496</td>\n",
       "      <td>0.0839</td>\n",
       "      <td>0.2756</td>\n",
       "      <td>0.1917</td>\n",
       "      <td>0.0747</td>\n",
       "    </tr>\n",
       "    <tr>\n",
       "      <th>2</th>\n",
       "      <td>0</td>\n",
       "      <td>1</td>\n",
       "      <td>3</td>\n",
       "      <td>0.1328</td>\n",
       "      <td>0.2072</td>\n",
       "      <td>0.0744</td>\n",
       "      <td>0.0731</td>\n",
       "      <td>0.1291</td>\n",
       "      <td>0.0560</td>\n",
       "      <td>0.0821</td>\n",
       "      <td>...</td>\n",
       "      <td>0.1621</td>\n",
       "      <td>0.2332</td>\n",
       "      <td>0.0711</td>\n",
       "      <td>0.1172</td>\n",
       "      <td>0.2705</td>\n",
       "      <td>0.1533</td>\n",
       "      <td>0.1085</td>\n",
       "      <td>0.2847</td>\n",
       "      <td>0.1762</td>\n",
       "      <td>0.0945</td>\n",
       "    </tr>\n",
       "    <tr>\n",
       "      <th>3</th>\n",
       "      <td>0</td>\n",
       "      <td>1</td>\n",
       "      <td>4</td>\n",
       "      <td>0.1291</td>\n",
       "      <td>0.2515</td>\n",
       "      <td>0.1224</td>\n",
       "      <td>0.1059</td>\n",
       "      <td>0.2495</td>\n",
       "      <td>0.1436</td>\n",
       "      <td>0.1040</td>\n",
       "      <td>...</td>\n",
       "      <td>0.1457</td>\n",
       "      <td>0.1629</td>\n",
       "      <td>0.0172</td>\n",
       "      <td>0.0866</td>\n",
       "      <td>0.2341</td>\n",
       "      <td>0.1475</td>\n",
       "      <td>0.0845</td>\n",
       "      <td>0.3232</td>\n",
       "      <td>0.2387</td>\n",
       "      <td>0.0813</td>\n",
       "    </tr>\n",
       "    <tr>\n",
       "      <th>4</th>\n",
       "      <td>0</td>\n",
       "      <td>1</td>\n",
       "      <td>5</td>\n",
       "      <td>0.1249</td>\n",
       "      <td>0.2317</td>\n",
       "      <td>0.1068</td>\n",
       "      <td>0.0895</td>\n",
       "      <td>0.1676</td>\n",
       "      <td>0.0781</td>\n",
       "      <td>0.0903</td>\n",
       "      <td>...</td>\n",
       "      <td>0.1312</td>\n",
       "      <td>0.1582</td>\n",
       "      <td>0.0270</td>\n",
       "      <td>0.0884</td>\n",
       "      <td>0.2517</td>\n",
       "      <td>0.1633</td>\n",
       "      <td>0.0903</td>\n",
       "      <td>0.2517</td>\n",
       "      <td>0.1614</td>\n",
       "      <td>0.0818</td>\n",
       "    </tr>\n",
       "  </tbody>\n",
       "</table>\n",
       "<p>5 rows × 34 columns</p>\n",
       "</div>"
      ],
      "text/plain": [
       "   subject  sessionIndex  rep  H.period  DD.period.t  UD.period.t     H.t  \\\n",
       "0        0             1    1    0.1491       0.3979       0.2488  0.1069   \n",
       "1        0             1    2    0.1111       0.3451       0.2340  0.0694   \n",
       "2        0             1    3    0.1328       0.2072       0.0744  0.0731   \n",
       "3        0             1    4    0.1291       0.2515       0.1224  0.1059   \n",
       "4        0             1    5    0.1249       0.2317       0.1068  0.0895   \n",
       "\n",
       "   DD.t.i  UD.t.i     H.i  ...     H.a  DD.a.n  UD.a.n     H.n  DD.n.l  \\\n",
       "0  0.1674  0.0605  0.1169  ...  0.1349  0.1484  0.0135  0.0932  0.3515   \n",
       "1  0.1283  0.0589  0.0908  ...  0.1412  0.2558  0.1146  0.1146  0.2642   \n",
       "2  0.1291  0.0560  0.0821  ...  0.1621  0.2332  0.0711  0.1172  0.2705   \n",
       "3  0.2495  0.1436  0.1040  ...  0.1457  0.1629  0.0172  0.0866  0.2341   \n",
       "4  0.1676  0.0781  0.0903  ...  0.1312  0.1582  0.0270  0.0884  0.2517   \n",
       "\n",
       "   UD.n.l     H.l  DD.l.Return  UD.l.Return  H.Return  \n",
       "0  0.2583  0.1338       0.3509       0.2171    0.0742  \n",
       "1  0.1496  0.0839       0.2756       0.1917    0.0747  \n",
       "2  0.1533  0.1085       0.2847       0.1762    0.0945  \n",
       "3  0.1475  0.0845       0.3232       0.2387    0.0813  \n",
       "4  0.1633  0.0903       0.2517       0.1614    0.0818  \n",
       "\n",
       "[5 rows x 34 columns]"
      ]
     },
     "execution_count": 7,
     "metadata": {},
     "output_type": "execute_result"
    }
   ],
   "source": [
    "df.head()"
   ]
  },
  {
   "cell_type": "code",
   "execution_count": 8,
   "metadata": {},
   "outputs": [
    {
     "name": "stdout",
     "output_type": "stream",
     "text": [
      "[[ 0.      1.      1.     ...  0.3509  0.2171  0.0742]\n",
      " [ 0.      1.      2.     ...  0.2756  0.1917  0.0747]\n",
      " [ 0.      1.      3.     ...  0.2847  0.1762  0.0945]\n",
      " ...\n",
      " [50.      8.     48.     ...  0.2017  0.0983  0.0905]\n",
      " [50.      8.     49.     ...  0.1917  0.0938  0.0931]\n",
      " [50.      8.     50.     ...  0.1993  0.1186  0.1018]]\n"
     ]
    },
    {
     "data": {
      "text/plain": [
       "(20400, 34)"
      ]
     },
     "execution_count": 8,
     "metadata": {},
     "output_type": "execute_result"
    }
   ],
   "source": [
    "data_raw = df.values\n",
    "print(data_raw)\n",
    "data_raw.shape"
   ]
  },
  {
   "cell_type": "code",
   "execution_count": 9,
   "metadata": {},
   "outputs": [
    {
     "name": "stdout",
     "output_type": "stream",
     "text": [
      "[[1.491e-01 3.979e-01 2.488e-01 ... 3.509e-01 2.171e-01 0.000e+00]\n",
      " [1.111e-01 3.451e-01 2.340e-01 ... 2.756e-01 1.917e-01 0.000e+00]\n",
      " [1.328e-01 2.072e-01 7.440e-02 ... 2.847e-01 1.762e-01 0.000e+00]\n",
      " ...\n",
      " [9.390e-02 1.189e-01 2.500e-02 ... 2.017e-01 9.830e-02 5.000e+01]\n",
      " [9.230e-02 1.294e-01 3.710e-02 ... 1.917e-01 9.380e-02 5.000e+01]\n",
      " [5.960e-02 1.310e-01 7.140e-02 ... 1.993e-01 1.186e-01 5.000e+01]]\n"
     ]
    }
   ],
   "source": [
    "data=data_raw[ :, 3:-1]\n",
    "labels_raw = df['subject'].values\n",
    "labels= labels_raw.reshape(labels_raw.shape[0],1)\n",
    "data=np.hstack([data, labels])\n",
    "print(data)"
   ]
  },
  {
   "cell_type": "code",
   "execution_count": 10,
   "metadata": {},
   "outputs": [
    {
     "data": {
      "text/plain": [
       "(20400, 30)"
      ]
     },
     "execution_count": 10,
     "metadata": {},
     "output_type": "execute_result"
    }
   ],
   "source": [
    "np.random.shuffle(data)\n",
    "x=data[ : , :-1]\n",
    "y=data[:,-1]\n",
    "x.shape"
   ]
  },
  {
   "cell_type": "code",
   "execution_count": 11,
   "metadata": {},
   "outputs": [],
   "source": [
    "scaler = MinMaxScaler()\n",
    "x = scaler.fit_transform(x)"
   ]
  },
  {
   "cell_type": "code",
   "execution_count": 12,
   "metadata": {},
   "outputs": [],
   "source": [
    "X_train, X_test, y_train, y_test = train_test_split(x, y, test_size=0.1, random_state=0)"
   ]
  },
  {
   "cell_type": "code",
   "execution_count": 13,
   "metadata": {},
   "outputs": [],
   "source": [
    "Y_train = to_categorical(y_train, num_classes=51)\n",
    "Y_test=to_categorical(y_test,num_classes=51)\n"
   ]
  },
  {
   "cell_type": "code",
   "execution_count": 14,
   "metadata": {},
   "outputs": [
    {
     "data": {
      "text/plain": [
       "(18360, 30, 1)"
      ]
     },
     "execution_count": 14,
     "metadata": {},
     "output_type": "execute_result"
    }
   ],
   "source": [
    "X_train = np.reshape(X_train, (X_train.shape[0], X_train.shape[1], 1))\n",
    "X_test = np.reshape(X_test, (X_test.shape[0], X_test.shape[1], 1))\n",
    "X_train.shape"
   ]
  },
  {
   "cell_type": "code",
   "execution_count": 15,
   "metadata": {},
   "outputs": [],
   "source": [
    "from tensorflow.keras.models import Sequential\n",
    "from tensorflow.keras.layers import Dense, LSTM, Dropout\n",
    "from tensorflow.keras.optimizers import Adam\n",
    "import tensorflow as tf"
   ]
  },
  {
   "cell_type": "code",
   "execution_count": 16,
   "metadata": {},
   "outputs": [],
   "source": [
    "# rnn = Sequential()\n",
    "# rnn.add(LSTM(units = 45, return_sequences = True, input_shape = (X_train.shape[1], 1)))\n",
    "# rnn.add(Dropout(0.2))\n",
    "# for i in [True, True, False]:\n",
    "#     rnn.add(LSTM(units = 45, return_sequences = i))\n",
    "#     rnn.add(Dropout(0.2))\n",
    "# rnn.add(Dense(units = 51, activation='softmax', name='output_layer'))"
   ]
  },
  {
   "cell_type": "code",
   "execution_count": 17,
   "metadata": {},
   "outputs": [],
   "source": [
    "rnn = Sequential()\n",
    "for i in [True, True, False]:\n",
    "    rnn.add(LSTM(units = 45, return_sequences = i))\n",
    "    rnn.add(Dropout(0.2))\n",
    "rnn.add(Dense(units = 51, activation='softmax'))"
   ]
  },
  {
   "cell_type": "code",
   "execution_count": 18,
   "metadata": {},
   "outputs": [],
   "source": [
    "lr_schedule = tf.keras.optimizers.schedules.ExponentialDecay(\n",
    "    initial_learning_rate=0.01,\n",
    "    decay_steps=10000,\n",
    "    decay_rate=0.1)\n",
    "opt = Adam(learning_rate=lr_schedule, beta_1=0.9, beta_2=0.999)"
   ]
  },
  {
   "cell_type": "code",
   "execution_count": 19,
   "metadata": {},
   "outputs": [],
   "source": [
    "rnn.compile(optimizer = opt, loss = 'categorical_crossentropy')"
   ]
  },
  {
   "cell_type": "code",
   "execution_count": 20,
   "metadata": {},
   "outputs": [
    {
     "name": "stdout",
     "output_type": "stream",
     "text": [
      "Epoch 1/60\n"
     ]
    },
    {
     "name": "stdout",
     "output_type": "stream",
     "text": [
      "\u001b[1m574/574\u001b[0m \u001b[32m━━━━━━━━━━━━━━━━━━━━\u001b[0m\u001b[37m\u001b[0m \u001b[1m30s\u001b[0m 38ms/step - loss: 3.7295 - val_loss: 2.4172\n",
      "Epoch 2/60\n",
      "\u001b[1m574/574\u001b[0m \u001b[32m━━━━━━━━━━━━━━━━━━━━\u001b[0m\u001b[37m\u001b[0m \u001b[1m24s\u001b[0m 42ms/step - loss: 2.1509 - val_loss: 1.5863\n",
      "Epoch 3/60\n",
      "\u001b[1m574/574\u001b[0m \u001b[32m━━━━━━━━━━━━━━━━━━━━\u001b[0m\u001b[37m\u001b[0m \u001b[1m24s\u001b[0m 42ms/step - loss: 1.5679 - val_loss: 1.1653\n",
      "Epoch 4/60\n",
      "\u001b[1m574/574\u001b[0m \u001b[32m━━━━━━━━━━━━━━━━━━━━\u001b[0m\u001b[37m\u001b[0m \u001b[1m24s\u001b[0m 42ms/step - loss: 1.2768 - val_loss: 0.9213\n",
      "Epoch 5/60\n",
      "\u001b[1m574/574\u001b[0m \u001b[32m━━━━━━━━━━━━━━━━━━━━\u001b[0m\u001b[37m\u001b[0m \u001b[1m19s\u001b[0m 34ms/step - loss: 1.0791 - val_loss: 0.7968\n",
      "Epoch 6/60\n",
      "\u001b[1m574/574\u001b[0m \u001b[32m━━━━━━━━━━━━━━━━━━━━\u001b[0m\u001b[37m\u001b[0m \u001b[1m20s\u001b[0m 34ms/step - loss: 0.9277 - val_loss: 0.7183\n",
      "Epoch 7/60\n",
      "\u001b[1m574/574\u001b[0m \u001b[32m━━━━━━━━━━━━━━━━━━━━\u001b[0m\u001b[37m\u001b[0m \u001b[1m19s\u001b[0m 34ms/step - loss: 0.8371 - val_loss: 0.6723\n",
      "Epoch 8/60\n",
      "\u001b[1m574/574\u001b[0m \u001b[32m━━━━━━━━━━━━━━━━━━━━\u001b[0m\u001b[37m\u001b[0m \u001b[1m19s\u001b[0m 34ms/step - loss: 0.7651 - val_loss: 0.5732\n",
      "Epoch 9/60\n",
      "\u001b[1m574/574\u001b[0m \u001b[32m━━━━━━━━━━━━━━━━━━━━\u001b[0m\u001b[37m\u001b[0m \u001b[1m19s\u001b[0m 34ms/step - loss: 0.6490 - val_loss: 0.5193\n",
      "Epoch 10/60\n",
      "\u001b[1m574/574\u001b[0m \u001b[32m━━━━━━━━━━━━━━━━━━━━\u001b[0m\u001b[37m\u001b[0m \u001b[1m20s\u001b[0m 34ms/step - loss: 0.5938 - val_loss: 0.5209\n",
      "Epoch 11/60\n",
      "\u001b[1m574/574\u001b[0m \u001b[32m━━━━━━━━━━━━━━━━━━━━\u001b[0m\u001b[37m\u001b[0m \u001b[1m20s\u001b[0m 34ms/step - loss: 0.5451 - val_loss: 0.4617\n",
      "Epoch 12/60\n",
      "\u001b[1m574/574\u001b[0m \u001b[32m━━━━━━━━━━━━━━━━━━━━\u001b[0m\u001b[37m\u001b[0m \u001b[1m20s\u001b[0m 35ms/step - loss: 0.5332 - val_loss: 0.4697\n",
      "Epoch 13/60\n",
      "\u001b[1m574/574\u001b[0m \u001b[32m━━━━━━━━━━━━━━━━━━━━\u001b[0m\u001b[37m\u001b[0m \u001b[1m19s\u001b[0m 34ms/step - loss: 0.4854 - val_loss: 0.4432\n",
      "Epoch 14/60\n",
      "\u001b[1m574/574\u001b[0m \u001b[32m━━━━━━━━━━━━━━━━━━━━\u001b[0m\u001b[37m\u001b[0m \u001b[1m19s\u001b[0m 33ms/step - loss: 0.4616 - val_loss: 0.4217\n",
      "Epoch 15/60\n",
      "\u001b[1m574/574\u001b[0m \u001b[32m━━━━━━━━━━━━━━━━━━━━\u001b[0m\u001b[37m\u001b[0m \u001b[1m20s\u001b[0m 34ms/step - loss: 0.4476 - val_loss: 0.3858\n",
      "Epoch 16/60\n",
      "\u001b[1m574/574\u001b[0m \u001b[32m━━━━━━━━━━━━━━━━━━━━\u001b[0m\u001b[37m\u001b[0m \u001b[1m19s\u001b[0m 34ms/step - loss: 0.3999 - val_loss: 0.4017\n",
      "Epoch 17/60\n",
      "\u001b[1m574/574\u001b[0m \u001b[32m━━━━━━━━━━━━━━━━━━━━\u001b[0m\u001b[37m\u001b[0m \u001b[1m19s\u001b[0m 34ms/step - loss: 0.3818 - val_loss: 0.3803\n",
      "Epoch 18/60\n",
      "\u001b[1m574/574\u001b[0m \u001b[32m━━━━━━━━━━━━━━━━━━━━\u001b[0m\u001b[37m\u001b[0m \u001b[1m19s\u001b[0m 34ms/step - loss: 0.3786 - val_loss: 0.3749\n",
      "Epoch 19/60\n",
      "\u001b[1m574/574\u001b[0m \u001b[32m━━━━━━━━━━━━━━━━━━━━\u001b[0m\u001b[37m\u001b[0m \u001b[1m19s\u001b[0m 32ms/step - loss: 0.3876 - val_loss: 0.3781\n",
      "Epoch 20/60\n",
      "\u001b[1m574/574\u001b[0m \u001b[32m━━━━━━━━━━━━━━━━━━━━\u001b[0m\u001b[37m\u001b[0m \u001b[1m18s\u001b[0m 32ms/step - loss: 0.3495 - val_loss: 0.3720\n",
      "Epoch 21/60\n",
      "\u001b[1m574/574\u001b[0m \u001b[32m━━━━━━━━━━━━━━━━━━━━\u001b[0m\u001b[37m\u001b[0m \u001b[1m19s\u001b[0m 32ms/step - loss: 0.3432 - val_loss: 0.3568\n",
      "Epoch 22/60\n",
      "\u001b[1m574/574\u001b[0m \u001b[32m━━━━━━━━━━━━━━━━━━━━\u001b[0m\u001b[37m\u001b[0m \u001b[1m18s\u001b[0m 32ms/step - loss: 0.3360 - val_loss: 0.3562\n",
      "Epoch 23/60\n",
      "\u001b[1m574/574\u001b[0m \u001b[32m━━━━━━━━━━━━━━━━━━━━\u001b[0m\u001b[37m\u001b[0m \u001b[1m19s\u001b[0m 32ms/step - loss: 0.3374 - val_loss: 0.3436\n",
      "Epoch 24/60\n",
      "\u001b[1m574/574\u001b[0m \u001b[32m━━━━━━━━━━━━━━━━━━━━\u001b[0m\u001b[37m\u001b[0m \u001b[1m18s\u001b[0m 32ms/step - loss: 0.3496 - val_loss: 0.3559\n",
      "Epoch 25/60\n",
      "\u001b[1m574/574\u001b[0m \u001b[32m━━━━━━━━━━━━━━━━━━━━\u001b[0m\u001b[37m\u001b[0m \u001b[1m19s\u001b[0m 32ms/step - loss: 0.3239 - val_loss: 0.3615\n",
      "Epoch 26/60\n",
      "\u001b[1m574/574\u001b[0m \u001b[32m━━━━━━━━━━━━━━━━━━━━\u001b[0m\u001b[37m\u001b[0m \u001b[1m18s\u001b[0m 32ms/step - loss: 0.3252 - val_loss: 0.3491\n",
      "Epoch 27/60\n",
      "\u001b[1m574/574\u001b[0m \u001b[32m━━━━━━━━━━━━━━━━━━━━\u001b[0m\u001b[37m\u001b[0m \u001b[1m18s\u001b[0m 32ms/step - loss: 0.3184 - val_loss: 0.3450\n",
      "Epoch 28/60\n",
      "\u001b[1m574/574\u001b[0m \u001b[32m━━━━━━━━━━━━━━━━━━━━\u001b[0m\u001b[37m\u001b[0m \u001b[1m18s\u001b[0m 32ms/step - loss: 0.3202 - val_loss: 0.3463\n",
      "Epoch 29/60\n",
      "\u001b[1m574/574\u001b[0m \u001b[32m━━━━━━━━━━━━━━━━━━━━\u001b[0m\u001b[37m\u001b[0m \u001b[1m18s\u001b[0m 32ms/step - loss: 0.3088 - val_loss: 0.3389\n",
      "Epoch 30/60\n",
      "\u001b[1m574/574\u001b[0m \u001b[32m━━━━━━━━━━━━━━━━━━━━\u001b[0m\u001b[37m\u001b[0m \u001b[1m19s\u001b[0m 32ms/step - loss: 0.3092 - val_loss: 0.3403\n",
      "Epoch 31/60\n",
      "\u001b[1m574/574\u001b[0m \u001b[32m━━━━━━━━━━━━━━━━━━━━\u001b[0m\u001b[37m\u001b[0m \u001b[1m18s\u001b[0m 32ms/step - loss: 0.3224 - val_loss: 0.3421\n",
      "Epoch 32/60\n",
      "\u001b[1m574/574\u001b[0m \u001b[32m━━━━━━━━━━━━━━━━━━━━\u001b[0m\u001b[37m\u001b[0m \u001b[1m19s\u001b[0m 32ms/step - loss: 0.3113 - val_loss: 0.3380\n",
      "Epoch 33/60\n",
      "\u001b[1m574/574\u001b[0m \u001b[32m━━━━━━━━━━━━━━━━━━━━\u001b[0m\u001b[37m\u001b[0m \u001b[1m19s\u001b[0m 32ms/step - loss: 0.2912 - val_loss: 0.3410\n",
      "Epoch 34/60\n",
      "\u001b[1m574/574\u001b[0m \u001b[32m━━━━━━━━━━━━━━━━━━━━\u001b[0m\u001b[37m\u001b[0m \u001b[1m18s\u001b[0m 32ms/step - loss: 0.2964 - val_loss: 0.3381\n",
      "Epoch 35/60\n",
      "\u001b[1m574/574\u001b[0m \u001b[32m━━━━━━━━━━━━━━━━━━━━\u001b[0m\u001b[37m\u001b[0m \u001b[1m19s\u001b[0m 32ms/step - loss: 0.2913 - val_loss: 0.3382\n",
      "Epoch 36/60\n",
      "\u001b[1m574/574\u001b[0m \u001b[32m━━━━━━━━━━━━━━━━━━━━\u001b[0m\u001b[37m\u001b[0m \u001b[1m18s\u001b[0m 32ms/step - loss: 0.3038 - val_loss: 0.3425\n",
      "Epoch 37/60\n",
      "\u001b[1m574/574\u001b[0m \u001b[32m━━━━━━━━━━━━━━━━━━━━\u001b[0m\u001b[37m\u001b[0m \u001b[1m19s\u001b[0m 32ms/step - loss: 0.3025 - val_loss: 0.3399\n",
      "Epoch 38/60\n",
      "\u001b[1m574/574\u001b[0m \u001b[32m━━━━━━━━━━━━━━━━━━━━\u001b[0m\u001b[37m\u001b[0m \u001b[1m19s\u001b[0m 32ms/step - loss: 0.2954 - val_loss: 0.3397\n",
      "Epoch 39/60\n",
      "\u001b[1m574/574\u001b[0m \u001b[32m━━━━━━━━━━━━━━━━━━━━\u001b[0m\u001b[37m\u001b[0m \u001b[1m19s\u001b[0m 32ms/step - loss: 0.2885 - val_loss: 0.3406\n",
      "Epoch 40/60\n",
      "\u001b[1m574/574\u001b[0m \u001b[32m━━━━━━━━━━━━━━━━━━━━\u001b[0m\u001b[37m\u001b[0m \u001b[1m13s\u001b[0m 23ms/step - loss: 0.2962 - val_loss: 0.3417\n",
      "Epoch 41/60\n",
      "\u001b[1m574/574\u001b[0m \u001b[32m━━━━━━━━━━━━━━━━━━━━\u001b[0m\u001b[37m\u001b[0m \u001b[1m13s\u001b[0m 23ms/step - loss: 0.2777 - val_loss: 0.3400\n",
      "Epoch 42/60\n",
      "\u001b[1m574/574\u001b[0m \u001b[32m━━━━━━━━━━━━━━━━━━━━\u001b[0m\u001b[37m\u001b[0m \u001b[1m13s\u001b[0m 23ms/step - loss: 0.2893 - val_loss: 0.3404\n",
      "Epoch 43/60\n",
      "\u001b[1m574/574\u001b[0m \u001b[32m━━━━━━━━━━━━━━━━━━━━\u001b[0m\u001b[37m\u001b[0m \u001b[1m13s\u001b[0m 23ms/step - loss: 0.2960 - val_loss: 0.3404\n",
      "Epoch 44/60\n",
      "\u001b[1m574/574\u001b[0m \u001b[32m━━━━━━━━━━━━━━━━━━━━\u001b[0m\u001b[37m\u001b[0m \u001b[1m61s\u001b[0m 106ms/step - loss: 0.2808 - val_loss: 0.3398\n",
      "Epoch 45/60\n",
      "\u001b[1m574/574\u001b[0m \u001b[32m━━━━━━━━━━━━━━━━━━━━\u001b[0m\u001b[37m\u001b[0m \u001b[1m11s\u001b[0m 19ms/step - loss: 0.2896 - val_loss: 0.3393\n",
      "Epoch 46/60\n",
      "\u001b[1m574/574\u001b[0m \u001b[32m━━━━━━━━━━━━━━━━━━━━\u001b[0m\u001b[37m\u001b[0m \u001b[1m11s\u001b[0m 18ms/step - loss: 0.2979 - val_loss: 0.3391\n",
      "Epoch 47/60\n",
      "\u001b[1m574/574\u001b[0m \u001b[32m━━━━━━━━━━━━━━━━━━━━\u001b[0m\u001b[37m\u001b[0m \u001b[1m11s\u001b[0m 19ms/step - loss: 0.2969 - val_loss: 0.3395\n",
      "Epoch 48/60\n",
      "\u001b[1m574/574\u001b[0m \u001b[32m━━━━━━━━━━━━━━━━━━━━\u001b[0m\u001b[37m\u001b[0m \u001b[1m11s\u001b[0m 18ms/step - loss: 0.2817 - val_loss: 0.3384\n",
      "Epoch 49/60\n",
      "\u001b[1m574/574\u001b[0m \u001b[32m━━━━━━━━━━━━━━━━━━━━\u001b[0m\u001b[37m\u001b[0m \u001b[1m11s\u001b[0m 18ms/step - loss: 0.2928 - val_loss: 0.3386\n",
      "Epoch 50/60\n",
      "\u001b[1m574/574\u001b[0m \u001b[32m━━━━━━━━━━━━━━━━━━━━\u001b[0m\u001b[37m\u001b[0m \u001b[1m11s\u001b[0m 18ms/step - loss: 0.2874 - val_loss: 0.3397\n",
      "Epoch 51/60\n",
      "\u001b[1m574/574\u001b[0m \u001b[32m━━━━━━━━━━━━━━━━━━━━\u001b[0m\u001b[37m\u001b[0m \u001b[1m11s\u001b[0m 18ms/step - loss: 0.2816 - val_loss: 0.3388\n",
      "Epoch 52/60\n",
      "\u001b[1m574/574\u001b[0m \u001b[32m━━━━━━━━━━━━━━━━━━━━\u001b[0m\u001b[37m\u001b[0m \u001b[1m11s\u001b[0m 18ms/step - loss: 0.2892 - val_loss: 0.3384\n",
      "Epoch 53/60\n",
      "\u001b[1m574/574\u001b[0m \u001b[32m━━━━━━━━━━━━━━━━━━━━\u001b[0m\u001b[37m\u001b[0m \u001b[1m18s\u001b[0m 31ms/step - loss: 0.2921 - val_loss: 0.3391\n",
      "Epoch 54/60\n",
      "\u001b[1m574/574\u001b[0m \u001b[32m━━━━━━━━━━━━━━━━━━━━\u001b[0m\u001b[37m\u001b[0m \u001b[1m19s\u001b[0m 34ms/step - loss: 0.2817 - val_loss: 0.3392\n",
      "Epoch 55/60\n",
      "\u001b[1m574/574\u001b[0m \u001b[32m━━━━━━━━━━━━━━━━━━━━\u001b[0m\u001b[37m\u001b[0m \u001b[1m20s\u001b[0m 34ms/step - loss: 0.2863 - val_loss: 0.3392\n",
      "Epoch 56/60\n",
      "\u001b[1m574/574\u001b[0m \u001b[32m━━━━━━━━━━━━━━━━━━━━\u001b[0m\u001b[37m\u001b[0m \u001b[1m19s\u001b[0m 34ms/step - loss: 0.2986 - val_loss: 0.3393\n",
      "Epoch 57/60\n",
      "\u001b[1m574/574\u001b[0m \u001b[32m━━━━━━━━━━━━━━━━━━━━\u001b[0m\u001b[37m\u001b[0m \u001b[1m19s\u001b[0m 34ms/step - loss: 0.2817 - val_loss: 0.3386\n",
      "Epoch 58/60\n",
      "\u001b[1m574/574\u001b[0m \u001b[32m━━━━━━━━━━━━━━━━━━━━\u001b[0m\u001b[37m\u001b[0m \u001b[1m14s\u001b[0m 24ms/step - loss: 0.2924 - val_loss: 0.3383\n",
      "Epoch 59/60\n",
      "\u001b[1m574/574\u001b[0m \u001b[32m━━━━━━━━━━━━━━━━━━━━\u001b[0m\u001b[37m\u001b[0m \u001b[1m13s\u001b[0m 22ms/step - loss: 0.2949 - val_loss: 0.3382\n",
      "Epoch 60/60\n",
      "\u001b[1m574/574\u001b[0m \u001b[32m━━━━━━━━━━━━━━━━━━━━\u001b[0m\u001b[37m\u001b[0m \u001b[1m13s\u001b[0m 23ms/step - loss: 0.2919 - val_loss: 0.3382\n"
     ]
    },
    {
     "data": {
      "image/png": "[encoded data removed]",
      "text/plain": [
       "<Figure size 640x480 with 1 Axes>"
      ]
     },
     "metadata": {},
     "output_type": "display_data"
    }
   ],
   "source": [
    "# history= rnn.fit(X_train, Y_train,validation_data=(X_test, Y_test), epochs = 60, batch_size=32)\n",
    "\n",
    "# # Plot the training loss and validation loss over epochs\n",
    "# plt.plot(history.history['loss'], label='Training Loss')\n",
    "# plt.plot(history.history['val_loss'], label='Validation Loss')\n",
    "# plt.xlabel('Epoch')\n",
    "# plt.ylabel('Loss')\n",
    "# plt.legend()\n",
    "# plt.show()"
   ]
  },
  {
   "cell_type": "code",
   "execution_count": 21,
   "metadata": {},
   "outputs": [
    {
     "name": "stderr",
     "output_type": "stream",
     "text": [
      "WARNING:absl:You are saving your model as an HDF5 file via `model.save()` or `keras.saving.save_model(model)`. This file format is considered legacy. We recommend using instead the native Keras format, e.g. `model.save('my_model.keras')` or `keras.saving.save_model(model, 'my_model.keras')`. \n"
     ]
    }
   ],
   "source": [
    "rnn.save('rnn_weights.h5')"
   ]
  },
  {
   "cell_type": "code",
   "execution_count": 22,
   "metadata": {},
   "outputs": [
    {
     "data": {
      "image/png": "[encoded data removed]",
      "text/plain": [
       "<Figure size 640x480 with 1 Axes>"
      ]
     },
     "metadata": {},
     "output_type": "display_data"
    }
   ],
   "source": [
    "G = nx.DiGraph()  # Create a directed graph\n",
    "\n",
    "for layer in rnn.layers:\n",
    "    G.add_node(layer.name)\n",
    "\n",
    "# Add edges (connections)\n",
    "for i in range(len(rnn.layers) - 1):\n",
    "    G.add_edge(rnn.layers[i].name, rnn.layers[i + 1].name)\n",
    "\n",
    "# Customize layout and display\n",
    "pos = nx.spring_layout(G)  # Choose a layout algorithm\n",
    "nx.draw(G, pos, with_labels=True, font_weight=\"bold\")\n",
    "plt.show()\n"
   ]
  },
  {
   "cell_type": "markdown",
   "metadata": {},
   "source": []
  },
  {
   "cell_type": "code",
   "execution_count": 23,
   "metadata": {},
   "outputs": [
    {
     "name": "stdout",
     "output_type": "stream",
     "text": [
      "(2040, 30, 1)\n",
      "\u001b[1m64/64\u001b[0m \u001b[32m━━━━━━━━━━━━━━━━━━━━\u001b[0m\u001b[37m\u001b[0m \u001b[1m1s\u001b[0m 15ms/step\n",
      "[19, 26, 45, 38, 20, 22, 20, 34, 24, 49, 45, 42, 45, 31, 11, 44, 49, 37, 18, 1, 14, 1, 15, 33, 37, 13, 14, 21, 32, 46, 49, 14, 42, 43, 32, 50, 37, 46, 35, 34, 0, 8, 14, 8, 17, 26, 46, 26, 13, 45, 23, 16, 32, 49, 0, 37, 9, 43, 49, 16, 7, 14, 32, 12, 22, 6, 48, 4, 46, 27, 34, 20, 9, 49, 22, 25, 30, 0, 10, 39, 2, 50, 18, 43, 41, 38, 10, 6, 26, 31, 41, 32, 9, 6, 43, 17, 7, 3, 3, 38, 6, 3, 39, 12, 16, 42, 14, 39, 47, 35, 13, 5, 25, 43, 1, 10, 27, 29, 14, 32, 44, 48, 41, 1, 10, 8, 38, 25, 28, 1, 10, 46, 46, 38, 31, 35, 26, 11, 29, 46, 30, 18, 6, 10, 30, 22, 12, 4, 7, 29, 21, 44, 13, 16, 8, 39, 42, 20, 50, 50, 29, 49, 25, 49, 15, 12, 27, 10, 39, 29, 4, 31, 19, 40, 33, 46, 30, 39, 37, 36, 40, 24, 12, 10, 35, 42, 29, 14, 45, 12, 3, 10, 39, 36, 46, 40, 18, 25, 26, 32, 47, 43, 48, 18, 44, 27, 48, 24, 43, 42, 45, 12, 6, 26, 16, 21, 27, 5, 17, 19, 39, 6, 11, 40, 3, 30, 47, 33, 37, 27, 40, 9, 11, 33, 17, 44, 16, 2, 34, 35, 42, 49, 13, 11, 48, 31, 46, 36, 31, 14, 22, 32, 12, 33, 12, 26, 37, 38, 17, 27, 43, 20, 34, 22, 41, 17, 0, 41, 27, 13, 24, 20, 43, 17, 49, 29, 3, 11, 47, 17, 8, 42, 14, 12, 35, 40, 0, 30, 19, 48, 4, 16, 30, 6, 7, 5, 33, 17, 18, 35, 30, 20, 37, 6, 31, 24, 10, 30, 46, 39, 50, 45, 26, 3, 2, 26, 43, 39, 17, 7, 34, 26, 21, 49, 10, 36, 3, 2, 49, 27, 1, 12, 22, 44, 23, 41, 33, 28, 1, 37, 44, 3, 5, 30, 9, 8, 8, 32, 8, 39, 44, 49, 42, 34, 35, 15, 17, 6, 30, 9, 25, 2, 36, 48, 26, 47, 36, 3, 39, 2, 16, 15, 46, 20, 18, 8, 25, 43, 22, 15, 18, 8, 26, 11, 43, 41, 19, 23, 14, 22, 22, 49, 10, 48, 4, 43, 38, 21, 37, 12, 26, 27, 39, 48, 24, 23, 29, 48, 29, 34, 8, 41, 4, 37, 1, 27, 1, 5, 14, 35, 46, 19, 31, 14, 1, 7, 46, 7, 28, 24, 13, 3, 34, 7, 33, 28, 12, 3, 2, 10, 23, 37, 40, 23, 24, 7, 4, 26, 10, 6, 40, 47, 8, 5, 3, 25, 11, 32, 9, 21, 44, 41, 0, 40, 8, 27, 11, 15, 7, 35, 48, 24, 37, 39, 5, 15, 11, 26, 38, 24, 6, 18, 31, 2, 8, 31, 29, 25, 17, 0, 32, 28, 14, 7, 18, 23, 48, 20, 17, 37, 0, 43, 16, 42, 32, 32, 7, 39, 12, 44, 45, 23, 9, 21, 4, 38, 11, 37, 8, 32, 26, 50, 36, 45, 36, 4, 1, 2, 46, 2, 18, 40, 40, 5, 47, 0, 5, 41, 25, 5, 47, 31, 8, 8, 32, 5, 26, 9, 20, 6, 31, 45, 2, 0, 27, 9, 9, 50, 48, 40, 17, 20, 49, 3, 22, 35, 17, 37, 9, 24, 6, 3, 2, 49, 0, 2, 16, 4, 7, 16, 32, 16, 12, 30, 24, 12, 30, 26, 27, 15, 38, 35, 41, 29, 22, 20, 4, 13, 19, 36, 28, 23, 4, 40, 36, 16, 0, 31, 2, 12, 47, 33, 49, 23, 31, 14, 11, 33, 4, 40, 36, 25, 5, 14, 33, 24, 20, 13, 25, 20, 47, 2, 5, 28, 37, 30, 48, 47, 40, 40, 41, 10, 4, 29, 9, 18, 27, 1, 16, 12, 39, 15, 25, 12, 50, 21, 29, 49, 12, 10, 26, 48, 45, 50, 23, 0, 7, 8, 4, 33, 27, 40, 9, 0, 16, 47, 25, 10, 46, 23, 14, 2, 39, 42, 15, 48, 50, 2, 3, 39, 44, 5, 49, 20, 11, 15, 19, 35, 48, 29, 43, 47, 49, 30, 13, 44, 33, 18, 25, 14, 17, 28, 46, 17, 8, 15, 25, 14, 1, 21, 6, 34, 48, 23, 31, 36, 0, 37, 48, 36, 26, 46, 50, 15, 32, 35, 3, 16, 6, 26, 9, 3, 24, 23, 14, 48, 14, 36, 45, 32, 10, 9, 20, 40, 47, 21, 46, 22, 22, 30, 6, 29, 14, 47, 5, 50, 50, 49, 1, 43, 5, 18, 13, 8, 31, 14, 0, 0, 12, 18, 27, 43, 37, 18, 29, 24, 48, 33, 17, 24, 21, 13, 7, 40, 45, 1, 5, 15, 3, 10, 24, 22, 29, 17, 15, 0, 2, 5, 13, 40, 37, 10, 0, 15, 25, 13, 39, 17, 25, 36, 50, 36, 13, 33, 27, 10, 0, 14, 0, 31, 33, 33, 40, 26, 18, 3, 21, 42, 32, 39, 10, 3, 24, 42, 46, 39, 24, 43, 10, 27, 10, 10, 2, 7, 16, 46, 9, 10, 38, 37, 33, 47, 17, 50, 4, 6, 44, 14, 38, 7, 47, 23, 48, 43, 14, 27, 8, 31, 21, 40, 16, 28, 27, 23, 11, 40, 22, 34, 14, 48, 35, 27, 24, 4, 27, 43, 4, 23, 22, 50, 31, 42, 41, 21, 26, 44, 46, 10, 50, 13, 43, 35, 0, 45, 1, 4, 45, 27, 0, 14, 42, 11, 9, 6, 35, 38, 24, 29, 18, 10, 32, 23, 42, 37, 1, 3, 30, 38, 21, 44, 49, 10, 12, 33, 34, 21, 4, 32, 17, 26, 49, 19, 41, 40, 46, 10, 4, 18, 14, 20, 11, 8, 46, 38, 13, 48, 13, 16, 28, 30, 40, 47, 17, 23, 50, 15, 45, 31, 7, 28, 3, 27, 28, 44, 13, 5, 20, 8, 25, 15, 23, 14, 17, 31, 15, 3, 16, 16, 27, 2, 17, 15, 30, 44, 13, 16, 13, 18, 0, 24, 12, 23, 38, 7, 50, 34, 23, 41, 6, 37, 20, 32, 37, 49, 32, 13, 33, 47, 38, 11, 19, 48, 35, 30, 39, 6, 6, 5, 26, 47, 19, 22, 25, 42, 49, 50, 34, 9, 16, 49, 25, 35, 33, 19, 9, 45, 20, 41, 50, 3, 27, 39, 23, 5, 28, 32, 21, 44, 42, 41, 14, 25, 40, 39, 17, 15, 10, 34, 47, 10, 49, 35, 50, 37, 5, 0, 5, 32, 7, 24, 11, 34, 23, 19, 9, 1, 35, 2, 45, 7, 31, 5, 27, 11, 45, 2, 24, 11, 31, 38, 31, 49, 20, 19, 14, 15, 24, 41, 46, 40, 40, 4, 28, 49, 28, 43, 42, 22, 36, 25, 13, 31, 16, 37, 47, 28, 47, 27, 6, 5, 49, 29, 49, 5, 17, 37, 36, 35, 32, 39, 14, 37, 22, 12, 12, 31, 45, 33, 7, 17, 31, 35, 3, 44, 9, 10, 49, 27, 26, 31, 11, 22, 43, 43, 20, 35, 19, 6, 29, 16, 44, 11, 11, 31, 36, 43, 4, 34, 16, 15, 31, 9, 8, 1, 42, 23, 36, 27, 49, 20, 39, 3, 46, 40, 37, 9, 26, 40, 33, 29, 20, 47, 24, 0, 14, 30, 10, 31, 37, 36, 3, 7, 44, 6, 27, 35, 26, 9, 40, 46, 18, 31, 44, 35, 0, 46, 28, 21, 39, 28, 20, 38, 37, 39, 4, 7, 2, 19, 37, 40, 28, 40, 9, 27, 14, 34, 4, 43, 0, 35, 22, 8, 33, 29, 8, 46, 38, 13, 15, 13, 6, 8, 41, 8, 23, 2, 3, 10, 9, 30, 20, 19, 10, 18, 34, 15, 14, 8, 48, 36, 19, 10, 3, 26, 27, 14, 7, 46, 23, 5, 43, 35, 41, 15, 33, 44, 20, 20, 11, 18, 38, 48, 2, 13, 26, 28, 18, 48, 18, 15, 31, 9, 29, 42, 23, 24, 6, 42, 35, 27, 30, 3, 47, 30, 27, 16, 41, 49, 20, 31, 6, 16, 27, 34, 6, 42, 17, 11, 9, 35, 24, 50, 1, 13, 40, 14, 29, 31, 4, 8, 47, 39, 36, 34, 14, 13, 15, 34, 49, 17, 14, 19, 47, 2, 33, 44, 32, 33, 38, 28, 20, 16, 23, 20, 9, 37, 15, 14, 19, 1, 42, 27, 44, 30, 3, 41, 18, 3, 44, 19, 29, 4, 12, 32, 22, 45, 30, 28, 23, 7, 37, 21, 50, 28, 24, 33, 3, 31, 44, 31, 9, 16, 32, 0, 23, 18, 4, 50, 8, 30, 10, 12, 2, 17, 6, 8, 3, 9, 23, 10, 5, 23, 7, 36, 30, 18, 30, 43, 37, 8, 17, 38, 40, 30, 31, 7, 19, 17, 42, 45, 21, 42, 8, 38, 48, 16, 18, 7, 19, 40, 5, 10, 2, 9, 9, 19, 43, 1, 44, 29, 6, 47, 36, 20, 49, 27, 22, 35, 48, 19, 19, 6, 39, 8, 28, 7, 9, 27, 33, 34, 40, 20, 26, 1, 26, 16, 17, 28, 35, 14, 17, 22, 35, 23, 49, 38, 8, 9, 40, 16, 45, 20, 10, 13, 12, 14, 27, 10, 28, 39, 35, 44, 17, 16, 36, 28, 19, 12, 46, 16, 44, 20, 25, 5, 45, 4, 27, 0, 26, 37, 39, 24, 20, 18, 26, 46, 38, 21, 32, 30, 23, 6, 31, 38, 22, 34, 12, 1, 35, 42, 2, 10, 4, 28, 1, 17, 32, 48, 12, 45, 45, 37, 40, 20, 22, 16, 37, 37, 37, 12, 33, 39, 33, 49, 0, 9, 35, 21, 13, 5, 14, 9, 3, 22, 40, 32, 0, 31, 14, 37, 34, 42, 49, 19, 4, 47, 9, 49, 5, 47, 2, 17, 28, 23, 22, 48, 6, 32, 25, 13, 48, 48, 22, 27, 7, 19, 8, 48, 50, 30, 48, 26, 22, 41, 33, 20, 42, 12, 29, 3, 28, 31, 45, 2, 33, 48, 21, 7, 14, 15, 24, 25, 45, 1, 15, 5, 11, 14, 0, 45, 23, 14, 7, 0, 20, 26, 18, 22, 27, 37, 34, 10, 12, 22, 9, 14, 20, 43, 28, 47, 33, 10, 3, 23, 9, 34, 24, 2, 50, 13, 4, 5, 0, 19, 22, 33, 19, 37, 34, 25, 41, 34, 15, 39, 27, 50, 21, 48, 43, 16, 19, 41, 11, 5, 18, 8, 1, 0, 23, 8, 22, 5, 38, 16, 5, 15, 29, 40, 45, 15, 19, 27, 41, 6, 26, 37, 32, 26, 1, 37, 25, 43, 40, 46, 39, 37, 35, 5, 11, 39, 31, 15, 31, 42, 16, 43, 16, 39, 8, 22, 12, 35, 39, 11, 33, 45, 9, 34, 47, 38, 31, 11, 46, 7, 27, 45, 35, 35, 18, 22, 24, 43, 12, 37, 40, 48, 48, 22, 45, 45, 34, 17, 5, 22, 16, 28, 27, 32, 29, 46, 38, 19, 15, 38, 37, 11, 45, 10, 32, 36, 19, 6, 30, 23, 2, 27, 37, 21, 47, 6, 50, 45, 7, 19, 13, 29, 24, 25, 1, 48, 36, 2, 29, 33, 47, 28, 3, 2, 12, 14, 19, 21, 27, 9, 5, 0, 23, 40, 9, 47, 50, 8, 45, 48, 39, 44, 11, 41, 49, 35, 22, 49, 23, 19, 13, 20, 39, 28, 18, 49, 40, 9, 6, 29, 29, 17, 29, 18, 8, 37, 28, 25, 13, 23, 29, 21, 44, 34, 43, 43, 49, 13, 1, 34, 46, 33, 13, 49, 29, 0, 6, 7, 44, 36, 34, 38, 46, 11, 48, 44, 36, 25, 2, 45, 26, 26, 18, 18, 0, 38, 31, 31, 18, 34, 33, 18, 27, 35, 41, 40, 48, 37, 41, 50, 44, 35, 32, 35, 20, 47, 4, 45, 10, 35, 31, 11, 23, 20, 13, 35, 16, 16, 18, 4, 31, 15, 4, 27, 34, 4, 33, 49, 16, 4, 28, 5, 9, 19, 24, 12, 8, 12, 50, 40, 24, 28, 20, 19, 19, 37, 48, 23, 43, 16, 8, 22, 22, 18, 5, 21, 49, 14, 28, 11, 31, 37, 26, 18, 26, 15, 28, 35, 6, 20, 6, 0, 33, 0, 46, 15, 45, 18, 7, 33, 48, 20, 11, 11, 46, 24, 15, 42, 10, 18, 45, 15, 26, 22, 49, 47]\n",
      "[25. 26. 45. ... 22. 49. 47.]\n",
      "0.9\n"
     ]
    }
   ],
   "source": [
    "print(X_test.shape)\n",
    "predictions_prob= rnn.predict(X_test)\n",
    "y_pred=[np.argmax(i) for i in predictions_prob]\n",
    "print(y_pred)\n",
    "print(y_test)\n",
    "accuracy = accuracy_score(y_test, y_pred)\n",
    "print(accuracy)"
   ]
  },
  {
   "cell_type": "code",
   "execution_count": 25,
   "metadata": {},
   "outputs": [],
   "source": [
    "rnn.save('LSTM.keras') "
   ]
  },
  {
   "cell_type": "code",
   "execution_count": null,
   "metadata": {},
   "outputs": [],
   "source": []
  }
 ],
 "metadata": {
  "kernelspec": {
   "display_name": "Python 3",
   "language": "python",
   "name": "python3"
  },
  "language_info": {
   "codemirror_mode": {
    "name": "ipython",
    "version": 3
   },
   "file_extension": ".py",
   "mimetype": "text/x-python",
   "name": "python",
   "nbconvert_exporter": "python",
   "pygments_lexer": "ipython3",
   "version": "3.12.1"
  }
 },
 "nbformat": 4,
 "nbformat_minor": 2
}
